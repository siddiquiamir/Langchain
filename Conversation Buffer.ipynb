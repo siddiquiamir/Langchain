{
 "cells": [
  {
   "cell_type": "markdown",
   "id": "8b4dac85",
   "metadata": {},
   "source": [
    "# Conversation Buffer\n",
    "\n",
    "- This memory allows for storing messages and then extracts the messages in a variable."
   ]
  },
  {
   "cell_type": "code",
   "execution_count": 1,
   "id": "a69fae7a",
   "metadata": {},
   "outputs": [],
   "source": [
    "from langchain.memory import ConversationBufferMemory"
   ]
  },
  {
   "cell_type": "code",
   "execution_count": 2,
   "id": "8424e150",
   "metadata": {},
   "outputs": [],
   "source": [
    "memory = ConversationBufferMemory(return_messages=True)"
   ]
  },
  {
   "cell_type": "code",
   "execution_count": 3,
   "id": "41d1f4d4",
   "metadata": {},
   "outputs": [],
   "source": [
    "memory.save_context({\"input\": \"hi, how are you\"}, {\"output\": \"whats up\"})"
   ]
  },
  {
   "cell_type": "code",
   "execution_count": 4,
   "id": "35fa2d34",
   "metadata": {},
   "outputs": [
    {
     "data": {
      "text/plain": [
       "{'history': [HumanMessage(content='hi, how are you'),\n",
       "  AIMessage(content='whats up')]}"
      ]
     },
     "execution_count": 4,
     "metadata": {},
     "output_type": "execute_result"
    }
   ],
   "source": [
    "memory.load_memory_variables({})"
   ]
  },
  {
   "cell_type": "code",
   "execution_count": 5,
   "id": "4b047561",
   "metadata": {},
   "outputs": [],
   "source": [
    "# We can also get the history as a list of messages (this is useful if you are using this with a chat model).\n",
    "# memory = ConversationBufferMemory(return_messages=True)"
   ]
  },
  {
   "cell_type": "code",
   "execution_count": 6,
   "id": "f1920a12",
   "metadata": {},
   "outputs": [],
   "source": [
    "memory.save_context({\"input\": \"I need a help\"}, {\"output\": \"how can I help you\"})"
   ]
  },
  {
   "cell_type": "code",
   "execution_count": 8,
   "id": "14e857ce",
   "metadata": {},
   "outputs": [
    {
     "data": {
      "text/plain": [
       "{'history': [HumanMessage(content='hi, how are you'),\n",
       "  AIMessage(content='whats up'),\n",
       "  HumanMessage(content='I need a help'),\n",
       "  AIMessage(content='how can I help you'),\n",
       "  HumanMessage(content='hi, how are you'),\n",
       "  AIMessage(content='whats up')]}"
      ]
     },
     "execution_count": 8,
     "metadata": {},
     "output_type": "execute_result"
    }
   ],
   "source": [
    "memory.load_memory_variables({})"
   ]
  },
  {
   "cell_type": "code",
   "execution_count": null,
   "id": "538c4633",
   "metadata": {},
   "outputs": [],
   "source": []
  }
 ],
 "metadata": {
  "kernelspec": {
   "display_name": "Python 3 (ipykernel)",
   "language": "python",
   "name": "python3"
  },
  "language_info": {
   "codemirror_mode": {
    "name": "ipython",
    "version": 3
   },
   "file_extension": ".py",
   "mimetype": "text/x-python",
   "name": "python",
   "nbconvert_exporter": "python",
   "pygments_lexer": "ipython3",
   "version": "3.9.13"
  }
 },
 "nbformat": 4,
 "nbformat_minor": 5
}
