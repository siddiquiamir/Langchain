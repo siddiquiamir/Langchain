{
 "cells": [
  {
   "cell_type": "code",
   "execution_count": 1,
   "id": "3ce63e74",
   "metadata": {},
   "outputs": [],
   "source": [
    "import os\n",
    "from getpass import getpass\n",
    "from langchain import HuggingFaceHub"
   ]
  },
  {
   "cell_type": "code",
   "execution_count": 2,
   "id": "1b4281e7",
   "metadata": {},
   "outputs": [
    {
     "name": "stdout",
     "output_type": "stream",
     "text": [
      "········\n"
     ]
    }
   ],
   "source": [
    "HUGGINGFACEHUB_API_TOKEN = getpass()"
   ]
  },
  {
   "cell_type": "code",
   "execution_count": 3,
   "id": "61614453",
   "metadata": {},
   "outputs": [],
   "source": [
    "os.environ[\"HUGGINGFACEHUB_API_TOKEN\"] = HUGGINGFACEHUB_API_TOKEN"
   ]
  },
  {
   "cell_type": "code",
   "execution_count": 4,
   "id": "d516411d",
   "metadata": {},
   "outputs": [],
   "source": [
    "llm = HuggingFaceHub(repo_id= 'mistralai/Mixtral-8x7B-Instruct-v0.1',\n",
    "                           model_kwargs={'temperature': 0.6})"
   ]
  },
  {
   "cell_type": "code",
   "execution_count": 5,
   "id": "c467304c",
   "metadata": {},
   "outputs": [],
   "source": [
    "from langchain.prompts import PromptTemplate\n",
    "prompt = PromptTemplate(\n",
    "\n",
    "    input_variables=[\"products\"],\n",
    "\n",
    "    template=\"What would a brand be named that sells {products}?\",\n",
    "\n",
    ")"
   ]
  },
  {
   "cell_type": "code",
   "execution_count": 6,
   "id": "13e3985f",
   "metadata": {},
   "outputs": [],
   "source": [
    "from langchain.chains import LLMChain\n",
    "chain = LLMChain(llm=llm, prompt=prompt)"
   ]
  },
  {
   "cell_type": "code",
   "execution_count": 7,
   "id": "5faaff8d",
   "metadata": {
    "scrolled": true
   },
   "outputs": [
    {
     "name": "stdout",
     "output_type": "stream",
     "text": [
      "{'products': 'Computers and mobile phones', 'text': \"What would a brand be named that sells Computers and mobile phones? Here are some cool brand name ideas:-\\n\\n1. TechBliss: This name suggests a perfect harmony between technology and happiness. It would be perfect for a brand that sells high-quality electronic devices that bring joy and convenience to people's lives.\\n2. PixelPulse: This name combines the concept of pixels, which are the building blocks of digital images, with the idea of a heartbeat or pulse, which suggests life and energy. It would be a great\"}\n"
     ]
    }
   ],
   "source": [
    "print(chain.invoke(\"Computers and mobile phones\"))"
   ]
  },
  {
   "cell_type": "code",
   "execution_count": 8,
   "id": "d8c2a86b",
   "metadata": {},
   "outputs": [],
   "source": [
    "result = chain.invoke(\"Computers and mobile phones\")"
   ]
  },
  {
   "cell_type": "code",
   "execution_count": 9,
   "id": "f8a23d77",
   "metadata": {},
   "outputs": [
    {
     "name": "stdout",
     "output_type": "stream",
     "text": [
      "products: Computers and mobile phones\n",
      "text: What would a brand be named that sells Computers and mobile phones? Here are some cool brand name ideas:-\n",
      "\n",
      "1. TechBliss: This name suggests a perfect harmony between technology and happiness. It would be perfect for a brand that sells high-quality electronic devices that bring joy and convenience to people's lives.\n",
      "2. PixelPulse: This name combines the concept of pixels, which are the building blocks of digital images, with the idea of a heartbeat or pulse, which suggests life and energy. It would be a great\n"
     ]
    }
   ],
   "source": [
    "for key, value in result.items():\n",
    "    print(f\"{key}: {value}\")"
   ]
  },
  {
   "cell_type": "code",
   "execution_count": null,
   "id": "8ab1a72a",
   "metadata": {},
   "outputs": [],
   "source": []
  }
 ],
 "metadata": {
  "kernelspec": {
   "display_name": "Python 3 (ipykernel)",
   "language": "python",
   "name": "python3"
  },
  "language_info": {
   "codemirror_mode": {
    "name": "ipython",
    "version": 3
   },
   "file_extension": ".py",
   "mimetype": "text/x-python",
   "name": "python",
   "nbconvert_exporter": "python",
   "pygments_lexer": "ipython3",
   "version": "3.9.13"
  }
 },
 "nbformat": 4,
 "nbformat_minor": 5
}
