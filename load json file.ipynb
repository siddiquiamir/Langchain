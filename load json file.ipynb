{
 "cells": [
  {
   "cell_type": "markdown",
   "id": "82cb23c8",
   "metadata": {},
   "source": [
    "# Load JSON"
   ]
  },
  {
   "cell_type": "markdown",
   "id": "9f6f2ad1",
   "metadata": {},
   "source": [
    "- it stores data as key value pairs\n",
    "- The JSONLoader uses a specified jq schema to parse the JSON files. It uses the jq python package. "
   ]
  },
  {
   "cell_type": "code",
   "execution_count": 1,
   "id": "875cbc01",
   "metadata": {},
   "outputs": [],
   "source": [
    "from langchain_community.document_loaders import JSONLoader"
   ]
  },
  {
   "cell_type": "code",
   "execution_count": 2,
   "id": "98b9fea8",
   "metadata": {},
   "outputs": [],
   "source": [
    "import json\n",
    "from pathlib import Path\n",
    "from pprint import pprint"
   ]
  },
  {
   "cell_type": "code",
   "execution_count": 3,
   "id": "7806f468",
   "metadata": {},
   "outputs": [
    {
     "data": {
      "text/plain": [
       "'E:\\\\LangChain'"
      ]
     },
     "execution_count": 3,
     "metadata": {},
     "output_type": "execute_result"
    }
   ],
   "source": [
    "pwd"
   ]
  },
  {
   "cell_type": "code",
   "execution_count": 4,
   "id": "fdcfbb03",
   "metadata": {},
   "outputs": [],
   "source": [
    "file_path='sample_json_file.json'\n",
    "data = json.loads(Path(file_path).read_text())"
   ]
  },
  {
   "cell_type": "code",
   "execution_count": 5,
   "id": "50b2a060",
   "metadata": {},
   "outputs": [
    {
     "name": "stdout",
     "output_type": "stream",
     "text": [
      "{'address': {'city': 'New York', 'street': '123 Main St', 'zipcode': '10001'},\n",
      " 'age': 30,\n",
      " 'city': 'New York',\n",
      " 'email': 'john.doe@example.com',\n",
      " 'grades': [85, 92, 78, 90],\n",
      " 'is_student': False,\n",
      " 'name': 'John Doe'}\n"
     ]
    }
   ],
   "source": [
    "pprint(data)"
   ]
  },
  {
   "cell_type": "code",
   "execution_count": 6,
   "id": "1c1bdbb9",
   "metadata": {},
   "outputs": [
    {
     "data": {
      "text/plain": [
       "dict"
      ]
     },
     "execution_count": 6,
     "metadata": {},
     "output_type": "execute_result"
    }
   ],
   "source": [
    "type(data)"
   ]
  },
  {
   "cell_type": "code",
   "execution_count": null,
   "id": "d5d7e00e",
   "metadata": {},
   "outputs": [],
   "source": []
  }
 ],
 "metadata": {
  "kernelspec": {
   "display_name": "Python 3 (ipykernel)",
   "language": "python",
   "name": "python3"
  },
  "language_info": {
   "codemirror_mode": {
    "name": "ipython",
    "version": 3
   },
   "file_extension": ".py",
   "mimetype": "text/x-python",
   "name": "python",
   "nbconvert_exporter": "python",
   "pygments_lexer": "ipython3",
   "version": "3.9.13"
  }
 },
 "nbformat": 4,
 "nbformat_minor": 5
}
