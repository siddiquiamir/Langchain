{
 "cells": [
  {
   "cell_type": "markdown",
   "id": "2b7801df",
   "metadata": {},
   "source": [
    "# Load pdf file"
   ]
  },
  {
   "cell_type": "markdown",
   "id": "fa23dad0",
   "metadata": {},
   "source": [
    "- This covers how to load PDF documents into the Document format that we use downstream.\n",
    "\n"
   ]
  },
  {
   "cell_type": "code",
   "execution_count": 1,
   "id": "b9a0c84a",
   "metadata": {},
   "outputs": [],
   "source": [
    "from langchain_community.document_loaders import PyPDFLoader"
   ]
  },
  {
   "cell_type": "code",
   "execution_count": 2,
   "id": "b453004b",
   "metadata": {},
   "outputs": [],
   "source": [
    "loader = PyPDFLoader(\"pdf-sample.pdf\")"
   ]
  },
  {
   "cell_type": "code",
   "execution_count": 19,
   "id": "b7ca90f1",
   "metadata": {},
   "outputs": [],
   "source": [
    "pages = loader.load_and_split()"
   ]
  },
  {
   "cell_type": "code",
   "execution_count": 20,
   "id": "f38bd7fa",
   "metadata": {},
   "outputs": [
    {
     "data": {
      "text/plain": [
       "[Document(page_content=\"Adobe Acrobat PDF Files\\nAdobe® Portable Document Format (PDF) is a universal file format that preserves all\\nof the fonts, formatting, colours and graphics of any source document, regardless ofthe application and platform used to create it.\\nAdobe PDF is an ideal format for electronic document distribution as it overcomes the\\nproblems commonly encountered with electronic file sharing.\\n• Anyone, anywhere  can open a PDF file. All you need is the free Adobe Acrobat\\nReader. Recipients of other file formats sometimes can't open files because they\\ndon't have the applications used to create the documents.\\n• PDF files always print correctly  on any printing device.\\n• PDF files always display exactly  as created, regardless of fonts, software, and\\noperating systems. Fonts, and graphics are not lost due to platform, software, and\\nversion incompatibilities.\\n• The free Acrobat Reader is easy to download and can be freely distributed by\\nanyone.\\n• Compact PDF files are smaller than their source files and download a\\npage at a time for fast display on the Web.\", metadata={'source': 'pdf-sample.pdf', 'page': 0})]"
      ]
     },
     "execution_count": 20,
     "metadata": {},
     "output_type": "execute_result"
    }
   ],
   "source": [
    "pages"
   ]
  },
  {
   "cell_type": "code",
   "execution_count": 21,
   "id": "1868dd52",
   "metadata": {},
   "outputs": [
    {
     "data": {
      "text/plain": [
       "list"
      ]
     },
     "execution_count": 21,
     "metadata": {},
     "output_type": "execute_result"
    }
   ],
   "source": [
    "type(pages)"
   ]
  },
  {
   "cell_type": "code",
   "execution_count": 23,
   "id": "01b11775",
   "metadata": {},
   "outputs": [
    {
     "name": "stdout",
     "output_type": "stream",
     "text": [
      "Adobe Acrobat PDF Files\n",
      "Adobe® Portable Document Format (PDF) is a universal file format that preserves all\n",
      "of the fonts, formatting, colours and graphics of any source document, regardless ofthe application and platform used to create it.\n",
      "Adobe PDF is an ideal format for electronic document distribution as it overcomes the\n",
      "problems commonly encountered with electronic file sharing.\n",
      "• Anyone, anywhere  can open a PDF file. All you need is the free Adobe Acrobat\n",
      "Reader. Recipients of other file formats sometimes can't open files because they\n",
      "don't have the applications used to create the documents.\n",
      "• PDF files always print correctly  on any printing device.\n",
      "• PDF files always display exactly  as created, regardless of fonts, software, and\n",
      "operating systems. Fonts, and graphics are not lost due to platform, software, and\n",
      "version incompatibilities.\n",
      "• The free Acrobat Reader is easy to download and can be freely distributed by\n",
      "anyone.\n",
      "• Compact PDF files are smaller than their source files and download a\n",
      "page at a time for fast display on the Web.\n"
     ]
    }
   ],
   "source": [
    "print(pages[0].page_content)"
   ]
  },
  {
   "cell_type": "code",
   "execution_count": null,
   "id": "6b104abc",
   "metadata": {},
   "outputs": [],
   "source": []
  }
 ],
 "metadata": {
  "kernelspec": {
   "display_name": "Python 3 (ipykernel)",
   "language": "python",
   "name": "python3"
  },
  "language_info": {
   "codemirror_mode": {
    "name": "ipython",
    "version": 3
   },
   "file_extension": ".py",
   "mimetype": "text/x-python",
   "name": "python",
   "nbconvert_exporter": "python",
   "pygments_lexer": "ipython3",
   "version": "3.9.13"
  }
 },
 "nbformat": 4,
 "nbformat_minor": 5
}
