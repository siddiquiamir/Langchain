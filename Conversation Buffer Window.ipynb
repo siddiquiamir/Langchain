{
 "cells": [
  {
   "cell_type": "markdown",
   "id": "6f0a2650",
   "metadata": {},
   "source": [
    "# Conversation Buffer Window\n",
    "- ConversationBufferWindowMemory keeps a list of the interactions of the conversation over time. It only uses the \n",
    "- last K interactions. This can be useful for keeping a sliding window of the most recent interactions, so the buffer \n",
    "- does not get too large."
   ]
  },
  {
   "cell_type": "code",
   "execution_count": 7,
   "id": "ad0d57d8",
   "metadata": {},
   "outputs": [],
   "source": [
    "from langchain.memory import ConversationBufferWindowMemory\n",
    "memory = ConversationBufferWindowMemory(k=1, return_messages=True)"
   ]
  },
  {
   "cell_type": "code",
   "execution_count": 8,
   "id": "227e53ed",
   "metadata": {},
   "outputs": [],
   "source": [
    "memory.save_context({\"input\": \"hi\"}, {\"output\": \"whats up\"})"
   ]
  },
  {
   "cell_type": "code",
   "execution_count": 9,
   "id": "9bfe5785",
   "metadata": {},
   "outputs": [],
   "source": [
    "memory.save_context({\"input\": \"not much you\"}, {\"output\": \"not much\"})"
   ]
  },
  {
   "cell_type": "code",
   "execution_count": 10,
   "id": "de4c8578",
   "metadata": {},
   "outputs": [],
   "source": [
    "memory.save_context({\"input\": \"how are you\"}, {\"output\": \"i'm fine thanks\"})"
   ]
  },
  {
   "cell_type": "code",
   "execution_count": 11,
   "id": "d46efe89",
   "metadata": {},
   "outputs": [],
   "source": [
    "memory.save_context({\"input\": \"have a nice day\"}, {\"output\": \"thank you\"})"
   ]
  },
  {
   "cell_type": "code",
   "execution_count": 12,
   "id": "69fa5935",
   "metadata": {},
   "outputs": [
    {
     "data": {
      "text/plain": [
       "{'history': [HumanMessage(content='have a nice day'),\n",
       "  AIMessage(content='thank you')]}"
      ]
     },
     "execution_count": 12,
     "metadata": {},
     "output_type": "execute_result"
    }
   ],
   "source": [
    "memory.load_memory_variables({})"
   ]
  },
  {
   "cell_type": "code",
   "execution_count": null,
   "id": "cde0f1db",
   "metadata": {},
   "outputs": [],
   "source": []
  }
 ],
 "metadata": {
  "kernelspec": {
   "display_name": "Python 3 (ipykernel)",
   "language": "python",
   "name": "python3"
  },
  "language_info": {
   "codemirror_mode": {
    "name": "ipython",
    "version": 3
   },
   "file_extension": ".py",
   "mimetype": "text/x-python",
   "name": "python",
   "nbconvert_exporter": "python",
   "pygments_lexer": "ipython3",
   "version": "3.9.13"
  }
 },
 "nbformat": 4,
 "nbformat_minor": 5
}
