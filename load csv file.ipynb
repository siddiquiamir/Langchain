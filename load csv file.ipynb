{
 "cells": [
  {
   "cell_type": "markdown",
   "id": "e1d572d4",
   "metadata": {},
   "source": [
    "# load csv file"
   ]
  },
  {
   "cell_type": "markdown",
   "id": "1e8455a3",
   "metadata": {},
   "source": [
    "- Use document loaders to load data from a source as Document's\n",
    "- A Document is a piece of text and associated metadata.\n",
    "- For example, there are document loaders for loading a simple .txt file, for loading the text contents of any web page, or even for loading a transcript of a YouTube video\n",
    "- Document loaders provide a \"load\" method for loading data as documents from a configured source. They optionally implement a \"lazy load\" as well for lazily loading data into memory."
   ]
  },
  {
   "cell_type": "code",
   "execution_count": null,
   "id": "f0191b1d",
   "metadata": {},
   "outputs": [],
   "source": []
  },
  {
   "cell_type": "code",
   "execution_count": 1,
   "id": "042e38a6",
   "metadata": {},
   "outputs": [],
   "source": [
    "from langchain_community.document_loaders.csv_loader import CSVLoader"
   ]
  },
  {
   "cell_type": "code",
   "execution_count": 2,
   "id": "6272e4e5",
   "metadata": {},
   "outputs": [],
   "source": [
    "loader = CSVLoader(file_path='Iris.csv')"
   ]
  },
  {
   "cell_type": "code",
   "execution_count": 3,
   "id": "45dd3f7b",
   "metadata": {},
   "outputs": [],
   "source": [
    "# lazy loader\n",
    "data = loader.load()"
   ]
  },
  {
   "cell_type": "code",
   "execution_count": 4,
   "id": "ccbb7bbd",
   "metadata": {},
   "outputs": [
    {
     "data": {
      "text/plain": [
       "[Document(page_content='Id: 1\\nSepalLengthCm: 5.1\\nSepalWidthCm: 3.5\\nPetalLengthCm: 1.4\\nPetalWidthCm: 0.2\\nSpecies: Iris-setosa', metadata={'source': 'Iris.csv', 'row': 0}),\n",
       " Document(page_content='Id: 2\\nSepalLengthCm: 4.9\\nSepalWidthCm: 3.0\\nPetalLengthCm: 1.4\\nPetalWidthCm: 0.2\\nSpecies: Iris-setosa', metadata={'source': 'Iris.csv', 'row': 1}),\n",
       " Document(page_content='Id: 3\\nSepalLengthCm: 4.7\\nSepalWidthCm: 3.2\\nPetalLengthCm: 1.3\\nPetalWidthCm: 0.2\\nSpecies: Iris-setosa', metadata={'source': 'Iris.csv', 'row': 2}),\n",
       " Document(page_content='Id: 4\\nSepalLengthCm: 4.6\\nSepalWidthCm: 3.1\\nPetalLengthCm: 1.5\\nPetalWidthCm: 0.2\\nSpecies: Iris-setosa', metadata={'source': 'Iris.csv', 'row': 3}),\n",
       " Document(page_content='Id: 5\\nSepalLengthCm: 5.0\\nSepalWidthCm: 3.6\\nPetalLengthCm: 1.4\\nPetalWidthCm: 0.2\\nSpecies: Iris-setosa', metadata={'source': 'Iris.csv', 'row': 4}),\n",
       " Document(page_content='Id: 6\\nSepalLengthCm: 5.4\\nSepalWidthCm: 3.9\\nPetalLengthCm: 1.7\\nPetalWidthCm: 0.4\\nSpecies: Iris-setosa', metadata={'source': 'Iris.csv', 'row': 5}),\n",
       " Document(page_content='Id: 7\\nSepalLengthCm: 4.6\\nSepalWidthCm: 3.4\\nPetalLengthCm: 1.4\\nPetalWidthCm: 0.3\\nSpecies: Iris-setosa', metadata={'source': 'Iris.csv', 'row': 6}),\n",
       " Document(page_content='Id: 8\\nSepalLengthCm: 5.0\\nSepalWidthCm: 3.4\\nPetalLengthCm: 1.5\\nPetalWidthCm: 0.2\\nSpecies: Iris-setosa', metadata={'source': 'Iris.csv', 'row': 7}),\n",
       " Document(page_content='Id: 9\\nSepalLengthCm: 4.4\\nSepalWidthCm: 2.9\\nPetalLengthCm: 1.4\\nPetalWidthCm: 0.2\\nSpecies: Iris-setosa', metadata={'source': 'Iris.csv', 'row': 8}),\n",
       " Document(page_content='Id: 10\\nSepalLengthCm: 4.9\\nSepalWidthCm: 3.1\\nPetalLengthCm: 1.5\\nPetalWidthCm: 0.1\\nSpecies: Iris-setosa', metadata={'source': 'Iris.csv', 'row': 9}),\n",
       " Document(page_content='Id: 11\\nSepalLengthCm: 5.4\\nSepalWidthCm: 3.7\\nPetalLengthCm: 1.5\\nPetalWidthCm: 0.2\\nSpecies: Iris-setosa', metadata={'source': 'Iris.csv', 'row': 10}),\n",
       " Document(page_content='Id: 12\\nSepalLengthCm: 4.8\\nSepalWidthCm: 3.4\\nPetalLengthCm: 1.6\\nPetalWidthCm: 0.2\\nSpecies: Iris-setosa', metadata={'source': 'Iris.csv', 'row': 11}),\n",
       " Document(page_content='Id: 13\\nSepalLengthCm: 4.8\\nSepalWidthCm: 3.0\\nPetalLengthCm: 1.4\\nPetalWidthCm: 0.1\\nSpecies: Iris-setosa', metadata={'source': 'Iris.csv', 'row': 12}),\n",
       " Document(page_content='Id: 14\\nSepalLengthCm: 4.3\\nSepalWidthCm: 3.0\\nPetalLengthCm: 1.1\\nPetalWidthCm: 0.1\\nSpecies: Iris-setosa', metadata={'source': 'Iris.csv', 'row': 13}),\n",
       " Document(page_content='Id: 15\\nSepalLengthCm: 5.8\\nSepalWidthCm: 4.0\\nPetalLengthCm: 1.2\\nPetalWidthCm: 0.2\\nSpecies: Iris-setosa', metadata={'source': 'Iris.csv', 'row': 14}),\n",
       " Document(page_content='Id: 16\\nSepalLengthCm: 5.7\\nSepalWidthCm: 4.4\\nPetalLengthCm: 1.5\\nPetalWidthCm: 0.4\\nSpecies: Iris-setosa', metadata={'source': 'Iris.csv', 'row': 15}),\n",
       " Document(page_content='Id: 17\\nSepalLengthCm: 5.4\\nSepalWidthCm: 3.9\\nPetalLengthCm: 1.3\\nPetalWidthCm: 0.4\\nSpecies: Iris-setosa', metadata={'source': 'Iris.csv', 'row': 16}),\n",
       " Document(page_content='Id: 18\\nSepalLengthCm: 5.1\\nSepalWidthCm: 3.5\\nPetalLengthCm: 1.4\\nPetalWidthCm: 0.3\\nSpecies: Iris-setosa', metadata={'source': 'Iris.csv', 'row': 17}),\n",
       " Document(page_content='Id: 19\\nSepalLengthCm: 5.7\\nSepalWidthCm: 3.8\\nPetalLengthCm: 1.7\\nPetalWidthCm: 0.3\\nSpecies: Iris-setosa', metadata={'source': 'Iris.csv', 'row': 18}),\n",
       " Document(page_content='Id: 20\\nSepalLengthCm: 5.1\\nSepalWidthCm: 3.8\\nPetalLengthCm: 1.5\\nPetalWidthCm: 0.3\\nSpecies: Iris-setosa', metadata={'source': 'Iris.csv', 'row': 19}),\n",
       " Document(page_content='Id: 21\\nSepalLengthCm: 5.4\\nSepalWidthCm: 3.4\\nPetalLengthCm: 1.7\\nPetalWidthCm: 0.2\\nSpecies: Iris-setosa', metadata={'source': 'Iris.csv', 'row': 20}),\n",
       " Document(page_content='Id: 22\\nSepalLengthCm: 5.1\\nSepalWidthCm: 3.7\\nPetalLengthCm: 1.5\\nPetalWidthCm: 0.4\\nSpecies: Iris-setosa', metadata={'source': 'Iris.csv', 'row': 21}),\n",
       " Document(page_content='Id: 23\\nSepalLengthCm: 4.6\\nSepalWidthCm: 3.6\\nPetalLengthCm: 1.0\\nPetalWidthCm: 0.2\\nSpecies: Iris-setosa', metadata={'source': 'Iris.csv', 'row': 22}),\n",
       " Document(page_content='Id: 24\\nSepalLengthCm: 5.1\\nSepalWidthCm: 3.3\\nPetalLengthCm: 1.7\\nPetalWidthCm: 0.5\\nSpecies: Iris-setosa', metadata={'source': 'Iris.csv', 'row': 23}),\n",
       " Document(page_content='Id: 25\\nSepalLengthCm: 4.8\\nSepalWidthCm: 3.4\\nPetalLengthCm: 1.9\\nPetalWidthCm: 0.2\\nSpecies: Iris-setosa', metadata={'source': 'Iris.csv', 'row': 24}),\n",
       " Document(page_content='Id: 26\\nSepalLengthCm: 5.0\\nSepalWidthCm: 3.0\\nPetalLengthCm: 1.6\\nPetalWidthCm: 0.2\\nSpecies: Iris-setosa', metadata={'source': 'Iris.csv', 'row': 25}),\n",
       " Document(page_content='Id: 27\\nSepalLengthCm: 5.0\\nSepalWidthCm: 3.4\\nPetalLengthCm: 1.6\\nPetalWidthCm: 0.4\\nSpecies: Iris-setosa', metadata={'source': 'Iris.csv', 'row': 26}),\n",
       " Document(page_content='Id: 28\\nSepalLengthCm: 5.2\\nSepalWidthCm: 3.5\\nPetalLengthCm: 1.5\\nPetalWidthCm: 0.2\\nSpecies: Iris-setosa', metadata={'source': 'Iris.csv', 'row': 27}),\n",
       " Document(page_content='Id: 29\\nSepalLengthCm: 5.2\\nSepalWidthCm: 3.4\\nPetalLengthCm: 1.4\\nPetalWidthCm: 0.2\\nSpecies: Iris-setosa', metadata={'source': 'Iris.csv', 'row': 28}),\n",
       " Document(page_content='Id: 30\\nSepalLengthCm: 4.7\\nSepalWidthCm: 3.2\\nPetalLengthCm: 1.6\\nPetalWidthCm: 0.2\\nSpecies: Iris-setosa', metadata={'source': 'Iris.csv', 'row': 29}),\n",
       " Document(page_content='Id: 31\\nSepalLengthCm: 4.8\\nSepalWidthCm: 3.1\\nPetalLengthCm: 1.6\\nPetalWidthCm: 0.2\\nSpecies: Iris-setosa', metadata={'source': 'Iris.csv', 'row': 30}),\n",
       " Document(page_content='Id: 32\\nSepalLengthCm: 5.4\\nSepalWidthCm: 3.4\\nPetalLengthCm: 1.5\\nPetalWidthCm: 0.4\\nSpecies: Iris-setosa', metadata={'source': 'Iris.csv', 'row': 31}),\n",
       " Document(page_content='Id: 33\\nSepalLengthCm: 5.2\\nSepalWidthCm: 4.1\\nPetalLengthCm: 1.5\\nPetalWidthCm: 0.1\\nSpecies: Iris-setosa', metadata={'source': 'Iris.csv', 'row': 32}),\n",
       " Document(page_content='Id: 34\\nSepalLengthCm: 5.5\\nSepalWidthCm: 4.2\\nPetalLengthCm: 1.4\\nPetalWidthCm: 0.2\\nSpecies: Iris-setosa', metadata={'source': 'Iris.csv', 'row': 33}),\n",
       " Document(page_content='Id: 35\\nSepalLengthCm: 4.9\\nSepalWidthCm: 3.1\\nPetalLengthCm: 1.5\\nPetalWidthCm: 0.1\\nSpecies: Iris-setosa', metadata={'source': 'Iris.csv', 'row': 34}),\n",
       " Document(page_content='Id: 36\\nSepalLengthCm: 5.0\\nSepalWidthCm: 3.2\\nPetalLengthCm: 1.2\\nPetalWidthCm: 0.2\\nSpecies: Iris-setosa', metadata={'source': 'Iris.csv', 'row': 35}),\n",
       " Document(page_content='Id: 37\\nSepalLengthCm: 5.5\\nSepalWidthCm: 3.5\\nPetalLengthCm: 1.3\\nPetalWidthCm: 0.2\\nSpecies: Iris-setosa', metadata={'source': 'Iris.csv', 'row': 36}),\n",
       " Document(page_content='Id: 38\\nSepalLengthCm: 4.9\\nSepalWidthCm: 3.1\\nPetalLengthCm: 1.5\\nPetalWidthCm: 0.1\\nSpecies: Iris-setosa', metadata={'source': 'Iris.csv', 'row': 37}),\n",
       " Document(page_content='Id: 39\\nSepalLengthCm: 4.4\\nSepalWidthCm: 3.0\\nPetalLengthCm: 1.3\\nPetalWidthCm: 0.2\\nSpecies: Iris-setosa', metadata={'source': 'Iris.csv', 'row': 38}),\n",
       " Document(page_content='Id: 40\\nSepalLengthCm: 5.1\\nSepalWidthCm: 3.4\\nPetalLengthCm: 1.5\\nPetalWidthCm: 0.2\\nSpecies: Iris-setosa', metadata={'source': 'Iris.csv', 'row': 39}),\n",
       " Document(page_content='Id: 41\\nSepalLengthCm: 5.0\\nSepalWidthCm: 3.5\\nPetalLengthCm: 1.3\\nPetalWidthCm: 0.3\\nSpecies: Iris-setosa', metadata={'source': 'Iris.csv', 'row': 40}),\n",
       " Document(page_content='Id: 42\\nSepalLengthCm: 4.5\\nSepalWidthCm: 2.3\\nPetalLengthCm: 1.3\\nPetalWidthCm: 0.3\\nSpecies: Iris-setosa', metadata={'source': 'Iris.csv', 'row': 41}),\n",
       " Document(page_content='Id: 43\\nSepalLengthCm: 4.4\\nSepalWidthCm: 3.2\\nPetalLengthCm: 1.3\\nPetalWidthCm: 0.2\\nSpecies: Iris-setosa', metadata={'source': 'Iris.csv', 'row': 42}),\n",
       " Document(page_content='Id: 44\\nSepalLengthCm: 5.0\\nSepalWidthCm: 3.5\\nPetalLengthCm: 1.6\\nPetalWidthCm: 0.6\\nSpecies: Iris-setosa', metadata={'source': 'Iris.csv', 'row': 43}),\n",
       " Document(page_content='Id: 45\\nSepalLengthCm: 5.1\\nSepalWidthCm: 3.8\\nPetalLengthCm: 1.9\\nPetalWidthCm: 0.4\\nSpecies: Iris-setosa', metadata={'source': 'Iris.csv', 'row': 44}),\n",
       " Document(page_content='Id: 46\\nSepalLengthCm: 4.8\\nSepalWidthCm: 3.0\\nPetalLengthCm: 1.4\\nPetalWidthCm: 0.3\\nSpecies: Iris-setosa', metadata={'source': 'Iris.csv', 'row': 45}),\n",
       " Document(page_content='Id: 47\\nSepalLengthCm: 5.1\\nSepalWidthCm: 3.8\\nPetalLengthCm: 1.6\\nPetalWidthCm: 0.2\\nSpecies: Iris-setosa', metadata={'source': 'Iris.csv', 'row': 46}),\n",
       " Document(page_content='Id: 48\\nSepalLengthCm: 4.6\\nSepalWidthCm: 3.2\\nPetalLengthCm: 1.4\\nPetalWidthCm: 0.2\\nSpecies: Iris-setosa', metadata={'source': 'Iris.csv', 'row': 47}),\n",
       " Document(page_content='Id: 49\\nSepalLengthCm: 5.3\\nSepalWidthCm: 3.7\\nPetalLengthCm: 1.5\\nPetalWidthCm: 0.2\\nSpecies: Iris-setosa', metadata={'source': 'Iris.csv', 'row': 48}),\n",
       " Document(page_content='Id: 50\\nSepalLengthCm: 5.0\\nSepalWidthCm: 3.3\\nPetalLengthCm: 1.4\\nPetalWidthCm: 0.2\\nSpecies: Iris-setosa', metadata={'source': 'Iris.csv', 'row': 49}),\n",
       " Document(page_content='Id: 51\\nSepalLengthCm: 7.0\\nSepalWidthCm: 3.2\\nPetalLengthCm: 4.7\\nPetalWidthCm: 1.4\\nSpecies: Iris-versicolor', metadata={'source': 'Iris.csv', 'row': 50}),\n",
       " Document(page_content='Id: 52\\nSepalLengthCm: 6.4\\nSepalWidthCm: 3.2\\nPetalLengthCm: 4.5\\nPetalWidthCm: 1.5\\nSpecies: Iris-versicolor', metadata={'source': 'Iris.csv', 'row': 51}),\n",
       " Document(page_content='Id: 53\\nSepalLengthCm: 6.9\\nSepalWidthCm: 3.1\\nPetalLengthCm: 4.9\\nPetalWidthCm: 1.5\\nSpecies: Iris-versicolor', metadata={'source': 'Iris.csv', 'row': 52}),\n",
       " Document(page_content='Id: 54\\nSepalLengthCm: 5.5\\nSepalWidthCm: 2.3\\nPetalLengthCm: 4.0\\nPetalWidthCm: 1.3\\nSpecies: Iris-versicolor', metadata={'source': 'Iris.csv', 'row': 53}),\n",
       " Document(page_content='Id: 55\\nSepalLengthCm: 6.5\\nSepalWidthCm: 2.8\\nPetalLengthCm: 4.6\\nPetalWidthCm: 1.5\\nSpecies: Iris-versicolor', metadata={'source': 'Iris.csv', 'row': 54}),\n",
       " Document(page_content='Id: 56\\nSepalLengthCm: 5.7\\nSepalWidthCm: 2.8\\nPetalLengthCm: 4.5\\nPetalWidthCm: 1.3\\nSpecies: Iris-versicolor', metadata={'source': 'Iris.csv', 'row': 55}),\n",
       " Document(page_content='Id: 57\\nSepalLengthCm: 6.3\\nSepalWidthCm: 3.3\\nPetalLengthCm: 4.7\\nPetalWidthCm: 1.6\\nSpecies: Iris-versicolor', metadata={'source': 'Iris.csv', 'row': 56}),\n",
       " Document(page_content='Id: 58\\nSepalLengthCm: 4.9\\nSepalWidthCm: 2.4\\nPetalLengthCm: 3.3\\nPetalWidthCm: 1.0\\nSpecies: Iris-versicolor', metadata={'source': 'Iris.csv', 'row': 57}),\n",
       " Document(page_content='Id: 59\\nSepalLengthCm: 6.6\\nSepalWidthCm: 2.9\\nPetalLengthCm: 4.6\\nPetalWidthCm: 1.3\\nSpecies: Iris-versicolor', metadata={'source': 'Iris.csv', 'row': 58}),\n",
       " Document(page_content='Id: 60\\nSepalLengthCm: 5.2\\nSepalWidthCm: 2.7\\nPetalLengthCm: 3.9\\nPetalWidthCm: 1.4\\nSpecies: Iris-versicolor', metadata={'source': 'Iris.csv', 'row': 59}),\n",
       " Document(page_content='Id: 61\\nSepalLengthCm: 5.0\\nSepalWidthCm: 2.0\\nPetalLengthCm: 3.5\\nPetalWidthCm: 1.0\\nSpecies: Iris-versicolor', metadata={'source': 'Iris.csv', 'row': 60}),\n",
       " Document(page_content='Id: 62\\nSepalLengthCm: 5.9\\nSepalWidthCm: 3.0\\nPetalLengthCm: 4.2\\nPetalWidthCm: 1.5\\nSpecies: Iris-versicolor', metadata={'source': 'Iris.csv', 'row': 61}),\n",
       " Document(page_content='Id: 63\\nSepalLengthCm: 6.0\\nSepalWidthCm: 2.2\\nPetalLengthCm: 4.0\\nPetalWidthCm: 1.0\\nSpecies: Iris-versicolor', metadata={'source': 'Iris.csv', 'row': 62}),\n",
       " Document(page_content='Id: 64\\nSepalLengthCm: 6.1\\nSepalWidthCm: 2.9\\nPetalLengthCm: 4.7\\nPetalWidthCm: 1.4\\nSpecies: Iris-versicolor', metadata={'source': 'Iris.csv', 'row': 63}),\n",
       " Document(page_content='Id: 65\\nSepalLengthCm: 5.6\\nSepalWidthCm: 2.9\\nPetalLengthCm: 3.6\\nPetalWidthCm: 1.3\\nSpecies: Iris-versicolor', metadata={'source': 'Iris.csv', 'row': 64}),\n",
       " Document(page_content='Id: 66\\nSepalLengthCm: 6.7\\nSepalWidthCm: 3.1\\nPetalLengthCm: 4.4\\nPetalWidthCm: 1.4\\nSpecies: Iris-versicolor', metadata={'source': 'Iris.csv', 'row': 65}),\n",
       " Document(page_content='Id: 67\\nSepalLengthCm: 5.6\\nSepalWidthCm: 3.0\\nPetalLengthCm: 4.5\\nPetalWidthCm: 1.5\\nSpecies: Iris-versicolor', metadata={'source': 'Iris.csv', 'row': 66}),\n",
       " Document(page_content='Id: 68\\nSepalLengthCm: 5.8\\nSepalWidthCm: 2.7\\nPetalLengthCm: 4.1\\nPetalWidthCm: 1.0\\nSpecies: Iris-versicolor', metadata={'source': 'Iris.csv', 'row': 67}),\n",
       " Document(page_content='Id: 69\\nSepalLengthCm: 6.2\\nSepalWidthCm: 2.2\\nPetalLengthCm: 4.5\\nPetalWidthCm: 1.5\\nSpecies: Iris-versicolor', metadata={'source': 'Iris.csv', 'row': 68}),\n",
       " Document(page_content='Id: 70\\nSepalLengthCm: 5.6\\nSepalWidthCm: 2.5\\nPetalLengthCm: 3.9\\nPetalWidthCm: 1.1\\nSpecies: Iris-versicolor', metadata={'source': 'Iris.csv', 'row': 69}),\n",
       " Document(page_content='Id: 71\\nSepalLengthCm: 5.9\\nSepalWidthCm: 3.2\\nPetalLengthCm: 4.8\\nPetalWidthCm: 1.8\\nSpecies: Iris-versicolor', metadata={'source': 'Iris.csv', 'row': 70}),\n",
       " Document(page_content='Id: 72\\nSepalLengthCm: 6.1\\nSepalWidthCm: 2.8\\nPetalLengthCm: 4.0\\nPetalWidthCm: 1.3\\nSpecies: Iris-versicolor', metadata={'source': 'Iris.csv', 'row': 71}),\n",
       " Document(page_content='Id: 73\\nSepalLengthCm: 6.3\\nSepalWidthCm: 2.5\\nPetalLengthCm: 4.9\\nPetalWidthCm: 1.5\\nSpecies: Iris-versicolor', metadata={'source': 'Iris.csv', 'row': 72}),\n",
       " Document(page_content='Id: 74\\nSepalLengthCm: 6.1\\nSepalWidthCm: 2.8\\nPetalLengthCm: 4.7\\nPetalWidthCm: 1.2\\nSpecies: Iris-versicolor', metadata={'source': 'Iris.csv', 'row': 73}),\n",
       " Document(page_content='Id: 75\\nSepalLengthCm: 6.4\\nSepalWidthCm: 2.9\\nPetalLengthCm: 4.3\\nPetalWidthCm: 1.3\\nSpecies: Iris-versicolor', metadata={'source': 'Iris.csv', 'row': 74}),\n",
       " Document(page_content='Id: 76\\nSepalLengthCm: 6.6\\nSepalWidthCm: 3.0\\nPetalLengthCm: 4.4\\nPetalWidthCm: 1.4\\nSpecies: Iris-versicolor', metadata={'source': 'Iris.csv', 'row': 75}),\n",
       " Document(page_content='Id: 77\\nSepalLengthCm: 6.8\\nSepalWidthCm: 2.8\\nPetalLengthCm: 4.8\\nPetalWidthCm: 1.4\\nSpecies: Iris-versicolor', metadata={'source': 'Iris.csv', 'row': 76}),\n",
       " Document(page_content='Id: 78\\nSepalLengthCm: 6.7\\nSepalWidthCm: 3.0\\nPetalLengthCm: 5.0\\nPetalWidthCm: 1.7\\nSpecies: Iris-versicolor', metadata={'source': 'Iris.csv', 'row': 77}),\n",
       " Document(page_content='Id: 79\\nSepalLengthCm: 6.0\\nSepalWidthCm: 2.9\\nPetalLengthCm: 4.5\\nPetalWidthCm: 1.5\\nSpecies: Iris-versicolor', metadata={'source': 'Iris.csv', 'row': 78}),\n",
       " Document(page_content='Id: 80\\nSepalLengthCm: 5.7\\nSepalWidthCm: 2.6\\nPetalLengthCm: 3.5\\nPetalWidthCm: 1.0\\nSpecies: Iris-versicolor', metadata={'source': 'Iris.csv', 'row': 79}),\n",
       " Document(page_content='Id: 81\\nSepalLengthCm: 5.5\\nSepalWidthCm: 2.4\\nPetalLengthCm: 3.8\\nPetalWidthCm: 1.1\\nSpecies: Iris-versicolor', metadata={'source': 'Iris.csv', 'row': 80}),\n",
       " Document(page_content='Id: 82\\nSepalLengthCm: 5.5\\nSepalWidthCm: 2.4\\nPetalLengthCm: 3.7\\nPetalWidthCm: 1.0\\nSpecies: Iris-versicolor', metadata={'source': 'Iris.csv', 'row': 81}),\n",
       " Document(page_content='Id: 83\\nSepalLengthCm: 5.8\\nSepalWidthCm: 2.7\\nPetalLengthCm: 3.9\\nPetalWidthCm: 1.2\\nSpecies: Iris-versicolor', metadata={'source': 'Iris.csv', 'row': 82}),\n",
       " Document(page_content='Id: 84\\nSepalLengthCm: 6.0\\nSepalWidthCm: 2.7\\nPetalLengthCm: 5.1\\nPetalWidthCm: 1.6\\nSpecies: Iris-versicolor', metadata={'source': 'Iris.csv', 'row': 83}),\n",
       " Document(page_content='Id: 85\\nSepalLengthCm: 5.4\\nSepalWidthCm: 3.0\\nPetalLengthCm: 4.5\\nPetalWidthCm: 1.5\\nSpecies: Iris-versicolor', metadata={'source': 'Iris.csv', 'row': 84}),\n",
       " Document(page_content='Id: 86\\nSepalLengthCm: 6.0\\nSepalWidthCm: 3.4\\nPetalLengthCm: 4.5\\nPetalWidthCm: 1.6\\nSpecies: Iris-versicolor', metadata={'source': 'Iris.csv', 'row': 85}),\n",
       " Document(page_content='Id: 87\\nSepalLengthCm: 6.7\\nSepalWidthCm: 3.1\\nPetalLengthCm: 4.7\\nPetalWidthCm: 1.5\\nSpecies: Iris-versicolor', metadata={'source': 'Iris.csv', 'row': 86}),\n",
       " Document(page_content='Id: 88\\nSepalLengthCm: 6.3\\nSepalWidthCm: 2.3\\nPetalLengthCm: 4.4\\nPetalWidthCm: 1.3\\nSpecies: Iris-versicolor', metadata={'source': 'Iris.csv', 'row': 87}),\n",
       " Document(page_content='Id: 89\\nSepalLengthCm: 5.6\\nSepalWidthCm: 3.0\\nPetalLengthCm: 4.1\\nPetalWidthCm: 1.3\\nSpecies: Iris-versicolor', metadata={'source': 'Iris.csv', 'row': 88}),\n",
       " Document(page_content='Id: 90\\nSepalLengthCm: 5.5\\nSepalWidthCm: 2.5\\nPetalLengthCm: 4.0\\nPetalWidthCm: 1.3\\nSpecies: Iris-versicolor', metadata={'source': 'Iris.csv', 'row': 89}),\n",
       " Document(page_content='Id: 91\\nSepalLengthCm: 5.5\\nSepalWidthCm: 2.6\\nPetalLengthCm: 4.4\\nPetalWidthCm: 1.2\\nSpecies: Iris-versicolor', metadata={'source': 'Iris.csv', 'row': 90}),\n",
       " Document(page_content='Id: 92\\nSepalLengthCm: 6.1\\nSepalWidthCm: 3.0\\nPetalLengthCm: 4.6\\nPetalWidthCm: 1.4\\nSpecies: Iris-versicolor', metadata={'source': 'Iris.csv', 'row': 91}),\n",
       " Document(page_content='Id: 93\\nSepalLengthCm: 5.8\\nSepalWidthCm: 2.6\\nPetalLengthCm: 4.0\\nPetalWidthCm: 1.2\\nSpecies: Iris-versicolor', metadata={'source': 'Iris.csv', 'row': 92}),\n",
       " Document(page_content='Id: 94\\nSepalLengthCm: 5.0\\nSepalWidthCm: 2.3\\nPetalLengthCm: 3.3\\nPetalWidthCm: 1.0\\nSpecies: Iris-versicolor', metadata={'source': 'Iris.csv', 'row': 93}),\n",
       " Document(page_content='Id: 95\\nSepalLengthCm: 5.6\\nSepalWidthCm: 2.7\\nPetalLengthCm: 4.2\\nPetalWidthCm: 1.3\\nSpecies: Iris-versicolor', metadata={'source': 'Iris.csv', 'row': 94}),\n",
       " Document(page_content='Id: 96\\nSepalLengthCm: 5.7\\nSepalWidthCm: 3.0\\nPetalLengthCm: 4.2\\nPetalWidthCm: 1.2\\nSpecies: Iris-versicolor', metadata={'source': 'Iris.csv', 'row': 95}),\n",
       " Document(page_content='Id: 97\\nSepalLengthCm: 5.7\\nSepalWidthCm: 2.9\\nPetalLengthCm: 4.2\\nPetalWidthCm: 1.3\\nSpecies: Iris-versicolor', metadata={'source': 'Iris.csv', 'row': 96}),\n",
       " Document(page_content='Id: 98\\nSepalLengthCm: 6.2\\nSepalWidthCm: 2.9\\nPetalLengthCm: 4.3\\nPetalWidthCm: 1.3\\nSpecies: Iris-versicolor', metadata={'source': 'Iris.csv', 'row': 97}),\n",
       " Document(page_content='Id: 99\\nSepalLengthCm: 5.1\\nSepalWidthCm: 2.5\\nPetalLengthCm: 3.0\\nPetalWidthCm: 1.1\\nSpecies: Iris-versicolor', metadata={'source': 'Iris.csv', 'row': 98}),\n",
       " Document(page_content='Id: 100\\nSepalLengthCm: 5.7\\nSepalWidthCm: 2.8\\nPetalLengthCm: 4.1\\nPetalWidthCm: 1.3\\nSpecies: Iris-versicolor', metadata={'source': 'Iris.csv', 'row': 99}),\n",
       " Document(page_content='Id: 101\\nSepalLengthCm: 6.3\\nSepalWidthCm: 3.3\\nPetalLengthCm: 6.0\\nPetalWidthCm: 2.5\\nSpecies: Iris-virginica', metadata={'source': 'Iris.csv', 'row': 100}),\n",
       " Document(page_content='Id: 102\\nSepalLengthCm: 5.8\\nSepalWidthCm: 2.7\\nPetalLengthCm: 5.1\\nPetalWidthCm: 1.9\\nSpecies: Iris-virginica', metadata={'source': 'Iris.csv', 'row': 101}),\n",
       " Document(page_content='Id: 103\\nSepalLengthCm: 7.1\\nSepalWidthCm: 3.0\\nPetalLengthCm: 5.9\\nPetalWidthCm: 2.1\\nSpecies: Iris-virginica', metadata={'source': 'Iris.csv', 'row': 102}),\n",
       " Document(page_content='Id: 104\\nSepalLengthCm: 6.3\\nSepalWidthCm: 2.9\\nPetalLengthCm: 5.6\\nPetalWidthCm: 1.8\\nSpecies: Iris-virginica', metadata={'source': 'Iris.csv', 'row': 103}),\n",
       " Document(page_content='Id: 105\\nSepalLengthCm: 6.5\\nSepalWidthCm: 3.0\\nPetalLengthCm: 5.8\\nPetalWidthCm: 2.2\\nSpecies: Iris-virginica', metadata={'source': 'Iris.csv', 'row': 104}),\n",
       " Document(page_content='Id: 106\\nSepalLengthCm: 7.6\\nSepalWidthCm: 3.0\\nPetalLengthCm: 6.6\\nPetalWidthCm: 2.1\\nSpecies: Iris-virginica', metadata={'source': 'Iris.csv', 'row': 105}),\n",
       " Document(page_content='Id: 107\\nSepalLengthCm: 4.9\\nSepalWidthCm: 2.5\\nPetalLengthCm: 4.5\\nPetalWidthCm: 1.7\\nSpecies: Iris-virginica', metadata={'source': 'Iris.csv', 'row': 106}),\n",
       " Document(page_content='Id: 108\\nSepalLengthCm: 7.3\\nSepalWidthCm: 2.9\\nPetalLengthCm: 6.3\\nPetalWidthCm: 1.8\\nSpecies: Iris-virginica', metadata={'source': 'Iris.csv', 'row': 107}),\n",
       " Document(page_content='Id: 109\\nSepalLengthCm: 6.7\\nSepalWidthCm: 2.5\\nPetalLengthCm: 5.8\\nPetalWidthCm: 1.8\\nSpecies: Iris-virginica', metadata={'source': 'Iris.csv', 'row': 108}),\n",
       " Document(page_content='Id: 110\\nSepalLengthCm: 7.2\\nSepalWidthCm: 3.6\\nPetalLengthCm: 6.1\\nPetalWidthCm: 2.5\\nSpecies: Iris-virginica', metadata={'source': 'Iris.csv', 'row': 109}),\n",
       " Document(page_content='Id: 111\\nSepalLengthCm: 6.5\\nSepalWidthCm: 3.2\\nPetalLengthCm: 5.1\\nPetalWidthCm: 2.0\\nSpecies: Iris-virginica', metadata={'source': 'Iris.csv', 'row': 110}),\n",
       " Document(page_content='Id: 112\\nSepalLengthCm: 6.4\\nSepalWidthCm: 2.7\\nPetalLengthCm: 5.3\\nPetalWidthCm: 1.9\\nSpecies: Iris-virginica', metadata={'source': 'Iris.csv', 'row': 111}),\n",
       " Document(page_content='Id: 113\\nSepalLengthCm: 6.8\\nSepalWidthCm: 3.0\\nPetalLengthCm: 5.5\\nPetalWidthCm: 2.1\\nSpecies: Iris-virginica', metadata={'source': 'Iris.csv', 'row': 112}),\n",
       " Document(page_content='Id: 114\\nSepalLengthCm: 5.7\\nSepalWidthCm: 2.5\\nPetalLengthCm: 5.0\\nPetalWidthCm: 2.0\\nSpecies: Iris-virginica', metadata={'source': 'Iris.csv', 'row': 113}),\n",
       " Document(page_content='Id: 115\\nSepalLengthCm: 5.8\\nSepalWidthCm: 2.8\\nPetalLengthCm: 5.1\\nPetalWidthCm: 2.4\\nSpecies: Iris-virginica', metadata={'source': 'Iris.csv', 'row': 114}),\n",
       " Document(page_content='Id: 116\\nSepalLengthCm: 6.4\\nSepalWidthCm: 3.2\\nPetalLengthCm: 5.3\\nPetalWidthCm: 2.3\\nSpecies: Iris-virginica', metadata={'source': 'Iris.csv', 'row': 115}),\n",
       " Document(page_content='Id: 117\\nSepalLengthCm: 6.5\\nSepalWidthCm: 3.0\\nPetalLengthCm: 5.5\\nPetalWidthCm: 1.8\\nSpecies: Iris-virginica', metadata={'source': 'Iris.csv', 'row': 116}),\n",
       " Document(page_content='Id: 118\\nSepalLengthCm: 7.7\\nSepalWidthCm: 3.8\\nPetalLengthCm: 6.7\\nPetalWidthCm: 2.2\\nSpecies: Iris-virginica', metadata={'source': 'Iris.csv', 'row': 117}),\n",
       " Document(page_content='Id: 119\\nSepalLengthCm: 7.7\\nSepalWidthCm: 2.6\\nPetalLengthCm: 6.9\\nPetalWidthCm: 2.3\\nSpecies: Iris-virginica', metadata={'source': 'Iris.csv', 'row': 118}),\n",
       " Document(page_content='Id: 120\\nSepalLengthCm: 6.0\\nSepalWidthCm: 2.2\\nPetalLengthCm: 5.0\\nPetalWidthCm: 1.5\\nSpecies: Iris-virginica', metadata={'source': 'Iris.csv', 'row': 119}),\n",
       " Document(page_content='Id: 121\\nSepalLengthCm: 6.9\\nSepalWidthCm: 3.2\\nPetalLengthCm: 5.7\\nPetalWidthCm: 2.3\\nSpecies: Iris-virginica', metadata={'source': 'Iris.csv', 'row': 120}),\n",
       " Document(page_content='Id: 122\\nSepalLengthCm: 5.6\\nSepalWidthCm: 2.8\\nPetalLengthCm: 4.9\\nPetalWidthCm: 2.0\\nSpecies: Iris-virginica', metadata={'source': 'Iris.csv', 'row': 121}),\n",
       " Document(page_content='Id: 123\\nSepalLengthCm: 7.7\\nSepalWidthCm: 2.8\\nPetalLengthCm: 6.7\\nPetalWidthCm: 2.0\\nSpecies: Iris-virginica', metadata={'source': 'Iris.csv', 'row': 122}),\n",
       " Document(page_content='Id: 124\\nSepalLengthCm: 6.3\\nSepalWidthCm: 2.7\\nPetalLengthCm: 4.9\\nPetalWidthCm: 1.8\\nSpecies: Iris-virginica', metadata={'source': 'Iris.csv', 'row': 123}),\n",
       " Document(page_content='Id: 125\\nSepalLengthCm: 6.7\\nSepalWidthCm: 3.3\\nPetalLengthCm: 5.7\\nPetalWidthCm: 2.1\\nSpecies: Iris-virginica', metadata={'source': 'Iris.csv', 'row': 124}),\n",
       " Document(page_content='Id: 126\\nSepalLengthCm: 7.2\\nSepalWidthCm: 3.2\\nPetalLengthCm: 6.0\\nPetalWidthCm: 1.8\\nSpecies: Iris-virginica', metadata={'source': 'Iris.csv', 'row': 125}),\n",
       " Document(page_content='Id: 127\\nSepalLengthCm: 6.2\\nSepalWidthCm: 2.8\\nPetalLengthCm: 4.8\\nPetalWidthCm: 1.8\\nSpecies: Iris-virginica', metadata={'source': 'Iris.csv', 'row': 126}),\n",
       " Document(page_content='Id: 128\\nSepalLengthCm: 6.1\\nSepalWidthCm: 3.0\\nPetalLengthCm: 4.9\\nPetalWidthCm: 1.8\\nSpecies: Iris-virginica', metadata={'source': 'Iris.csv', 'row': 127}),\n",
       " Document(page_content='Id: 129\\nSepalLengthCm: 6.4\\nSepalWidthCm: 2.8\\nPetalLengthCm: 5.6\\nPetalWidthCm: 2.1\\nSpecies: Iris-virginica', metadata={'source': 'Iris.csv', 'row': 128}),\n",
       " Document(page_content='Id: 130\\nSepalLengthCm: 7.2\\nSepalWidthCm: 3.0\\nPetalLengthCm: 5.8\\nPetalWidthCm: 1.6\\nSpecies: Iris-virginica', metadata={'source': 'Iris.csv', 'row': 129}),\n",
       " Document(page_content='Id: 131\\nSepalLengthCm: 7.4\\nSepalWidthCm: 2.8\\nPetalLengthCm: 6.1\\nPetalWidthCm: 1.9\\nSpecies: Iris-virginica', metadata={'source': 'Iris.csv', 'row': 130}),\n",
       " Document(page_content='Id: 132\\nSepalLengthCm: 7.9\\nSepalWidthCm: 3.8\\nPetalLengthCm: 6.4\\nPetalWidthCm: 2.0\\nSpecies: Iris-virginica', metadata={'source': 'Iris.csv', 'row': 131}),\n",
       " Document(page_content='Id: 133\\nSepalLengthCm: 6.4\\nSepalWidthCm: 2.8\\nPetalLengthCm: 5.6\\nPetalWidthCm: 2.2\\nSpecies: Iris-virginica', metadata={'source': 'Iris.csv', 'row': 132}),\n",
       " Document(page_content='Id: 134\\nSepalLengthCm: 6.3\\nSepalWidthCm: 2.8\\nPetalLengthCm: 5.1\\nPetalWidthCm: 1.5\\nSpecies: Iris-virginica', metadata={'source': 'Iris.csv', 'row': 133}),\n",
       " Document(page_content='Id: 135\\nSepalLengthCm: 6.1\\nSepalWidthCm: 2.6\\nPetalLengthCm: 5.6\\nPetalWidthCm: 1.4\\nSpecies: Iris-virginica', metadata={'source': 'Iris.csv', 'row': 134}),\n",
       " Document(page_content='Id: 136\\nSepalLengthCm: 7.7\\nSepalWidthCm: 3.0\\nPetalLengthCm: 6.1\\nPetalWidthCm: 2.3\\nSpecies: Iris-virginica', metadata={'source': 'Iris.csv', 'row': 135}),\n",
       " Document(page_content='Id: 137\\nSepalLengthCm: 6.3\\nSepalWidthCm: 3.4\\nPetalLengthCm: 5.6\\nPetalWidthCm: 2.4\\nSpecies: Iris-virginica', metadata={'source': 'Iris.csv', 'row': 136}),\n",
       " Document(page_content='Id: 138\\nSepalLengthCm: 6.4\\nSepalWidthCm: 3.1\\nPetalLengthCm: 5.5\\nPetalWidthCm: 1.8\\nSpecies: Iris-virginica', metadata={'source': 'Iris.csv', 'row': 137}),\n",
       " Document(page_content='Id: 139\\nSepalLengthCm: 6.0\\nSepalWidthCm: 3.0\\nPetalLengthCm: 4.8\\nPetalWidthCm: 1.8\\nSpecies: Iris-virginica', metadata={'source': 'Iris.csv', 'row': 138}),\n",
       " Document(page_content='Id: 140\\nSepalLengthCm: 6.9\\nSepalWidthCm: 3.1\\nPetalLengthCm: 5.4\\nPetalWidthCm: 2.1\\nSpecies: Iris-virginica', metadata={'source': 'Iris.csv', 'row': 139}),\n",
       " Document(page_content='Id: 141\\nSepalLengthCm: 6.7\\nSepalWidthCm: 3.1\\nPetalLengthCm: 5.6\\nPetalWidthCm: 2.4\\nSpecies: Iris-virginica', metadata={'source': 'Iris.csv', 'row': 140}),\n",
       " Document(page_content='Id: 142\\nSepalLengthCm: 6.9\\nSepalWidthCm: 3.1\\nPetalLengthCm: 5.1\\nPetalWidthCm: 2.3\\nSpecies: Iris-virginica', metadata={'source': 'Iris.csv', 'row': 141}),\n",
       " Document(page_content='Id: 143\\nSepalLengthCm: 5.8\\nSepalWidthCm: 2.7\\nPetalLengthCm: 5.1\\nPetalWidthCm: 1.9\\nSpecies: Iris-virginica', metadata={'source': 'Iris.csv', 'row': 142}),\n",
       " Document(page_content='Id: 144\\nSepalLengthCm: 6.8\\nSepalWidthCm: 3.2\\nPetalLengthCm: 5.9\\nPetalWidthCm: 2.3\\nSpecies: Iris-virginica', metadata={'source': 'Iris.csv', 'row': 143}),\n",
       " Document(page_content='Id: 145\\nSepalLengthCm: 6.7\\nSepalWidthCm: 3.3\\nPetalLengthCm: 5.7\\nPetalWidthCm: 2.5\\nSpecies: Iris-virginica', metadata={'source': 'Iris.csv', 'row': 144}),\n",
       " Document(page_content='Id: 146\\nSepalLengthCm: 6.7\\nSepalWidthCm: 3.0\\nPetalLengthCm: 5.2\\nPetalWidthCm: 2.3\\nSpecies: Iris-virginica', metadata={'source': 'Iris.csv', 'row': 145}),\n",
       " Document(page_content='Id: 147\\nSepalLengthCm: 6.3\\nSepalWidthCm: 2.5\\nPetalLengthCm: 5.0\\nPetalWidthCm: 1.9\\nSpecies: Iris-virginica', metadata={'source': 'Iris.csv', 'row': 146}),\n",
       " Document(page_content='Id: 148\\nSepalLengthCm: 6.5\\nSepalWidthCm: 3.0\\nPetalLengthCm: 5.2\\nPetalWidthCm: 2.0\\nSpecies: Iris-virginica', metadata={'source': 'Iris.csv', 'row': 147}),\n",
       " Document(page_content='Id: 149\\nSepalLengthCm: 6.2\\nSepalWidthCm: 3.4\\nPetalLengthCm: 5.4\\nPetalWidthCm: 2.3\\nSpecies: Iris-virginica', metadata={'source': 'Iris.csv', 'row': 148}),\n",
       " Document(page_content='Id: 150\\nSepalLengthCm: 5.9\\nSepalWidthCm: 3.0\\nPetalLengthCm: 5.1\\nPetalWidthCm: 1.8\\nSpecies: Iris-virginica', metadata={'source': 'Iris.csv', 'row': 149})]"
      ]
     },
     "execution_count": 4,
     "metadata": {},
     "output_type": "execute_result"
    }
   ],
   "source": [
    "data"
   ]
  },
  {
   "cell_type": "code",
   "execution_count": 5,
   "id": "bfdd4d09",
   "metadata": {},
   "outputs": [
    {
     "data": {
      "text/plain": [
       "list"
      ]
     },
     "execution_count": 5,
     "metadata": {},
     "output_type": "execute_result"
    }
   ],
   "source": [
    "type(data)"
   ]
  },
  {
   "cell_type": "code",
   "execution_count": 6,
   "id": "acea4def",
   "metadata": {},
   "outputs": [
    {
     "data": {
      "text/plain": [
       "langchain_core.documents.base.Document"
      ]
     },
     "execution_count": 6,
     "metadata": {},
     "output_type": "execute_result"
    }
   ],
   "source": [
    "type(data[0])"
   ]
  },
  {
   "cell_type": "code",
   "execution_count": 7,
   "id": "1d0ec6da",
   "metadata": {},
   "outputs": [
    {
     "name": "stdout",
     "output_type": "stream",
     "text": [
      "{'source': 'Iris.csv', 'row': 1}\n"
     ]
    }
   ],
   "source": [
    "print(data[1].metadata)"
   ]
  },
  {
   "cell_type": "code",
   "execution_count": 8,
   "id": "284dc22f",
   "metadata": {},
   "outputs": [
    {
     "name": "stdout",
     "output_type": "stream",
     "text": [
      "Id: 1\n",
      "SepalLengthCm: 5.1\n",
      "SepalWidthCm: 3.5\n",
      "PetalLengthCm: 1.4\n",
      "PetalWidthCm: 0.2\n",
      "Species: Iris-setosa\n"
     ]
    }
   ],
   "source": [
    "print(data[0].page_content)"
   ]
  },
  {
   "cell_type": "code",
   "execution_count": 9,
   "id": "b7d20e53",
   "metadata": {},
   "outputs": [
    {
     "name": "stdout",
     "output_type": "stream",
     "text": [
      "Id: 2\n",
      "SepalLengthCm: 4.9\n",
      "SepalWidthCm: 3.0\n",
      "PetalLengthCm: 1.4\n",
      "PetalWidthCm: 0.2\n",
      "Species: Iris-setosa\n"
     ]
    }
   ],
   "source": [
    "print(data[1].page_content)"
   ]
  },
  {
   "cell_type": "code",
   "execution_count": null,
   "id": "b5bd7ab6",
   "metadata": {},
   "outputs": [],
   "source": []
  }
 ],
 "metadata": {
  "kernelspec": {
   "display_name": "Python 3 (ipykernel)",
   "language": "python",
   "name": "python3"
  },
  "language_info": {
   "codemirror_mode": {
    "name": "ipython",
    "version": 3
   },
   "file_extension": ".py",
   "mimetype": "text/x-python",
   "name": "python",
   "nbconvert_exporter": "python",
   "pygments_lexer": "ipython3",
   "version": "3.9.13"
  }
 },
 "nbformat": 4,
 "nbformat_minor": 5
}
