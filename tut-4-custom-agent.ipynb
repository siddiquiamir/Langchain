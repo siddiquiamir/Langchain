{
 "cells": [
  {
   "cell_type": "markdown",
   "id": "058f664a",
   "metadata": {},
   "source": [
    "# Custom agent\n",
    "- This walkthrough showcases the self-ask with search agent."
   ]
  },
  {
   "cell_type": "code",
   "execution_count": 1,
   "id": "54a96534",
   "metadata": {},
   "outputs": [],
   "source": [
    "from langchain import HuggingFaceHub"
   ]
  },
  {
   "cell_type": "code",
   "execution_count": 2,
   "id": "51a54cf9",
   "metadata": {},
   "outputs": [
    {
     "name": "stdout",
     "output_type": "stream",
     "text": [
      "········\n"
     ]
    }
   ],
   "source": [
    "import getpass\n",
    "import os\n",
    "os.environ[\"HUGGINGFACEHUB_API_TOKEN\"] = getpass.getpass()"
   ]
  },
  {
   "cell_type": "code",
   "execution_count": 3,
   "id": "b5471536",
   "metadata": {},
   "outputs": [],
   "source": [
    "llm = HuggingFaceHub(repo_id= 'mistralai/Mixtral-8x7B-Instruct-v0.1',\n",
    "                           model_kwargs={'temperature': 0.5, 'max_length': 100})"
   ]
  },
  {
   "cell_type": "code",
   "execution_count": 4,
   "id": "9a618439",
   "metadata": {},
   "outputs": [],
   "source": [
    "from langchain.agents import tool\n",
    "\n",
    "@tool\n",
    "def get_word_length(word: str) -> int:\n",
    "    \"\"\"Returns the length of a word.\"\"\"\n",
    "    return len(word)"
   ]
  },
  {
   "cell_type": "code",
   "execution_count": 5,
   "id": "f364a551",
   "metadata": {},
   "outputs": [
    {
     "data": {
      "text/plain": [
       "9"
      ]
     },
     "execution_count": 5,
     "metadata": {},
     "output_type": "execute_result"
    }
   ],
   "source": [
    "get_word_length.invoke(\"langchain\")"
   ]
  },
  {
   "cell_type": "code",
   "execution_count": 6,
   "id": "1260a1d6",
   "metadata": {},
   "outputs": [],
   "source": [
    "from langchain import hub\n",
    "from langchain.agents import AgentExecutor, create_self_ask_with_search_agent\n",
    "from langchain_community.llms import Fireworks\n",
    "from langchain_community.tools.tavily_search import TavilyAnswer"
   ]
  },
  {
   "cell_type": "code",
   "execution_count": 7,
   "id": "c6b1a7c7",
   "metadata": {},
   "outputs": [
    {
     "name": "stdout",
     "output_type": "stream",
     "text": [
      "········\n"
     ]
    }
   ],
   "source": [
    "import getpass\n",
    "import os\n",
    "\n",
    "os.environ[\"TAVILY_API_KEY\"] = getpass.getpass()\n",
    "\n",
    "# https://tavily.com/ free API"
   ]
  },
  {
   "cell_type": "markdown",
   "id": "667523f5",
   "metadata": {},
   "source": [
    "We will initialize the tools we want to use. This is a good tool because it gives us answers (not documents)\n",
    "For this agent, only one tool can be used and it needs to be named “Intermediate Answer”"
   ]
  },
  {
   "cell_type": "code",
   "execution_count": 8,
   "id": "24d81fc2",
   "metadata": {},
   "outputs": [],
   "source": [
    "tools = [TavilyAnswer(max_results=1, name=\"Intermediate Answer\")]"
   ]
  },
  {
   "cell_type": "markdown",
   "id": "69a15255",
   "metadata": {},
   "source": [
    "# Create Agent"
   ]
  },
  {
   "cell_type": "code",
   "execution_count": 9,
   "id": "79298729",
   "metadata": {},
   "outputs": [],
   "source": [
    "# Get the prompt to use - you can modify this!\n",
    "prompt = hub.pull(\"hwchase17/self-ask-with-search\")"
   ]
  },
  {
   "cell_type": "code",
   "execution_count": 10,
   "id": "6757336f",
   "metadata": {},
   "outputs": [],
   "source": [
    "# !pip install fireworks-ai"
   ]
  },
  {
   "cell_type": "code",
   "execution_count": 11,
   "id": "661eac3c",
   "metadata": {},
   "outputs": [
    {
     "name": "stdout",
     "output_type": "stream",
     "text": [
      "········\n"
     ]
    }
   ],
   "source": [
    "os.environ[\"FIREWORKS_API_KEY\"] = getpass.getpass()"
   ]
  },
  {
   "cell_type": "code",
   "execution_count": 12,
   "id": "aad79c4a",
   "metadata": {},
   "outputs": [],
   "source": [
    "# Choose the LLM that will drive the agent\n",
    "llm = Fireworks()\n",
    "\n",
    "# Construct the Self Ask With Search Agent\n",
    "agent = create_self_ask_with_search_agent(llm, tools, prompt)\n",
    "\n",
    "# https://fireworks.ai/ free api website"
   ]
  },
  {
   "cell_type": "markdown",
   "id": "ab685faf",
   "metadata": {},
   "source": [
    "# Run Agent"
   ]
  },
  {
   "cell_type": "code",
   "execution_count": 13,
   "id": "ec574d60",
   "metadata": {},
   "outputs": [],
   "source": [
    "# Create an agent executor by passing in the agent and tools\n",
    "agent_executor = AgentExecutor(agent=agent, tools=tools, verbose=True, handle_parsing_errors=True)"
   ]
  },
  {
   "cell_type": "code",
   "execution_count": 16,
   "id": "91b139d3",
   "metadata": {},
   "outputs": [
    {
     "name": "stdout",
     "output_type": "stream",
     "text": [
      "\n",
      "\n",
      "\u001b[1m> Entering new AgentExecutor chain...\u001b[0m\n",
      "\u001b[32;1m\u001b[1;3m Yes.\n",
      "Follow up: Who is the current president of the USA?\u001b[0m\u001b[36;1m\u001b[1;3mJoe Biden is the current President of the United States.\u001b[0m\u001b[32;1m\u001b[1;3m\n",
      "So the final answer is: Joe Biden\u001b[0m\n",
      "\n",
      "\u001b[1m> Finished chain.\u001b[0m\n"
     ]
    },
    {
     "data": {
      "text/plain": [
       "{'input': 'Who is the current president of the USA?', 'output': 'Joe Biden'}"
      ]
     },
     "execution_count": 16,
     "metadata": {},
     "output_type": "execute_result"
    }
   ],
   "source": [
    "agent_executor.invoke(\n",
    "    {\"input\": \"Who is the current president of the USA?\"}\n",
    ")"
   ]
  },
  {
   "cell_type": "code",
   "execution_count": 17,
   "id": "61afe3cc",
   "metadata": {},
   "outputs": [
    {
     "name": "stdout",
     "output_type": "stream",
     "text": [
      "\n",
      "\n",
      "\u001b[1m> Entering new AgentExecutor chain...\u001b[0m\n",
      "\u001b[32;1m\u001b[1;3m Yes.\n",
      "Follow up: Where is Qatar?\u001b[0m\u001b[36;1m\u001b[1;3mQatar is a country located in West Asia on the northeastern coast of the Arabian Peninsula. It shares its sole land border with Saudi Arabia to the south and is surrounded by the Persian Gulf on three sides. The capital and largest city of Qatar is Doha. The country spans an area of approximately 11,571 square kilometers (4,468 square miles) and is known for its significant reserves of petroleum and natural gas.\u001b[0m\u001b[32;1m\u001b[1;3mFollow up: What is the capital of Qatar?\u001b[0m\u001b[36;1m\u001b[1;3mThe capital of Qatar is Doha.\u001b[0m\u001b[32;1m\u001b[1;3m\n",
      "So the final answer is: Doha\u001b[0m\n",
      "\n",
      "\u001b[1m> Finished chain.\u001b[0m\n"
     ]
    },
    {
     "data": {
      "text/plain": [
       "{'input': 'What was the venue of 2022 FIFA World Cup?', 'output': 'Doha'}"
      ]
     },
     "execution_count": 17,
     "metadata": {},
     "output_type": "execute_result"
    }
   ],
   "source": [
    "agent_executor.invoke(\n",
    "    {\"input\": \"What was the venue of 2022 FIFA World Cup?\"}\n",
    ")"
   ]
  },
  {
   "cell_type": "code",
   "execution_count": null,
   "id": "9d5127c8",
   "metadata": {},
   "outputs": [],
   "source": []
  }
 ],
 "metadata": {
  "kernelspec": {
   "display_name": "Python 3 (ipykernel)",
   "language": "python",
   "name": "python3"
  },
  "language_info": {
   "codemirror_mode": {
    "name": "ipython",
    "version": 3
   },
   "file_extension": ".py",
   "mimetype": "text/x-python",
   "name": "python",
   "nbconvert_exporter": "python",
   "pygments_lexer": "ipython3",
   "version": "3.9.13"
  }
 },
 "nbformat": 4,
 "nbformat_minor": 5
}
