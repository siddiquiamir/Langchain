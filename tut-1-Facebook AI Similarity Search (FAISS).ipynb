{
 "cells": [
  {
   "cell_type": "markdown",
   "id": "058f664a",
   "metadata": {},
   "source": [
    "# Facebook AI Similarity Search (FAISS)\n",
    "- One popular vector database is the Facebook AI Similarity Search (FAISS), an open-source library developed by Facebook Research\n",
    "- FAISS provides efficient algorithms and methods for searching large collections of dense vectors"
   ]
  },
  {
   "cell_type": "code",
   "execution_count": 1,
   "id": "760701c9",
   "metadata": {
    "scrolled": true
   },
   "outputs": [
    {
     "data": {
      "text/plain": [
       "[Document(page_content='So tonight I’m offering a Unity Agenda for the Nation. Four big things we can do together.\\n\\nFirst, beat the opioid epidemic.\\nThere is so much we can do. Increase funding for prevention, treatment, harm reduction, and recovery.\\nGet rid of outdated rules that stop doctors from prescribing treatments. And stop the flow of illicit drugs by working with state and local law enforcement to go after traffickers.\\nIf you’re suffering from addiction, know you are not alone. I believe in recovery, and I celebrate the 23 million Americans in recovery.\\n\\nSecond, let’s take on mental health. Especially among our children, whose lives and education have been turned upside down.\\nThe American Rescue Plan gave schools money to hire teachers and help students make up for lost learning.\\nI urge every parent to make sure your school does just that. And we can all play a part—sign up to be a tutor or a mentor.\\nChildren were also struggling before the pandemic. Bullying, violence, trauma, and the harms of social media.\\nAs Frances Haugen, who is here with us tonight, has shown, we must hold social media platforms accountable for the national experiment they’re conducting on our children for profit.\\nIt’s time to strengthen privacy protections, ban targeted advertising to children, demand tech companies stop collecting personal data on our children.\\nAnd let’s get all Americans the mental health services they need. More people they can turn to for help, and full parity between physical and mental health care.\\n\\nThird, support our veterans.\\nVeterans are the best of us.\\nI’ve always believed that we have a sacred obligation to equip all those we send to war and care for them and their families when they come home.\\nMy administration is providing assistance with job training and housing, and now helping lower-income veterans get VA care debt-free.\\nOur troops in Iraq and Afghanistan faced many dangers.\\nOne was stationed at bases and breathing in toxic smoke from “burn pits” that incinerated wastes of war—medical and hazard material, jet fuel, and more.\\nWhen they came home, many of the world’s fittest and best trained warriors were never the same.\\nHeadaches. Numbness. Dizziness.\\nA cancer that would put them in a flag-draped coffin.\\nI know.\\nOne of those soldiers was my son Major Beau Biden.\\nWe don’t know for sure if a burn pit was the cause of his brain cancer, or the diseases of so many of our troops.\\nBut I’m committed to finding out everything we can.\\nCommitted to military families like Danielle Robinson from Ohio.\\nThe widow of Sergeant First Class Heath Robinson.\\nHe was born a soldier. Army National Guard. Combat medic in Kosovo and Iraq.\\nStationed near Baghdad, just yards from burn pits the size of football fields.\\nHeath’s widow Danielle is here with us tonight. They loved going to Ohio State football games. He loved building Legos with their daughter.\\nBut cancer from prolonged exposure to burn pits ravaged Heath’s lungs and body.\\nDanielle says Heath was a fighter to the very end.\\nHe didn’t know how to stop fighting, and neither did she.\\nThrough her pain she found purpose to demand we do better.\\nTonight, Danielle—we are.\\nThe VA is pioneering new ways of linking toxic exposures to diseases, already helping more veterans get benefits.\\nAnd tonight, I’m announcing we’re expanding eligibility to veterans suffering from nine respiratory cancers.\\nI’m also calling on Congress: pass a law to make sure veterans devastated by toxic exposures in Iraq and Afghanistan finally get the benefits and comprehensive health care they deserve.\\n\\nFourth, let’s end cancer as we know it.\\nThis is personal to me and Jill, to Kamala, and to so many of you.\\nCancer is the #2 cause of death in America–second only to heart disease.\\nLast month, I announced our plan to supercharge the Cancer Moonshot that President Obama asked me to lead six years ago.\\nOur goal is to cut the cancer death rate by at least 50% over the next 25 years, turn more cancers from death sentences into treatable diseases.\\nMore support for patients and families.\\nTo get there, I call on Congress to fund ARPA-H, the Advanced Research Projects Agency for Health.\\nIt’s based on DARPA—the Defense Department project that led to the Internet, GPS, and so much more.\\nARPA-H will have a singular purpose—to drive breakthroughs in cancer, Alzheimer’s, diabetes, and more.\\n\\nA unity agenda for the nation.\\nWe can do this.\\nMy fellow Americans—tonight, we have gathered in a sacred space—the citadel of our democracy.\\nIn this Capitol, generation after generation, Americans have debated great questions amid great strife, and have done great things.\\nWe have fought for freedom, expanded liberty, defeated totalitarianism and terror.\\nAnd built the strongest, freest, and most prosperous nation the world has ever known.\\nNow is the hour.\\nOur moment of responsibility.\\nOur test of resolve and conscience, of history itself.\\nIt is in this moment that our character is formed. Our purpose is found. Our future is forged.\\nWell I know this nation.\\nWe will meet the test.\\nTo protect freedom and liberty, to expand fairness and opportunity.\\nWe will save democracy.\\nAs hard as these times have been, I am more optimistic about America today than I have been my whole life.\\nBecause I see the future that is within our grasp.\\nBecause I know there is simply nothing beyond our capacity.\\nWe are the only nation on Earth that has always turned every crisis we have faced into an opportunity.\\nThe only nation that can be defined by a single word: possibilities.\\nSo on this night, in our 245th year as a nation, I have come to report on the State of the Union.\\nAnd my report is this: the State of the Union is strong—because you, the American people, are strong.\\nWe are stronger today than we were a year ago.\\nAnd we will be stronger a year from now than we are today.\\nNow is our moment to meet and overcome the challenges of our time.\\nAnd we will, as one people.\\nOne America.\\nThe United States of America.\\nMay God bless you all. May God protect our troops.', metadata={'source': 'state_of_the_union.txt'})]"
      ]
     },
     "execution_count": 1,
     "metadata": {},
     "output_type": "execute_result"
    }
   ],
   "source": [
    "# load document\n",
    "from langchain_community.document_loaders import TextLoader\n",
    "loader = TextLoader('state_of_the_union.txt', encoding= 'utf-8')\n",
    "documents = loader.load()\n",
    "documents"
   ]
  },
  {
   "cell_type": "code",
   "execution_count": 2,
   "id": "73219474",
   "metadata": {},
   "outputs": [
    {
     "name": "stderr",
     "output_type": "stream",
     "text": [
      "Created a chunk of size 2046, which is longer than the specified 1000\n"
     ]
    }
   ],
   "source": [
    "# create chunks\n",
    "from langchain_text_splitters import CharacterTextSplitter\n",
    "documents = loader.load()\n",
    "text_splitter = CharacterTextSplitter(chunk_size=1000, chunk_overlap=0)\n",
    "texts = text_splitter.split_documents(documents)"
   ]
  },
  {
   "cell_type": "code",
   "execution_count": 3,
   "id": "edba8603",
   "metadata": {},
   "outputs": [
    {
     "data": {
      "application/vnd.jupyter.widget-view+json": {
       "model_id": "64ab354b6f7a4f3f875fbf4ec6c0ece6",
       "version_major": 2,
       "version_minor": 0
      },
      "text/plain": [
       "modules.json:   0%|          | 0.00/349 [00:00<?, ?B/s]"
      ]
     },
     "metadata": {},
     "output_type": "display_data"
    },
    {
     "name": "stderr",
     "output_type": "stream",
     "text": [
      "C:\\Users\\amirs\\Anaconda3\\lib\\site-packages\\huggingface_hub\\file_download.py:149: UserWarning: `huggingface_hub` cache-system uses symlinks by default to efficiently store duplicated files but your machine does not support them in C:\\Users\\amirs\\.cache\\huggingface\\hub\\models--sentence-transformers--all-mpnet-base-v2. Caching files will still work but in a degraded version that might require more space on your disk. This warning can be disabled by setting the `HF_HUB_DISABLE_SYMLINKS_WARNING` environment variable. For more details, see https://huggingface.co/docs/huggingface_hub/how-to-cache#limitations.\n",
      "To support symlinks on Windows, you either need to activate Developer Mode or to run Python as an administrator. In order to see activate developer mode, see this article: https://docs.microsoft.com/en-us/windows/apps/get-started/enable-your-device-for-development\n",
      "  warnings.warn(message)\n"
     ]
    },
    {
     "data": {
      "application/vnd.jupyter.widget-view+json": {
       "model_id": "4d859d3237a549978094cca0bae69c98",
       "version_major": 2,
       "version_minor": 0
      },
      "text/plain": [
       "config_sentence_transformers.json:   0%|          | 0.00/116 [00:00<?, ?B/s]"
      ]
     },
     "metadata": {},
     "output_type": "display_data"
    },
    {
     "data": {
      "application/vnd.jupyter.widget-view+json": {
       "model_id": "7f5bc9818fd34691b201f110e5717c3a",
       "version_major": 2,
       "version_minor": 0
      },
      "text/plain": [
       "README.md:   0%|          | 0.00/10.6k [00:00<?, ?B/s]"
      ]
     },
     "metadata": {},
     "output_type": "display_data"
    },
    {
     "data": {
      "application/vnd.jupyter.widget-view+json": {
       "model_id": "f0467e7179294219858e07b39c83aea4",
       "version_major": 2,
       "version_minor": 0
      },
      "text/plain": [
       "sentence_bert_config.json:   0%|          | 0.00/53.0 [00:00<?, ?B/s]"
      ]
     },
     "metadata": {},
     "output_type": "display_data"
    },
    {
     "data": {
      "application/vnd.jupyter.widget-view+json": {
       "model_id": "566e71e1ed41414e9c805471c1484e5e",
       "version_major": 2,
       "version_minor": 0
      },
      "text/plain": [
       "config.json:   0%|          | 0.00/571 [00:00<?, ?B/s]"
      ]
     },
     "metadata": {},
     "output_type": "display_data"
    },
    {
     "data": {
      "application/vnd.jupyter.widget-view+json": {
       "model_id": "6859e3544c194f7387013dd3ac9becf2",
       "version_major": 2,
       "version_minor": 0
      },
      "text/plain": [
       "model.safetensors:   0%|          | 0.00/438M [00:00<?, ?B/s]"
      ]
     },
     "metadata": {},
     "output_type": "display_data"
    },
    {
     "data": {
      "application/vnd.jupyter.widget-view+json": {
       "model_id": "81c00be154f644819dcfa46d5ec5fb78",
       "version_major": 2,
       "version_minor": 0
      },
      "text/plain": [
       "tokenizer_config.json:   0%|          | 0.00/363 [00:00<?, ?B/s]"
      ]
     },
     "metadata": {},
     "output_type": "display_data"
    },
    {
     "data": {
      "application/vnd.jupyter.widget-view+json": {
       "model_id": "54e01faf81644bea88f2afa99f909b03",
       "version_major": 2,
       "version_minor": 0
      },
      "text/plain": [
       "vocab.txt:   0%|          | 0.00/232k [00:00<?, ?B/s]"
      ]
     },
     "metadata": {},
     "output_type": "display_data"
    },
    {
     "data": {
      "application/vnd.jupyter.widget-view+json": {
       "model_id": "6c27d50637f84001bd20517d113c6e68",
       "version_major": 2,
       "version_minor": 0
      },
      "text/plain": [
       "tokenizer.json:   0%|          | 0.00/466k [00:00<?, ?B/s]"
      ]
     },
     "metadata": {},
     "output_type": "display_data"
    },
    {
     "data": {
      "application/vnd.jupyter.widget-view+json": {
       "model_id": "e05b4758b63741ea92f9df9188b74562",
       "version_major": 2,
       "version_minor": 0
      },
      "text/plain": [
       "special_tokens_map.json:   0%|          | 0.00/239 [00:00<?, ?B/s]"
      ]
     },
     "metadata": {},
     "output_type": "display_data"
    },
    {
     "data": {
      "application/vnd.jupyter.widget-view+json": {
       "model_id": "b92db4cc91dd46a697392eef2c4b455d",
       "version_major": 2,
       "version_minor": 0
      },
      "text/plain": [
       "1_Pooling/config.json:   0%|          | 0.00/190 [00:00<?, ?B/s]"
      ]
     },
     "metadata": {},
     "output_type": "display_data"
    }
   ],
   "source": [
    "# create embeddings\n",
    "from langchain_community.embeddings import HuggingFaceEmbeddings\n",
    "embeddings = HuggingFaceEmbeddings()"
   ]
  },
  {
   "cell_type": "code",
   "execution_count": 4,
   "id": "aa4b68bb",
   "metadata": {},
   "outputs": [],
   "source": [
    "# vector database\n",
    "# One popular vector database is the Facebook AI Similarity Search (FAISS), an open-source library developed by Facebook Research.\n",
    "from langchain_community.vectorstores import FAISS\n",
    "db = FAISS.from_documents(texts, embeddings)"
   ]
  },
  {
   "cell_type": "code",
   "execution_count": 5,
   "id": "96536e65",
   "metadata": {},
   "outputs": [],
   "source": [
    "# create reteriver\n",
    "retriever = db.as_retriever()"
   ]
  },
  {
   "cell_type": "code",
   "execution_count": 6,
   "id": "98b65e51",
   "metadata": {},
   "outputs": [],
   "source": [
    "docs = retriever.get_relevant_documents(\"what is about veterans\")"
   ]
  },
  {
   "cell_type": "code",
   "execution_count": 7,
   "id": "dd0d30b2",
   "metadata": {},
   "outputs": [
    {
     "name": "stdout",
     "output_type": "stream",
     "text": [
      "Third, support our veterans.\n",
      "Veterans are the best of us.\n",
      "I’ve always believed that we have a sacred obligation to equip all those we send to war and care for them and their families when they come home.\n",
      "My administration is providing assistance with job training and housing, and now helping lower-income veterans get VA care debt-free.\n",
      "Our troops in Iraq and Afghanistan faced many dangers.\n",
      "One was stationed at bases and breathing in toxic smoke from “burn pits” that incinerated wastes of war—medical and hazard material, jet fuel, and more.\n",
      "When they came home, many of the world’s fittest and best trained warriors were never the same.\n",
      "Headaches. Numbness. Dizziness.\n",
      "A cancer that would put them in a flag-draped coffin.\n",
      "I know.\n",
      "One of those soldiers was my son Major Beau Biden.\n",
      "We don’t know for sure if a burn pit was the cause of his brain cancer, or the diseases of so many of our troops.\n",
      "But I’m committed to finding out everything we can.\n",
      "Committed to military families like Danielle Robinson from Ohio.\n",
      "The widow of Sergeant First Class Heath Robinson.\n",
      "He was born a soldier. Army National Guard. Combat medic in Kosovo and Iraq.\n",
      "Stationed near Baghdad, just yards from burn pits the size of football fields.\n",
      "Heath’s widow Danielle is here with us tonight. They loved going to Ohio State football games. He loved building Legos with their daughter.\n",
      "But cancer from prolonged exposure to burn pits ravaged Heath’s lungs and body.\n",
      "Danielle says Heath was a fighter to the very end.\n",
      "He didn’t know how to stop fighting, and neither did she.\n",
      "Through her pain she found purpose to demand we do better.\n",
      "Tonight, Danielle—we are.\n",
      "The VA is pioneering new ways of linking toxic exposures to diseases, already helping more veterans get benefits.\n",
      "And tonight, I’m announcing we’re expanding eligibility to veterans suffering from nine respiratory cancers.\n",
      "I’m also calling on Congress: pass a law to make sure veterans devastated by toxic exposures in Iraq and Afghanistan finally get the benefits and comprehensive health care they deserve.\n"
     ]
    }
   ],
   "source": [
    "print(docs[0].page_content)"
   ]
  },
  {
   "cell_type": "code",
   "execution_count": 8,
   "id": "9784ad38",
   "metadata": {},
   "outputs": [],
   "source": [
    "# Maximum marginal relevance retrieval\n",
    "# By default, the vector store retriever uses similarity search. If the underlying vector store supports maximum marginal\n",
    "# relevance search, you can specify that as the search type.\n",
    "retriever = db.as_retriever(search_type=\"mmr\")"
   ]
  },
  {
   "cell_type": "code",
   "execution_count": 9,
   "id": "d0d6bc01",
   "metadata": {},
   "outputs": [
    {
     "name": "stdout",
     "output_type": "stream",
     "text": [
      "Third, support our veterans.\n",
      "Veterans are the best of us.\n",
      "I’ve always believed that we have a sacred obligation to equip all those we send to war and care for them and their families when they come home.\n",
      "My administration is providing assistance with job training and housing, and now helping lower-income veterans get VA care debt-free.\n",
      "Our troops in Iraq and Afghanistan faced many dangers.\n",
      "One was stationed at bases and breathing in toxic smoke from “burn pits” that incinerated wastes of war—medical and hazard material, jet fuel, and more.\n",
      "When they came home, many of the world’s fittest and best trained warriors were never the same.\n",
      "Headaches. Numbness. Dizziness.\n",
      "A cancer that would put them in a flag-draped coffin.\n",
      "I know.\n",
      "One of those soldiers was my son Major Beau Biden.\n",
      "We don’t know for sure if a burn pit was the cause of his brain cancer, or the diseases of so many of our troops.\n",
      "But I’m committed to finding out everything we can.\n",
      "Committed to military families like Danielle Robinson from Ohio.\n",
      "The widow of Sergeant First Class Heath Robinson.\n",
      "He was born a soldier. Army National Guard. Combat medic in Kosovo and Iraq.\n",
      "Stationed near Baghdad, just yards from burn pits the size of football fields.\n",
      "Heath’s widow Danielle is here with us tonight. They loved going to Ohio State football games. He loved building Legos with their daughter.\n",
      "But cancer from prolonged exposure to burn pits ravaged Heath’s lungs and body.\n",
      "Danielle says Heath was a fighter to the very end.\n",
      "He didn’t know how to stop fighting, and neither did she.\n",
      "Through her pain she found purpose to demand we do better.\n",
      "Tonight, Danielle—we are.\n",
      "The VA is pioneering new ways of linking toxic exposures to diseases, already helping more veterans get benefits.\n",
      "And tonight, I’m announcing we’re expanding eligibility to veterans suffering from nine respiratory cancers.\n",
      "I’m also calling on Congress: pass a law to make sure veterans devastated by toxic exposures in Iraq and Afghanistan finally get the benefits and comprehensive health care they deserve.\n"
     ]
    }
   ],
   "source": [
    "docs = retriever.get_relevant_documents(\"what is about veterans\")\n",
    "print(docs[0].page_content)"
   ]
  },
  {
   "cell_type": "code",
   "execution_count": 10,
   "id": "0473d21a",
   "metadata": {},
   "outputs": [
    {
     "data": {
      "text/plain": [
       "1"
      ]
     },
     "execution_count": 10,
     "metadata": {},
     "output_type": "execute_result"
    }
   ],
   "source": [
    "retriever = db.as_retriever(search_kwargs={\"k\": 1})\n",
    "docs = retriever.get_relevant_documents(\"what did he say about ketanji brown jackson\")\n",
    "len(docs)"
   ]
  },
  {
   "cell_type": "code",
   "execution_count": 11,
   "id": "0785f007",
   "metadata": {},
   "outputs": [
    {
     "name": "stdout",
     "output_type": "stream",
     "text": [
      "Third, support our veterans.\n",
      "Veterans are the best of us.\n",
      "I’ve always believed that we have a sacred obligation to equip all those we send to war and care for them and their families when they come home.\n",
      "My administration is providing assistance with job training and housing, and now helping lower-income veterans get VA care debt-free.\n",
      "Our troops in Iraq and Afghanistan faced many dangers.\n",
      "One was stationed at bases and breathing in toxic smoke from “burn pits” that incinerated wastes of war—medical and hazard material, jet fuel, and more.\n",
      "When they came home, many of the world’s fittest and best trained warriors were never the same.\n",
      "Headaches. Numbness. Dizziness.\n",
      "A cancer that would put them in a flag-draped coffin.\n",
      "I know.\n",
      "One of those soldiers was my son Major Beau Biden.\n",
      "We don’t know for sure if a burn pit was the cause of his brain cancer, or the diseases of so many of our troops.\n",
      "But I’m committed to finding out everything we can.\n",
      "Committed to military families like Danielle Robinson from Ohio.\n",
      "The widow of Sergeant First Class Heath Robinson.\n",
      "He was born a soldier. Army National Guard. Combat medic in Kosovo and Iraq.\n",
      "Stationed near Baghdad, just yards from burn pits the size of football fields.\n",
      "Heath’s widow Danielle is here with us tonight. They loved going to Ohio State football games. He loved building Legos with their daughter.\n",
      "But cancer from prolonged exposure to burn pits ravaged Heath’s lungs and body.\n",
      "Danielle says Heath was a fighter to the very end.\n",
      "He didn’t know how to stop fighting, and neither did she.\n",
      "Through her pain she found purpose to demand we do better.\n",
      "Tonight, Danielle—we are.\n",
      "The VA is pioneering new ways of linking toxic exposures to diseases, already helping more veterans get benefits.\n",
      "And tonight, I’m announcing we’re expanding eligibility to veterans suffering from nine respiratory cancers.\n",
      "I’m also calling on Congress: pass a law to make sure veterans devastated by toxic exposures in Iraq and Afghanistan finally get the benefits and comprehensive health care they deserve.\n"
     ]
    }
   ],
   "source": [
    "print(docs[0].page_content)"
   ]
  },
  {
   "cell_type": "code",
   "execution_count": null,
   "id": "1260a1d6",
   "metadata": {},
   "outputs": [],
   "source": []
  }
 ],
 "metadata": {
  "kernelspec": {
   "display_name": "Python 3 (ipykernel)",
   "language": "python",
   "name": "python3"
  },
  "language_info": {
   "codemirror_mode": {
    "name": "ipython",
    "version": 3
   },
   "file_extension": ".py",
   "mimetype": "text/x-python",
   "name": "python",
   "nbconvert_exporter": "python",
   "pygments_lexer": "ipython3",
   "version": "3.9.13"
  }
 },
 "nbformat": 4,
 "nbformat_minor": 5
}
