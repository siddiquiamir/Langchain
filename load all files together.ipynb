{
 "cells": [
  {
   "cell_type": "markdown",
   "id": "b5eb1b8c",
   "metadata": {},
   "source": [
    "# DirectoryLoader"
   ]
  },
  {
   "cell_type": "markdown",
   "id": "cfb160d0",
   "metadata": {},
   "source": [
    "- This covers how to load all documents in a directory.\n",
    "- Under the hood, by default this uses the UnstructuredLoader.\n"
   ]
  },
  {
   "cell_type": "code",
   "execution_count": 1,
   "id": "85d4a55d",
   "metadata": {},
   "outputs": [],
   "source": [
    "from langchain_community.document_loaders import DirectoryLoader"
   ]
  },
  {
   "cell_type": "code",
   "execution_count": 2,
   "id": "438b6ef9",
   "metadata": {},
   "outputs": [
    {
     "data": {
      "text/plain": [
       "'E:\\\\LangChain'"
      ]
     },
     "execution_count": 2,
     "metadata": {},
     "output_type": "execute_result"
    }
   ],
   "source": [
    "pwd"
   ]
  },
  {
   "cell_type": "code",
   "execution_count": 3,
   "id": "820ce653",
   "metadata": {},
   "outputs": [
    {
     "name": "stdout",
     "output_type": "stream",
     "text": [
      " Volume in drive E is New Volume\n",
      " Volume Serial Number is 064C-5224\n",
      "\n",
      " Directory of E:\\LangChain\n",
      "\n",
      "11-02-2024  12:41    <DIR>          .\n",
      "11-02-2024  12:41    <DIR>          .ipynb_checkpoints\n",
      "07-02-2024  00:05             4,825 Create PromptTemplate and LLMChain -02.ipynb\n",
      "10-02-2024  22:43             4,251 Generate pet name -01.ipynb\n",
      "11-02-2024  00:15             5,107 Iris.csv\n",
      "10-02-2024  17:23             5,417 langchain-tut-1.ipynb\n",
      "10-02-2024  18:25             6,446 langchain-tut-2.ipynb\n",
      "31-01-2024  23:09             8,769 langchain-tut-4 use PromptTemplate.ipynb\n",
      "31-01-2024  21:32             8,124 langchat-tut-3.ipynb\n",
      "11-02-2024  00:19            33,849 load csv file.ipynb\n",
      "11-02-2024  11:58             3,108 load html file.ipynb\n",
      "11-02-2024  12:40             3,884 load text file.ipynb\n",
      "11-02-2024  11:55               868 sample.html\n",
      "11-02-2024  12:11               588 sample_text.txt\n",
      "11-02-2024  12:40    <DIR>          text_files\n",
      "03-02-2024  23:02               775 Untitled.ipynb\n",
      "11-02-2024  00:01            18,291 Untitled1.ipynb\n",
      "11-02-2024  12:41                72 Untitled2.ipynb\n",
      "              15 File(s)        104,374 bytes\n",
      "               3 Dir(s)  239,853,334,528 bytes free\n"
     ]
    }
   ],
   "source": [
    "ls"
   ]
  },
  {
   "cell_type": "code",
   "execution_count": 11,
   "id": "c10f8932",
   "metadata": {},
   "outputs": [],
   "source": [
    "loader = DirectoryLoader(r'E:\\LangChain\\text_files', glob=\"**/*.txt\", show_progress=True)"
   ]
  },
  {
   "cell_type": "code",
   "execution_count": 12,
   "id": "5f528dae",
   "metadata": {},
   "outputs": [
    {
     "name": "stderr",
     "output_type": "stream",
     "text": [
      "100%|███████████████████████████████████████████████████████████████████████████████████| 4/4 [00:00<00:00, 112.33it/s]\n"
     ]
    }
   ],
   "source": [
    "docs = loader.load()"
   ]
  },
  {
   "cell_type": "code",
   "execution_count": 13,
   "id": "68e66fdf",
   "metadata": {},
   "outputs": [
    {
     "data": {
      "text/plain": [
       "4"
      ]
     },
     "execution_count": 13,
     "metadata": {},
     "output_type": "execute_result"
    }
   ],
   "source": [
    "len(docs)"
   ]
  },
  {
   "cell_type": "code",
   "execution_count": 14,
   "id": "9dc7ac20",
   "metadata": {},
   "outputs": [
    {
     "name": "stdout",
     "output_type": "stream",
     "text": [
      "Document source: E:\\LangChain\\text_files\\sample_text.txt\n",
      "Page content: This is a sample text file. You can put any text content you want in it. It can be used for storing plain text information such as notes, messages, or data.\n",
      "\n",
      "Text files are commonly used for various purposes, including:\n",
      "\n",
      "Writing code snippets\n",
      "\n",
      "Saving configuration settings\n",
      "\n",
      "Storing contact information\n",
      "\n",
      "Keeping track of to\n",
      "\n",
      "do lists\n",
      "\n",
      "Writing documentation\n",
      "\n",
      "You can create and edit text files using a simple text editor like Notepad on Windows, TextEdit on macOS, or any other text editor of your choice.\n",
      "\n",
      "Feel free to modify this text file as needed for your own use!\n",
      "\n",
      "Document source: E:\\LangChain\\text_files\\sample_text1.txt\n",
      "Page content: This is sample text file 1. You can put any text content you want in it. Feel free to modify this text file as needed for your own use!\n",
      "\n",
      "Document source: E:\\LangChain\\text_files\\sample_text2.txt\n",
      "Page content: This is sample text file 2.\n",
      "\n",
      "You can put any text content you want in it.\n",
      "\n",
      "Feel free to modify this text file as needed for your own use!\n",
      "\n",
      "Document source: E:\\LangChain\\text_files\\sample_text3.txt\n",
      "Page content: This is sample text file 3.\n",
      "\n",
      "You can put any text content you want in it.\n",
      "\n",
      "Feel free to modify this text file as needed for your own use!\n",
      "\n"
     ]
    }
   ],
   "source": [
    "for document in docs:\n",
    "    print(\"Document source:\", document.metadata.get('source', 'Unknown'))\n",
    "    print(\"Page content:\", document.page_content)\n",
    "    print()  # Add a new line between documents\n"
   ]
  },
  {
   "cell_type": "code",
   "execution_count": null,
   "id": "76e0c305",
   "metadata": {},
   "outputs": [],
   "source": []
  }
 ],
 "metadata": {
  "kernelspec": {
   "display_name": "Python 3 (ipykernel)",
   "language": "python",
   "name": "python3"
  },
  "language_info": {
   "codemirror_mode": {
    "name": "ipython",
    "version": 3
   },
   "file_extension": ".py",
   "mimetype": "text/x-python",
   "name": "python",
   "nbconvert_exporter": "python",
   "pygments_lexer": "ipython3",
   "version": "3.9.13"
  }
 },
 "nbformat": 4,
 "nbformat_minor": 5
}
