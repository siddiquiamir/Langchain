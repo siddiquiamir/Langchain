{
 "cells": [
  {
   "cell_type": "markdown",
   "id": "aa66b52b",
   "metadata": {},
   "source": [
    "# ChatMessageHistory\n",
    "- This is a super lightweight wrapper that provides convenience methods for saving HumanMessages, AIMessages, \n",
    "- and then fetching them all."
   ]
  },
  {
   "cell_type": "code",
   "execution_count": 1,
   "id": "d7d50f72",
   "metadata": {},
   "outputs": [],
   "source": [
    "from langchain.memory import ChatMessageHistory"
   ]
  },
  {
   "cell_type": "code",
   "execution_count": 2,
   "id": "30679589",
   "metadata": {},
   "outputs": [],
   "source": [
    "history = ChatMessageHistory()"
   ]
  },
  {
   "cell_type": "code",
   "execution_count": 3,
   "id": "efaa43d5",
   "metadata": {},
   "outputs": [],
   "source": [
    "history.add_user_message(\"hi! how are you\")"
   ]
  },
  {
   "cell_type": "code",
   "execution_count": 4,
   "id": "1a7b91ab",
   "metadata": {},
   "outputs": [],
   "source": [
    "history.add_ai_message(\"whats up?\")"
   ]
  },
  {
   "cell_type": "code",
   "execution_count": 5,
   "id": "6a0ef80c",
   "metadata": {},
   "outputs": [
    {
     "data": {
      "text/plain": [
       "[HumanMessage(content='hi! how are you'), AIMessage(content='whats up?')]"
      ]
     },
     "execution_count": 5,
     "metadata": {},
     "output_type": "execute_result"
    }
   ],
   "source": [
    "history.messages"
   ]
  },
  {
   "cell_type": "code",
   "execution_count": 6,
   "id": "e4eab28e",
   "metadata": {},
   "outputs": [],
   "source": [
    "history.add_user_message(\"what do you do?\")"
   ]
  },
  {
   "cell_type": "code",
   "execution_count": 7,
   "id": "3c060c07",
   "metadata": {},
   "outputs": [],
   "source": [
    "history.add_ai_message(\"I am a bot\")"
   ]
  },
  {
   "cell_type": "code",
   "execution_count": 8,
   "id": "b1c9f76c",
   "metadata": {},
   "outputs": [
    {
     "data": {
      "text/plain": [
       "[HumanMessage(content='hi! how are you'),\n",
       " AIMessage(content='whats up?'),\n",
       " HumanMessage(content='what do you do?'),\n",
       " AIMessage(content='I am a bot')]"
      ]
     },
     "execution_count": 8,
     "metadata": {},
     "output_type": "execute_result"
    }
   ],
   "source": [
    "history.messages"
   ]
  },
  {
   "cell_type": "code",
   "execution_count": 9,
   "id": "5e9bf493",
   "metadata": {},
   "outputs": [],
   "source": [
    "history.add_user_message(\"can I ask you a question?\")"
   ]
  },
  {
   "cell_type": "code",
   "execution_count": 10,
   "id": "ecc00b59",
   "metadata": {},
   "outputs": [],
   "source": [
    "history.add_ai_message(\"yes please\")"
   ]
  },
  {
   "cell_type": "code",
   "execution_count": 15,
   "id": "752a3174",
   "metadata": {},
   "outputs": [
    {
     "data": {
      "text/plain": [
       "[HumanMessage(content='hi! how are you'),\n",
       " AIMessage(content='whats up?'),\n",
       " HumanMessage(content='what do you do?'),\n",
       " AIMessage(content='I am a bot'),\n",
       " HumanMessage(content='can I ask you a question?'),\n",
       " AIMessage(content='yes please')]"
      ]
     },
     "execution_count": 15,
     "metadata": {},
     "output_type": "execute_result"
    }
   ],
   "source": [
    "history.messages"
   ]
  },
  {
   "cell_type": "code",
   "execution_count": 14,
   "id": "2c46425d",
   "metadata": {},
   "outputs": [
    {
     "data": {
      "text/plain": [
       "HumanMessage(content='what do you do?')"
      ]
     },
     "execution_count": 14,
     "metadata": {},
     "output_type": "execute_result"
    }
   ],
   "source": [
    "history.messages[2]"
   ]
  },
  {
   "cell_type": "code",
   "execution_count": null,
   "id": "378fbb06",
   "metadata": {},
   "outputs": [],
   "source": []
  }
 ],
 "metadata": {
  "kernelspec": {
   "display_name": "Python 3 (ipykernel)",
   "language": "python",
   "name": "python3"
  },
  "language_info": {
   "codemirror_mode": {
    "name": "ipython",
    "version": 3
   },
   "file_extension": ".py",
   "mimetype": "text/x-python",
   "name": "python",
   "nbconvert_exporter": "python",
   "pygments_lexer": "ipython3",
   "version": "3.9.13"
  }
 },
 "nbformat": 4,
 "nbformat_minor": 5
}
