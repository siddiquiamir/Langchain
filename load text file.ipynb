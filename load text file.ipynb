{
 "cells": [
  {
   "cell_type": "code",
   "execution_count": 1,
   "id": "9b6bbf52",
   "metadata": {},
   "outputs": [],
   "source": [
    "from langchain_community.document_loaders import TextLoader"
   ]
  },
  {
   "cell_type": "code",
   "execution_count": 2,
   "id": "410c051a",
   "metadata": {},
   "outputs": [],
   "source": [
    "loader = TextLoader(\"sample_text.txt\")"
   ]
  },
  {
   "cell_type": "code",
   "execution_count": 31,
   "id": "530a2899",
   "metadata": {},
   "outputs": [
    {
     "data": {
      "text/plain": [
       "langchain_community.document_loaders.text.TextLoader"
      ]
     },
     "execution_count": 31,
     "metadata": {},
     "output_type": "execute_result"
    }
   ],
   "source": [
    "type(loader)"
   ]
  },
  {
   "cell_type": "code",
   "execution_count": 28,
   "id": "679187d1",
   "metadata": {},
   "outputs": [],
   "source": [
    "document = loader.load()"
   ]
  },
  {
   "cell_type": "code",
   "execution_count": 32,
   "id": "1f08bc19",
   "metadata": {},
   "outputs": [
    {
     "data": {
      "text/plain": [
       "[Document(page_content='This is a sample text file. You can put any text content you want in it.\\nIt can be used for storing plain text information such as notes, messages, or data.\\n\\nText files are commonly used for various purposes, including:\\n\\n- Writing code snippets\\n- Saving configuration settings\\n- Storing contact information\\n- Keeping track of to-do lists\\n- Writing documentation\\n\\nYou can create and edit text files using a simple text editor like Notepad on Windows, TextEdit on macOS, or any other text editor of your choice.\\n\\nFeel free to modify this text file as needed for your own use!\\n', metadata={'source': 'sample_text.txt'})]"
      ]
     },
     "execution_count": 32,
     "metadata": {},
     "output_type": "execute_result"
    }
   ],
   "source": [
    "document"
   ]
  },
  {
   "cell_type": "code",
   "execution_count": 33,
   "id": "e218b3fe",
   "metadata": {},
   "outputs": [
    {
     "name": "stdout",
     "output_type": "stream",
     "text": [
      "Document source: sample_text.txt\n",
      "Page content: This is a sample text file. You can put any text content you want in it.\n",
      "It can be used for storing plain text information such as notes, messages, or data.\n",
      "\n",
      "Text files are commonly used for various purposes, including:\n",
      "\n",
      "- Writing code snippets\n",
      "- Saving configuration settings\n",
      "- Storing contact information\n",
      "- Keeping track of to-do lists\n",
      "- Writing documentation\n",
      "\n",
      "You can create and edit text files using a simple text editor like Notepad on Windows, TextEdit on macOS, or any other text editor of your choice.\n",
      "\n",
      "Feel free to modify this text file as needed for your own use!\n",
      "\n",
      "\n"
     ]
    }
   ],
   "source": [
    "# Assume load function loads multiple documents and returns a list of Document objects\n",
    "\n",
    "for documents in document:\n",
    "    print(\"Document source:\", documents.metadata.get('source', 'Unknown'))\n",
    "    print(\"Page content:\", documents.page_content)\n",
    "    print()  # Add a new line between documents\n"
   ]
  },
  {
   "cell_type": "code",
   "execution_count": null,
   "id": "b3d33bba",
   "metadata": {},
   "outputs": [],
   "source": []
  }
 ],
 "metadata": {
  "kernelspec": {
   "display_name": "Python 3 (ipykernel)",
   "language": "python",
   "name": "python3"
  },
  "language_info": {
   "codemirror_mode": {
    "name": "ipython",
    "version": 3
   },
   "file_extension": ".py",
   "mimetype": "text/x-python",
   "name": "python",
   "nbconvert_exporter": "python",
   "pygments_lexer": "ipython3",
   "version": "3.9.13"
  }
 },
 "nbformat": 4,
 "nbformat_minor": 5
}
