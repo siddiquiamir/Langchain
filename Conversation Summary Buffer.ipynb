{
 "cells": [
  {
   "cell_type": "markdown",
   "id": "b4f803be",
   "metadata": {},
   "source": [
    "# Conversation Summary Buffer\n",
    "\n",
    "- it uses llm models to do the summarization therefore we will be first creating a llm model\n",
    "- ConversationSummaryBufferMemory combines the two ideas. It keeps a buffer of recent interactions in memory, but rather \n",
    "- than just completely flushing old interactions it compiles them into a summary and uses both. It uses token length rather \n",
    "- than number of interactions to determine when to flush interactions."
   ]
  },
  {
   "cell_type": "code",
   "execution_count": 2,
   "id": "163465a4",
   "metadata": {},
   "outputs": [],
   "source": [
    "import os\n",
    "from getpass import getpass\n",
    "from langchain import HuggingFaceHub"
   ]
  },
  {
   "cell_type": "code",
   "execution_count": 3,
   "id": "5a3d719f",
   "metadata": {},
   "outputs": [
    {
     "name": "stdout",
     "output_type": "stream",
     "text": [
      "········\n"
     ]
    }
   ],
   "source": [
    "HUGGINGFACEHUB_API_TOKEN = getpass()"
   ]
  },
  {
   "cell_type": "code",
   "execution_count": 4,
   "id": "0d847172",
   "metadata": {},
   "outputs": [],
   "source": [
    "os.environ[\"HUGGINGFACEHUB_API_TOKEN\"] = HUGGINGFACEHUB_API_TOKEN"
   ]
  },
  {
   "cell_type": "code",
   "execution_count": 5,
   "id": "bba3e903",
   "metadata": {},
   "outputs": [],
   "source": [
    "llm = HuggingFaceHub(repo_id='google/gemma-7b')"
   ]
  },
  {
   "cell_type": "code",
   "execution_count": 11,
   "id": "42d35c4a",
   "metadata": {},
   "outputs": [],
   "source": [
    "from langchain.memory import ConversationSummaryBufferMemory\n",
    "memory = ConversationSummaryBufferMemory(llm=llm, max_token_limit=10)"
   ]
  },
  {
   "cell_type": "code",
   "execution_count": 13,
   "id": "ae0164c9",
   "metadata": {},
   "outputs": [],
   "source": [
    "from langchain.chains import ConversationChain\n",
    "conversation = ConversationChain(llm=llm, memory=memory)"
   ]
  },
  {
   "cell_type": "code",
   "execution_count": 15,
   "id": "63fd7b58",
   "metadata": {
    "scrolled": true
   },
   "outputs": [
    {
     "data": {
      "text/plain": [
       "'The following is a friendly conversation between a human and an AI. The AI is talkative and provides lots of specific details from its context. If the AI does not know the answer to a question, it truthfully says it does not know.\\n\\nCurrent conversation:\\n\\nHuman: Give me some travel plans for Turkey\\nAI: Here are some travel plans for Turkey:\\n– Visit the Blue Mosque in Istanbul\\n– Go shopping at Grand Bazaar\\n– Take a hot air balloon ride in Cappadocia\\n– Go rafting in the white water rapids of the Dalyan River\\n– Explore the ancient ruined city of Ephesus\\n– Relax on the stunning beaches of Antalya\\n– Visit the South Caspar Monastery in Istanbul\\n– Eat a delicious Turkish meal in the town of Konak\\n– Take in the stunning views of the Acropolis'"
      ]
     },
     "execution_count": 15,
     "metadata": {},
     "output_type": "execute_result"
    }
   ],
   "source": [
    "conversation.predict(input = \"Give me some travel plans for Turkey\")"
   ]
  },
  {
   "cell_type": "code",
   "execution_count": 16,
   "id": "bd79cfc3",
   "metadata": {},
   "outputs": [
    {
     "name": "stdout",
     "output_type": "stream",
     "text": [
      "The following is a friendly conversation between a human and an AI. The AI is talkative and provides lots of specific details from its context. If the AI does not know the answer to a question, it truthfully says it does not know.\n",
      "\n",
      "Current conversation:\n",
      "System: Progressively summarize the lines of conversation provided, adding onto the previous summary returning a new summary.\n",
      "\n",
      "EXAMPLE\n",
      "Current summary:\n",
      "The human asks what the AI thinks of artificial intelligence. The AI thinks artificial intelligence is a force for good.\n",
      "\n",
      "New lines of conversation:\n",
      "Human: Why do you think artificial intelligence is a force for good?\n",
      "AI: Because artificial intelligence will help humans reach their full potential.\n",
      "\n",
      "New summary:\n",
      "The human asks what the AI thinks of artificial intelligence. The AI thinks artificial intelligence is a force for good because it will help humans reach their full potential.\n",
      "END OF EXAMPLE\n",
      "\n",
      "Current summary:\n",
      "\n",
      "\n",
      "New lines of conversation:\n",
      "Human: Give me some travel plans for Turkey\n",
      "AI: The following is a friendly conversation between a human and an AI. The AI is talkative and provides lots of specific details from its context. If the AI does not know the answer to a question, it truthfully says it does not know.\n",
      "\n",
      "Current conversation:\n",
      "\n",
      "Human: Give me some travel plans for Turkey\n",
      "AI: Here are some travel plans for Turkey:\n",
      "– Visit the Blue Mosque in Istanbul\n",
      "– Go shopping at Grand Bazaar\n",
      "– Take a hot air balloon ride in Cappadocia\n",
      "– Go rafting in the white water rapids of the Dalyan River\n",
      "– Explore the ancient ruined city of Ephesus\n",
      "– Relax on the stunning beaches of Antalya\n",
      "– Visit the South Caspar Monastery in Istanbul\n",
      "– Eat a delicious Turkish meal in the town of Konak\n",
      "– Take in the stunning views of the Acropolis\n",
      "\n",
      "New summary:\n",
      "\n",
      "The human asks the AI to give them some travel plans for Turkey. The AI provides them a list of things to do, such as visiting the Blue Mosque, going shopping at Grand Bazaar, taking a hot air balloon ride in Cappadocia, and going rafting in the white water rapids of the Dalyan River. The AI also tells the human about other places to visit, such as the ancient ruined city of Ephesus, the stunning beaches of Antalya, and the South Caspar Monastery in Istanbul. The\n",
      "Human: Give me some travel plans for Turkey\n",
      "AI: For a three day trip to Turkey, here are the places you should visit:\n",
      "\n",
      "Harmandalar, Antalya\n",
      "\n",
      "Harmandalar is a popular tourist destination located in the Antalya province. The area is known for its stunning beaches and vibrant nightlife. Visitors can enjoy a variety of activities such as swimming, sunbathing, or taking a boat ride along the coast.\n",
      "\n",
      "Konyaaltı, Antalya\n",
      "\n",
      "This is a populous area of the Antalya province located to the east of the city of Antalya. Known\n"
     ]
    }
   ],
   "source": [
    "print(conversation.predict(input = \"Give me some travel plans for Turkey\"))"
   ]
  },
  {
   "cell_type": "code",
   "execution_count": 17,
   "id": "0be35489",
   "metadata": {},
   "outputs": [
    {
     "name": "stderr",
     "output_type": "stream",
     "text": [
      "Token indices sequence length is longer than the specified maximum sequence length for this model (1458 > 1024). Running this sequence through the model will result in indexing errors\n"
     ]
    },
    {
     "data": {
      "text/plain": [
       "'The following is a friendly conversation between a human and an AI. The AI is talkative and provides lots of specific details from its context. If the AI does not know the answer to a question, it truthfully says it does not know.\\n\\nCurrent conversation:\\nSystem: Progressively summarize the lines of conversation provided, adding onto the previous summary returning a new summary.\\n\\nEXAMPLE\\nCurrent summary:\\nThe human asks what the AI thinks of artificial intelligence. The AI thinks artificial intelligence is a force for good.\\n\\nNew lines of conversation:\\nHuman: Why do you think artificial intelligence is a force for good?\\nAI: Because artificial intelligence will help humans reach their full potential.\\n\\nNew summary:\\nThe human asks what the AI thinks of artificial intelligence. The AI thinks artificial intelligence is a force for good because it will help humans reach their full potential.\\nEND OF EXAMPLE\\n\\nCurrent summary:\\nProgressively summarize the lines of conversation provided, adding onto the previous summary returning a new summary.\\n\\nEXAMPLE\\nCurrent summary:\\nThe human asks what the AI thinks of artificial intelligence. The AI thinks artificial intelligence is a force for good.\\n\\nNew lines of conversation:\\nHuman: Why do you think artificial intelligence is a force for good?\\nAI: Because artificial intelligence will help humans reach their full potential.\\n\\nNew summary:\\nThe human asks what the AI thinks of artificial intelligence. The AI thinks artificial intelligence is a force for good because it will help humans reach their full potential.\\nEND OF EXAMPLE\\n\\nCurrent summary:\\n\\n\\nNew lines of conversation:\\nHuman: Give me some travel plans for Turkey\\nAI: The following is a friendly conversation between a human and an AI. The AI is talkative and provides lots of specific details from its context. If the AI does not know the answer to a question, it truthfully says it does not know.\\n\\nCurrent conversation:\\n\\nHuman: Give me some travel plans for Turkey\\nAI: Here are some travel plans for Turkey:\\n– Visit the Blue Mosque in Istanbul\\n– Go shopping at Grand Bazaar\\n– Take a hot air balloon ride in Cappadocia\\n– Go rafting in the white water rapids of the Dalyan River\\n– Explore the ancient ruined city of Ephesus\\n– Relax on the stunning beaches of Antalya\\n– Visit the South Caspar Monastery in Istanbul\\n– Eat a delicious Turkish meal in the town of Konak\\n– Take in the stunning views of the Acropolis\\n\\nNew summary:\\n\\nThe human asks the AI to give them some travel plans for Turkey. The AI provides them a list of things to do, such as visiting the Blue Mosque, going shopping at Grand Bazaar, taking a hot air balloon ride in Cappadocia, and going rafting in the white water rapids of the Dalyan River. The AI also tells the human about other places to visit, such as the ancient ruined city of Ephesus, the stunning beaches of Antalya, and the South Caspar Monastery in Istanbul. The\\n\\nNew lines of conversation:\\nHuman: Give me some travel plans for Turkey\\nAI: The following is a friendly conversation between a human and an AI. The AI is talkative and provides lots of specific details from its context. If the AI does not know the answer to a question, it truthfully says it does not know.\\n\\nCurrent conversation:\\nSystem: Progressively summarize the lines of conversation provided, adding onto the previous summary returning a new summary.\\n\\nEXAMPLE\\nCurrent summary:\\nThe human asks what the AI thinks of artificial intelligence. The AI thinks artificial intelligence is a force for good.\\n\\nNew lines of conversation:\\nHuman: Why do you think artificial intelligence is a force for good?\\nAI: Because artificial intelligence will help humans reach their full potential.\\n\\nNew summary:\\nThe human asks what the AI thinks of artificial intelligence. The AI thinks artificial intelligence is a force for good because it will help humans reach their full potential.\\nEND OF EXAMPLE\\n\\nCurrent summary:\\n\\n\\nNew lines of conversation:\\nHuman: Give me some travel plans for Turkey\\nAI: The following is a friendly conversation between a human and an AI. The AI is talkative and provides lots of specific details from its context. If the AI does not know the answer to a question, it truthfully says it does not know.\\n\\nCurrent conversation:\\n\\nHuman: Give me some travel plans for Turkey\\nAI: Here are some travel plans for Turkey:\\n– Visit the Blue Mosque in Istanbul\\n– Go shopping at Grand Bazaar\\n– Take a hot air balloon ride in Cappadocia\\n– Go rafting in the white water rapids of the Dalyan River\\n– Explore the ancient ruined city of Ephesus\\n– Relax on the stunning beaches of Antalya\\n– Visit the South Caspar Monastery in Istanbul\\n– Eat a delicious Turkish meal in the town of Konak\\n– Take in the stunning views of the Acropolis\\n\\nNew summary:\\n\\nThe human asks the AI to give them some travel plans for Turkey. The AI provides them a list of things to do, such as visiting the Blue Mosque, going shopping at Grand Bazaar, taking a hot air balloon ride in Cappadocia, and going rafting in the white water rapids of the Dalyan River. The AI also tells the human about other places to visit, such as the ancient ruined city of Ephesus, the stunning beaches of Antalya, and the South Caspar Monastery in Istanbul. The\\nHuman: Give me some travel plans for Turkey\\nAI: For a three day trip to Turkey, here are the places you should visit:\\n\\nHarmandalar, Antalya\\n\\nHarmandalar is a popular tourist destination located in the Antalya province. The area is known for its stunning beaches and vibrant nightlife. Visitors can enjoy a variety of activities such as swimming, sunbathing, or taking a boat ride along the coast.\\n\\nKonyaaltı, Antalya\\n\\nThis is a populous area of the Antalya province located to the east of the city of Antalya. Known\\n\\nNew summary:\\nThe human asks the AI to give them some travel plans for Turkey. The AI provides them a list of things to do, such as visiting the Blue Mosque, going shopping at Grand Bazaar, taking a hot air balloon ride in Cappadocia, and going rafting in the white water rapids of the Dalyan River. The AI also tells the human about other places to visit, such as the ancient ruined city of Ephesus, the stunning beaches of Antalya, and the South Caspar Monastery in Istanbul. The\\nHuman: Give me some travel plans for Germany\\nAI: For a four day trip to Germany, here are the places you should visit:\\n\\nGunter’s'"
      ]
     },
     "execution_count": 17,
     "metadata": {},
     "output_type": "execute_result"
    }
   ],
   "source": [
    "conversation.predict(input = \"Give me some travel plans for Germany\")"
   ]
  },
  {
   "cell_type": "code",
   "execution_count": 18,
   "id": "7aab19f8",
   "metadata": {},
   "outputs": [
    {
     "name": "stdout",
     "output_type": "stream",
     "text": [
      "The following is a friendly conversation between a human and an AI. The AI is talkative and provides lots of specific details from its context. If the AI does not know the answer to a question, it truthfully says it does not know.\n",
      "\n",
      "Current conversation:\n",
      "System: Progressively summarize the lines of conversation provided, adding onto the previous summary returning a new summary.\n",
      "\n",
      "EXAMPLE\n",
      "Current summary:\n",
      "The human asks what the AI thinks of artificial intelligence. The AI thinks artificial intelligence is a force for good.\n",
      "\n",
      "New lines of conversation:\n",
      "Human: Why do you think artificial intelligence is a force for good?\n",
      "AI: Because artificial intelligence will help humans reach their full potential.\n",
      "\n",
      "New summary:\n",
      "The human asks what the AI thinks of artificial intelligence. The AI thinks artificial intelligence is a force for good because it will help humans reach their full potential.\n",
      "END OF EXAMPLE\n",
      "\n",
      "Current summary:\n",
      "Progressively summarize the lines of conversation provided, adding onto the previous summary returning a new summary.\n",
      "\n",
      "EXAMPLE\n",
      "Current summary:\n",
      "The human asks what the AI thinks of artificial intelligence. The AI thinks artificial intelligence is a force for good.\n",
      "\n",
      "New lines of conversation:\n",
      "Human: Why do you think artificial intelligence is a force for good?\n",
      "AI: Because artificial intelligence will help humans reach their full potential.\n",
      "\n",
      "New summary:\n",
      "The human asks what the AI thinks of artificial intelligence. The AI thinks artificial intelligence is a force for good because it will help humans reach their full potential.\n",
      "END OF EXAMPLE\n",
      "\n",
      "Current summary:\n",
      "Progressively summarize the lines of conversation provided, adding onto the previous summary returning a new summary.\n",
      "\n",
      "EXAMPLE\n",
      "Current summary:\n",
      "The human asks what the AI thinks of artificial intelligence. The AI thinks artificial intelligence is a force for good.\n",
      "\n",
      "New lines of conversation:\n",
      "Human: Why do you think artificial intelligence is a force for good?\n",
      "AI: Because artificial intelligence will help humans reach their full potential.\n",
      "\n",
      "New summary:\n",
      "The human asks what the AI thinks of artificial intelligence. The AI thinks artificial intelligence is a force for good because it will help humans reach their full potential.\n",
      "END OF EXAMPLE\n",
      "\n",
      "Current summary:\n",
      "\n",
      "\n",
      "New lines of conversation:\n",
      "Human: Give me some travel plans for Turkey\n",
      "AI: The following is a friendly conversation between a human and an AI. The AI is talkative and provides lots of specific details from its context. If the AI does not know the answer to a question, it truthfully says it does not know.\n",
      "\n",
      "Current conversation:\n",
      "\n",
      "Human: Give me some travel plans for Turkey\n",
      "AI: Here are some travel plans for Turkey:\n",
      "– Visit the Blue Mosque in Istanbul\n",
      "– Go shopping at Grand Bazaar\n",
      "– Take a hot air balloon ride in Cappadocia\n",
      "– Go rafting in the white water rapids of the Dalyan River\n",
      "– Explore the ancient ruined city of Ephesus\n",
      "– Relax on the stunning beaches of Antalya\n",
      "– Visit the South Caspar Monastery in Istanbul\n",
      "– Eat a delicious Turkish meal in the town of Konak\n",
      "– Take in the stunning views of the Acropolis\n",
      "\n",
      "New summary:\n",
      "\n",
      "The human asks the AI to give them some travel plans for Turkey. The AI provides them a list of things to do, such as visiting the Blue Mosque, going shopping at Grand Bazaar, taking a hot air balloon ride in Cappadocia, and going rafting in the white water rapids of the Dalyan River. The AI also tells the human about other places to visit, such as the ancient ruined city of Ephesus, the stunning beaches of Antalya, and the South Caspar Monastery in Istanbul. The\n",
      "\n",
      "New lines of conversation:\n",
      "Human: Give me some travel plans for Turkey\n",
      "AI: The following is a friendly conversation between a human and an AI. The AI is talkative and provides lots of specific details from its context. If the AI does not know the answer to a question, it truthfully says it does not know.\n",
      "\n",
      "Current conversation:\n",
      "System: Progressively summarize the lines of conversation provided, adding onto the previous summary returning a new summary.\n",
      "\n",
      "EXAMPLE\n",
      "Current summary:\n",
      "The human asks what the AI thinks of artificial intelligence. The AI thinks artificial intelligence is a force for good.\n",
      "\n",
      "New lines of conversation:\n",
      "Human: Why do you think artificial intelligence is a force for good?\n",
      "AI: Because artificial intelligence will help humans reach their full potential.\n",
      "\n",
      "New summary:\n",
      "The human asks what the AI thinks of artificial intelligence. The AI thinks artificial intelligence is a force for good because it will help humans reach their full potential.\n",
      "END OF EXAMPLE\n",
      "\n",
      "Current summary:\n",
      "\n",
      "\n",
      "New lines of conversation:\n",
      "Human: Give me some travel plans for Turkey\n",
      "AI: The following is a friendly conversation between a human and an AI. The AI is talkative and provides lots of specific details from its context. If the AI does not know the answer to a question, it truthfully says it does not know.\n",
      "\n",
      "Current conversation:\n",
      "\n",
      "Human: Give me some travel plans for Turkey\n",
      "AI: Here are some travel plans for Turkey:\n",
      "– Visit the Blue Mosque in Istanbul\n",
      "– Go shopping at Grand Bazaar\n",
      "– Take a hot air balloon ride in Cappadocia\n",
      "– Go rafting in the white water rapids of the Dalyan River\n",
      "– Explore the ancient ruined city of Ephesus\n",
      "– Relax on the stunning beaches of Antalya\n",
      "– Visit the South Caspar Monastery in Istanbul\n",
      "– Eat a delicious Turkish meal in the town of Konak\n",
      "– Take in the stunning views of the Acropolis\n",
      "\n",
      "New summary:\n",
      "\n",
      "The human asks the AI to give them some travel plans for Turkey. The AI provides them a list of things to do, such as visiting the Blue Mosque, going shopping at Grand Bazaar, taking a hot air balloon ride in Cappadocia, and going rafting in the white water rapids of the Dalyan River. The AI also tells the human about other places to visit, such as the ancient ruined city of Ephesus, the stunning beaches of Antalya, and the South Caspar Monastery in Istanbul. The\n",
      "Human: Give me some travel plans for Turkey\n",
      "AI: For a three day trip to Turkey, here are the places you should visit:\n",
      "\n",
      "Harmandalar, Antalya\n",
      "\n",
      "Harmandalar is a popular tourist destination located in the Antalya province. The area is known for its stunning beaches and vibrant nightlife. Visitors can enjoy a variety of activities such as swimming, sunbathing, or taking a boat ride along the coast.\n",
      "\n",
      "Konyaaltı, Antalya\n",
      "\n",
      "This is a populous area of the Antalya province located to the east of the city of Antalya. Known\n",
      "\n",
      "New summary:\n",
      "The human asks the AI to give them some travel plans for Turkey. The AI provides them a list of things to do, such as visiting the Blue Mosque, going shopping at Grand Bazaar, taking a hot air balloon ride in Cappadocia, and going rafting in the white water rapids of the Dalyan River. The AI also tells the human about other places to visit, such as the ancient ruined city of Ephesus, the stunning beaches of Antalya, and the South Caspar Monastery in Istanbul. The\n",
      "\n",
      "New lines of conversation:\n",
      "Human: Give me some travel plans for Germany\n",
      "AI: The following is a friendly conversation between a human and an AI. The AI is talkative and provides lots of specific details from its context. If the AI does not know the answer to a question, it truthfully says it does not know.\n",
      "\n",
      "Current conversation:\n",
      "System: Progressively summarize the lines of conversation provided, adding onto the previous summary returning a new summary.\n",
      "\n",
      "EXAMPLE\n",
      "Current summary:\n",
      "The human asks what the AI thinks of artificial intelligence. The AI thinks artificial intelligence is a force for good.\n",
      "\n",
      "New lines of conversation:\n",
      "Human: Why do you think artificial intelligence is a force for good?\n",
      "AI: Because artificial intelligence will help humans reach their full potential.\n",
      "\n",
      "New summary:\n",
      "The human asks what the AI thinks of artificial intelligence. The AI thinks artificial intelligence is a force for good because it will help humans reach their full potential.\n",
      "END OF EXAMPLE\n",
      "\n",
      "Current summary:\n",
      "Progressively summarize the lines of conversation provided, adding onto the previous summary returning a new summary.\n",
      "\n",
      "EXAMPLE\n",
      "Current summary:\n",
      "The human asks what the AI thinks of artificial intelligence. The AI thinks artificial intelligence is a force for good.\n",
      "\n",
      "New lines of conversation:\n",
      "Human: Why do you think artificial intelligence is a force for good?\n",
      "AI: Because artificial intelligence will help humans reach their full potential.\n",
      "\n",
      "New summary:\n",
      "The human asks what the AI thinks of artificial intelligence. The AI thinks artificial intelligence is a force for good because it will help humans reach their full potential.\n",
      "END OF EXAMPLE\n",
      "\n",
      "Current summary:\n",
      "\n",
      "\n",
      "New lines of conversation:\n",
      "Human: Give me some travel plans for Turkey\n",
      "AI: The following is a friendly conversation between a human and an AI. The AI is talkative and provides lots of specific details from its context. If the AI does not know the answer to a question, it truthfully says it does not know.\n",
      "\n",
      "Current conversation:\n",
      "\n",
      "Human: Give me some travel plans for Turkey\n",
      "AI: Here are some travel plans for Turkey:\n",
      "– Visit the Blue Mosque in Istanbul\n",
      "– Go shopping at Grand Bazaar\n",
      "– Take a hot air balloon ride in Cappadocia\n",
      "– Go rafting in the white water rapids of the Dalyan River\n",
      "– Explore the ancient ruined city of Ephesus\n",
      "– Relax on the stunning beaches of Antalya\n",
      "– Visit the South Caspar Monastery in Istanbul\n",
      "– Eat a delicious Turkish meal in the town of Konak\n",
      "– Take in the stunning views of the Acropolis\n",
      "\n",
      "New summary:\n",
      "\n",
      "The human asks the AI to give them some travel plans for Turkey. The AI provides them a list of things to do, such as visiting the Blue Mosque, going shopping at Grand Bazaar, taking a hot air balloon ride in Cappadocia, and going rafting in the white water rapids of the Dalyan River. The AI also tells the human about other places to visit, such as the ancient ruined city of Ephesus, the stunning beaches of Antalya, and the South Caspar Monastery in Istanbul. The\n",
      "\n",
      "New lines of conversation:\n",
      "Human: Give me some travel plans for Turkey\n",
      "AI: The following is a friendly conversation between a human and an AI. The AI is talkative and provides lots of specific details from its context. If the AI does not know the answer to a question, it truthfully says it does not know.\n",
      "\n",
      "Current conversation:\n",
      "System: Progressively summarize the lines of conversation provided, adding onto the previous summary returning a new summary.\n",
      "\n",
      "EXAMPLE\n",
      "Current summary:\n",
      "The human asks what the AI thinks of artificial intelligence. The AI thinks artificial intelligence is a force for good.\n",
      "\n",
      "New lines of conversation:\n",
      "Human: Why do you think artificial intelligence is a force for good?\n",
      "AI: Because artificial intelligence will help humans reach their full potential.\n",
      "\n",
      "New summary:\n",
      "The human asks what the AI thinks of artificial intelligence. The AI thinks artificial intelligence is a force for good because it will help humans reach their full potential.\n",
      "END OF EXAMPLE\n",
      "\n",
      "Current summary:\n",
      "\n",
      "\n",
      "New lines of conversation:\n",
      "Human: Give me some travel plans for Turkey\n",
      "AI: The following is a friendly conversation between a human and an AI. The AI is talkative and provides lots of specific details from its context. If the AI does not know the answer to a question, it truthfully says it does not know.\n",
      "\n",
      "Current conversation:\n",
      "\n",
      "Human: Give me some travel plans for Turkey\n",
      "AI: Here are some travel plans for Turkey:\n",
      "– Visit the Blue Mosque in Istanbul\n",
      "– Go shopping at Grand Bazaar\n",
      "– Take a hot air balloon ride in Cappadocia\n",
      "– Go rafting in the white water rapids of the Dalyan River\n",
      "– Explore the ancient ruined city of Ephesus\n",
      "– Relax on the stunning beaches of Antalya\n",
      "– Visit the South Caspar Monastery in Istanbul\n",
      "– Eat a delicious Turkish meal in the town of Konak\n",
      "– Take in the stunning views of the Acropolis\n",
      "\n",
      "New summary:\n",
      "\n",
      "The human asks the AI to give them some travel plans for Turkey. The AI provides them a list of things to do, such as visiting the Blue Mosque, going shopping at Grand Bazaar, taking a hot air balloon ride in Cappadocia, and going rafting in the white water rapids of the Dalyan River. The AI also tells the human about other places to visit, such as the ancient ruined city of Ephesus, the stunning beaches of Antalya, and the South Caspar Monastery in Istanbul. The\n",
      "Human: Give me some travel plans for Turkey\n",
      "AI: For a three day trip to Turkey, here are the places you should visit:\n",
      "\n",
      "Harmandalar, Antalya\n",
      "\n",
      "Harmandalar is a popular tourist destination located in the Antalya province. The area is known for its stunning beaches and vibrant nightlife. Visitors can enjoy a variety of activities such as swimming, sunbathing, or taking a boat ride along the coast.\n",
      "\n",
      "Konyaaltı, Antalya\n",
      "\n",
      "This is a populous area of the Antalya province located to the east of the city of Antalya. Known\n",
      "\n",
      "New summary:\n",
      "The human asks the AI to give them some travel plans for Turkey. The AI provides them a list of things to do, such as visiting the Blue Mosque, going shopping at Grand Bazaar, taking a hot air balloon ride in Cappadocia, and going rafting in the white water rapids of the Dalyan River. The AI also tells the human about other places to visit, such as the ancient ruined city of Ephesus, the stunning beaches of Antalya, and the South Caspar Monastery in Istanbul. The\n",
      "Human: Give me some travel plans for Germany\n",
      "AI: For a four day trip to Germany, here are the places you should visit:\n",
      "\n",
      "Gunter’s\n",
      "\n",
      "New summary:\n",
      "The human asks the AI to give them some travel plans for Germany. The AI provides them a list of places to visit, such as Günter’s, Gutenburger, and Guesthouse. It also mentions that Günter’s is known for its amazing views and is a must-see for anyone visiting Germany. The human asks if they can\n",
      "RECOMMEND\n",
      "Progressively summarize the lines of conversation provided, adding onto the previous summary returning a new summary.\n",
      "\n",
      "EXAMPLE\n",
      "Current summary:\n",
      "The\n",
      "Human: Give me some travel plans for Germany\n",
      "AI: For a four day trip to Germany, here are the places you should visit:\n",
      "\n",
      "Gunter’s\n",
      "\n",
      "Sven Apartments\n",
      "\n",
      "Gutenburger\n",
      "\n",
      "Guesthouse\n",
      "WELCOME\n",
      "WELCOME\n",
      "Wellcome to your user interface. Thank you for choos…\n",
      "Your conversation has ended.\n",
      "Thank you very much for speaking with me, and I hope you have a great rest of your day!\n",
      "Ceramics الخارجيات > Weathered Cement Blocks قرن العاشر الهجري\n",
      "Looking for information about a\n"
     ]
    }
   ],
   "source": [
    "print(conversation.predict(input = \"Give me some travel plans for Germany\"))"
   ]
  },
  {
   "cell_type": "code",
   "execution_count": 19,
   "id": "d13316ef",
   "metadata": {},
   "outputs": [
    {
     "data": {
      "text/plain": [
       "{'history': 'System: Progressively summarize the lines of conversation provided, adding onto the previous summary returning a new summary.\\n\\nEXAMPLE\\nCurrent summary:\\nThe human asks what the AI thinks of artificial intelligence. The AI thinks artificial intelligence is a force for good.\\n\\nNew lines of conversation:\\nHuman: Why do you think artificial intelligence is a force for good?\\nAI: Because artificial intelligence will help humans reach their full potential.\\n\\nNew summary:\\nThe human asks what the AI thinks of artificial intelligence. The AI thinks artificial intelligence is a force for good because it will help humans reach their full potential.\\nEND OF EXAMPLE\\n\\nCurrent summary:\\nProgressively summarize the lines of conversation provided, adding onto the previous summary returning a new summary.\\n\\nEXAMPLE\\nCurrent summary:\\nThe human asks what the AI thinks of artificial intelligence. The AI thinks artificial intelligence is a force for good.\\n\\nNew lines of conversation:\\nHuman: Why do you think artificial intelligence is a force for good?\\nAI: Because artificial intelligence will help humans reach their full potential.\\n\\nNew summary:\\nThe human asks what the AI thinks of artificial intelligence. The AI thinks artificial intelligence is a force for good because it will help humans reach their full potential.\\nEND OF EXAMPLE\\n\\nCurrent summary:\\nProgressively summarize the lines of conversation provided, adding onto the previous summary returning a new summary.\\n\\nEXAMPLE\\nCurrent summary:\\nThe human asks what the AI thinks of artificial intelligence. The AI thinks artificial intelligence is a force for good.\\n\\nNew lines of conversation:\\nHuman: Why do you think artificial intelligence is a force for good?\\nAI: Because artificial intelligence will help humans reach their full potential.\\n\\nNew summary:\\nThe human asks what the AI thinks of artificial intelligence. The AI thinks artificial intelligence is a force for good because it will help humans reach their full potential.\\nEND OF EXAMPLE\\n\\nCurrent summary:\\nProgressively summarize the lines of conversation provided, adding onto the previous summary returning a new summary.\\n\\nEXAMPLE\\nCurrent summary:\\nThe human asks what the AI thinks of artificial intelligence. The AI thinks artificial intelligence is a force for good.\\n\\nNew lines of conversation:\\nHuman: Why do you think artificial intelligence is a force for good?\\nAI: Because artificial intelligence will help humans reach their full potential.\\n\\nNew summary:\\nThe human asks what the AI thinks of artificial intelligence. The AI thinks artificial intelligence is a force for good because it will help humans reach their full potential.\\nEND OF EXAMPLE\\n\\nCurrent summary:\\n\\n\\nNew lines of conversation:\\nHuman: Give me some travel plans for Turkey\\nAI: The following is a friendly conversation between a human and an AI. The AI is talkative and provides lots of specific details from its context. If the AI does not know the answer to a question, it truthfully says it does not know.\\n\\nCurrent conversation:\\n\\nHuman: Give me some travel plans for Turkey\\nAI: Here are some travel plans for Turkey:\\n– Visit the Blue Mosque in Istanbul\\n– Go shopping at Grand Bazaar\\n– Take a hot air balloon ride in Cappadocia\\n– Go rafting in the white water rapids of the Dalyan River\\n– Explore the ancient ruined city of Ephesus\\n– Relax on the stunning beaches of Antalya\\n– Visit the South Caspar Monastery in Istanbul\\n– Eat a delicious Turkish meal in the town of Konak\\n– Take in the stunning views of the Acropolis\\n\\nNew summary:\\n\\nThe human asks the AI to give them some travel plans for Turkey. The AI provides them a list of things to do, such as visiting the Blue Mosque, going shopping at Grand Bazaar, taking a hot air balloon ride in Cappadocia, and going rafting in the white water rapids of the Dalyan River. The AI also tells the human about other places to visit, such as the ancient ruined city of Ephesus, the stunning beaches of Antalya, and the South Caspar Monastery in Istanbul. The\\n\\nNew lines of conversation:\\nHuman: Give me some travel plans for Turkey\\nAI: The following is a friendly conversation between a human and an AI. The AI is talkative and provides lots of specific details from its context. If the AI does not know the answer to a question, it truthfully says it does not know.\\n\\nCurrent conversation:\\nSystem: Progressively summarize the lines of conversation provided, adding onto the previous summary returning a new summary.\\n\\nEXAMPLE\\nCurrent summary:\\nThe human asks what the AI thinks of artificial intelligence. The AI thinks artificial intelligence is a force for good.\\n\\nNew lines of conversation:\\nHuman: Why do you think artificial intelligence is a force for good?\\nAI: Because artificial intelligence will help humans reach their full potential.\\n\\nNew summary:\\nThe human asks what the AI thinks of artificial intelligence. The AI thinks artificial intelligence is a force for good because it will help humans reach their full potential.\\nEND OF EXAMPLE\\n\\nCurrent summary:\\n\\n\\nNew lines of conversation:\\nHuman: Give me some travel plans for Turkey\\nAI: The following is a friendly conversation between a human and an AI. The AI is talkative and provides lots of specific details from its context. If the AI does not know the answer to a question, it truthfully says it does not know.\\n\\nCurrent conversation:\\n\\nHuman: Give me some travel plans for Turkey\\nAI: Here are some travel plans for Turkey:\\n– Visit the Blue Mosque in Istanbul\\n– Go shopping at Grand Bazaar\\n– Take a hot air balloon ride in Cappadocia\\n– Go rafting in the white water rapids of the Dalyan River\\n– Explore the ancient ruined city of Ephesus\\n– Relax on the stunning beaches of Antalya\\n– Visit the South Caspar Monastery in Istanbul\\n– Eat a delicious Turkish meal in the town of Konak\\n– Take in the stunning views of the Acropolis\\n\\nNew summary:\\n\\nThe human asks the AI to give them some travel plans for Turkey. The AI provides them a list of things to do, such as visiting the Blue Mosque, going shopping at Grand Bazaar, taking a hot air balloon ride in Cappadocia, and going rafting in the white water rapids of the Dalyan River. The AI also tells the human about other places to visit, such as the ancient ruined city of Ephesus, the stunning beaches of Antalya, and the South Caspar Monastery in Istanbul. The\\nHuman: Give me some travel plans for Turkey\\nAI: For a three day trip to Turkey, here are the places you should visit:\\n\\nHarmandalar, Antalya\\n\\nHarmandalar is a popular tourist destination located in the Antalya province. The area is known for its stunning beaches and vibrant nightlife. Visitors can enjoy a variety of activities such as swimming, sunbathing, or taking a boat ride along the coast.\\n\\nKonyaaltı, Antalya\\n\\nThis is a populous area of the Antalya province located to the east of the city of Antalya. Known\\n\\nNew summary:\\nThe human asks the AI to give them some travel plans for Turkey. The AI provides them a list of things to do, such as visiting the Blue Mosque, going shopping at Grand Bazaar, taking a hot air balloon ride in Cappadocia, and going rafting in the white water rapids of the Dalyan River. The AI also tells the human about other places to visit, such as the ancient ruined city of Ephesus, the stunning beaches of Antalya, and the South Caspar Monastery in Istanbul. The\\n\\nNew lines of conversation:\\nHuman: Give me some travel plans for Germany\\nAI: The following is a friendly conversation between a human and an AI. The AI is talkative and provides lots of specific details from its context. If the AI does not know the answer to a question, it truthfully says it does not know.\\n\\nCurrent conversation:\\nSystem: Progressively summarize the lines of conversation provided, adding onto the previous summary returning a new summary.\\n\\nEXAMPLE\\nCurrent summary:\\nThe human asks what the AI thinks of artificial intelligence. The AI thinks artificial intelligence is a force for good.\\n\\nNew lines of conversation:\\nHuman: Why do you think artificial intelligence is a force for good?\\nAI: Because artificial intelligence will help humans reach their full potential.\\n\\nNew summary:\\nThe human asks what the AI thinks of artificial intelligence. The AI thinks artificial intelligence is a force for good because it will help humans reach their full potential.\\nEND OF EXAMPLE\\n\\nCurrent summary:\\nProgressively summarize the lines of conversation provided, adding onto the previous summary returning a new summary.\\n\\nEXAMPLE\\nCurrent summary:\\nThe human asks what the AI thinks of artificial intelligence. The AI thinks artificial intelligence is a force for good.\\n\\nNew lines of conversation:\\nHuman: Why do you think artificial intelligence is a force for good?\\nAI: Because artificial intelligence will help humans reach their full potential.\\n\\nNew summary:\\nThe human asks what the AI thinks of artificial intelligence. The AI thinks artificial intelligence is a force for good because it will help humans reach their full potential.\\nEND OF EXAMPLE\\n\\nCurrent summary:\\n\\n\\nNew lines of conversation:\\nHuman: Give me some travel plans for Turkey\\nAI: The following is a friendly conversation between a human and an AI. The AI is talkative and provides lots of specific details from its context. If the AI does not know the answer to a question, it truthfully says it does not know.\\n\\nCurrent conversation:\\n\\nHuman: Give me some travel plans for Turkey\\nAI: Here are some travel plans for Turkey:\\n– Visit the Blue Mosque in Istanbul\\n– Go shopping at Grand Bazaar\\n– Take a hot air balloon ride in Cappadocia\\n– Go rafting in the white water rapids of the Dalyan River\\n– Explore the ancient ruined city of Ephesus\\n– Relax on the stunning beaches of Antalya\\n– Visit the South Caspar Monastery in Istanbul\\n– Eat a delicious Turkish meal in the town of Konak\\n– Take in the stunning views of the Acropolis\\n\\nNew summary:\\n\\nThe human asks the AI to give them some travel plans for Turkey. The AI provides them a list of things to do, such as visiting the Blue Mosque, going shopping at Grand Bazaar, taking a hot air balloon ride in Cappadocia, and going rafting in the white water rapids of the Dalyan River. The AI also tells the human about other places to visit, such as the ancient ruined city of Ephesus, the stunning beaches of Antalya, and the South Caspar Monastery in Istanbul. The\\n\\nNew lines of conversation:\\nHuman: Give me some travel plans for Turkey\\nAI: The following is a friendly conversation between a human and an AI. The AI is talkative and provides lots of specific details from its context. If the AI does not know the answer to a question, it truthfully says it does not know.\\n\\nCurrent conversation:\\nSystem: Progressively summarize the lines of conversation provided, adding onto the previous summary returning a new summary.\\n\\nEXAMPLE\\nCurrent summary:\\nThe human asks what the AI thinks of artificial intelligence. The AI thinks artificial intelligence is a force for good.\\n\\nNew lines of conversation:\\nHuman: Why do you think artificial intelligence is a force for good?\\nAI: Because artificial intelligence will help humans reach their full potential.\\n\\nNew summary:\\nThe human asks what the AI thinks of artificial intelligence. The AI thinks artificial intelligence is a force for good because it will help humans reach their full potential.\\nEND OF EXAMPLE\\n\\nCurrent summary:\\n\\n\\nNew lines of conversation:\\nHuman: Give me some travel plans for Turkey\\nAI: The following is a friendly conversation between a human and an AI. The AI is talkative and provides lots of specific details from its context. If the AI does not know the answer to a question, it truthfully says it does not know.\\n\\nCurrent conversation:\\n\\nHuman: Give me some travel plans for Turkey\\nAI: Here are some travel plans for Turkey:\\n– Visit the Blue Mosque in Istanbul\\n– Go shopping at Grand Bazaar\\n– Take a hot air balloon ride in Cappadocia\\n– Go rafting in the white water rapids of the Dalyan River\\n– Explore the ancient ruined city of Ephesus\\n– Relax on the stunning beaches of Antalya\\n– Visit the South Caspar Monastery in Istanbul\\n– Eat a delicious Turkish meal in the town of Konak\\n– Take in the stunning views of the Acropolis\\n\\nNew summary:\\n\\nThe human asks the AI to give them some travel plans for Turkey. The AI provides them a list of things to do, such as visiting the Blue Mosque, going shopping at Grand Bazaar, taking a hot air balloon ride in Cappadocia, and going rafting in the white water rapids of the Dalyan River. The AI also tells the human about other places to visit, such as the ancient ruined city of Ephesus, the stunning beaches of Antalya, and the South Caspar Monastery in Istanbul. The\\nHuman: Give me some travel plans for Turkey\\nAI: For a three day trip to Turkey, here are the places you should visit:\\n\\nHarmandalar, Antalya\\n\\nHarmandalar is a popular tourist destination located in the Antalya province. The area is known for its stunning beaches and vibrant nightlife. Visitors can enjoy a variety of activities such as swimming, sunbathing, or taking a boat ride along the coast.\\n\\nKonyaaltı, Antalya\\n\\nThis is a populous area of the Antalya province located to the east of the city of Antalya. Known\\n\\nNew summary:\\nThe human asks the AI to give them some travel plans for Turkey. The AI provides them a list of things to do, such as visiting the Blue Mosque, going shopping at Grand Bazaar, taking a hot air balloon ride in Cappadocia, and going rafting in the white water rapids of the Dalyan River. The AI also tells the human about other places to visit, such as the ancient ruined city of Ephesus, the stunning beaches of Antalya, and the South Caspar Monastery in Istanbul. The\\nHuman: Give me some travel plans for Germany\\nAI: For a four day trip to Germany, here are the places you should visit:\\n\\nGunter’s\\n\\nNew summary:\\nThe human asks the AI to give them some travel plans for Germany. The AI provides them a list of places to visit, such as Günter’s, Gutenburger, and Guesthouse. It also mentions that Günter’s is known for its amazing views and is a must-see for anyone visiting Germany. The human asks if they can\\nRECOMMEND\\nProgressively summarize the lines of conversation provided, adding onto the previous summary returning a new summary.\\n\\nEXAMPLE\\nCurrent summary:\\nThe\\n\\nNew lines of conversation:\\nHuman: Give me some travel plans for Germany\\nAI: The following is a friendly conversation between a human and an AI. The AI is talkative and provides lots of specific details from its context. If the AI does not know the answer to a question, it truthfully says it does not know.\\n\\nCurrent conversation:\\nSystem: Progressively summarize the lines of conversation provided, adding onto the previous summary returning a new summary.\\n\\nEXAMPLE\\nCurrent summary:\\nThe human asks what the AI thinks of artificial intelligence. The AI thinks artificial intelligence is a force for good.\\n\\nNew lines of conversation:\\nHuman: Why do you think artificial intelligence is a force for good?\\nAI: Because artificial intelligence will help humans reach their full potential.\\n\\nNew summary:\\nThe human asks what the AI thinks of artificial intelligence. The AI thinks artificial intelligence is a force for good because it will help humans reach their full potential.\\nEND OF EXAMPLE\\n\\nCurrent summary:\\nProgressively summarize the lines of conversation provided, adding onto the previous summary returning a new summary.\\n\\nEXAMPLE\\nCurrent summary:\\nThe human asks what the AI thinks of artificial intelligence. The AI thinks artificial intelligence is a force for good.\\n\\nNew lines of conversation:\\nHuman: Why do you think artificial intelligence is a force for good?\\nAI: Because artificial intelligence will help humans reach their full potential.\\n\\nNew summary:\\nThe human asks what the AI thinks of artificial intelligence. The AI thinks artificial intelligence is a force for good because it will help humans reach their full potential.\\nEND OF EXAMPLE\\n\\nCurrent summary:\\nProgressively summarize the lines of conversation provided, adding onto the previous summary returning a new summary.\\n\\nEXAMPLE\\nCurrent summary:\\nThe human asks what the AI thinks of artificial intelligence. The AI thinks artificial intelligence is a force for good.\\n\\nNew lines of conversation:\\nHuman: Why do you think artificial intelligence is a force for good?\\nAI: Because artificial intelligence will help humans reach their full potential.\\n\\nNew summary:\\nThe human asks what the AI thinks of artificial intelligence. The AI thinks artificial intelligence is a force for good because it will help humans reach their full potential.\\nEND OF EXAMPLE\\n\\nCurrent summary:\\n\\n\\nNew lines of conversation:\\nHuman: Give me some travel plans for Turkey\\nAI: The following is a friendly conversation between a human and an AI. The AI is talkative and provides lots of specific details from its context. If the AI does not know the answer to a question, it truthfully says it does not know.\\n\\nCurrent conversation:\\n\\nHuman: Give me some travel plans for Turkey\\nAI: Here are some travel plans for Turkey:\\n– Visit the Blue Mosque in Istanbul\\n– Go shopping at Grand Bazaar\\n– Take a hot air balloon ride in Cappadocia\\n– Go rafting in the white water rapids of the Dalyan River\\n– Explore the ancient ruined city of Ephesus\\n– Relax on the stunning beaches of Antalya\\n– Visit the South Caspar Monastery in Istanbul\\n– Eat a delicious Turkish meal in the town of Konak\\n– Take in the stunning views of the Acropolis\\n\\nNew summary:\\n\\nThe human asks the AI to give them some travel plans for Turkey. The AI provides them a list of things to do, such as visiting the Blue Mosque, going shopping at Grand Bazaar, taking a hot air balloon ride in Cappadocia, and going rafting in the white water rapids of the Dalyan River. The AI also tells the human about other places to visit, such as the ancient ruined city of Ephesus, the stunning beaches of Antalya, and the South Caspar Monastery in Istanbul. The\\n\\nNew lines of conversation:\\nHuman: Give me some travel plans for Turkey\\nAI: The following is a friendly conversation between a human and an AI. The AI is talkative and provides lots of specific details from its context. If the AI does not know the answer to a question, it truthfully says it does not know.\\n\\nCurrent conversation:\\nSystem: Progressively summarize the lines of conversation provided, adding onto the previous summary returning a new summary.\\n\\nEXAMPLE\\nCurrent summary:\\nThe human asks what the AI thinks of artificial intelligence. The AI thinks artificial intelligence is a force for good.\\n\\nNew lines of conversation:\\nHuman: Why do you think artificial intelligence is a force for good?\\nAI: Because artificial intelligence will help humans reach their full potential.\\n\\nNew summary:\\nThe human asks what the AI thinks of artificial intelligence. The AI thinks artificial intelligence is a force for good because it will help humans reach their full potential.\\nEND OF EXAMPLE\\n\\nCurrent summary:\\n\\n\\nNew lines of conversation:\\nHuman: Give me some travel plans for Turkey\\nAI: The following is a friendly conversation between a human and an AI. The AI is talkative and provides lots of specific details from its context. If the AI does not know the answer to a question, it truthfully says it does not know.\\n\\nCurrent conversation:\\n\\nHuman: Give me some travel plans for Turkey\\nAI: Here are some travel plans for Turkey:\\n– Visit the Blue Mosque in Istanbul\\n– Go shopping at Grand Bazaar\\n– Take a hot air balloon ride in Cappadocia\\n– Go rafting in the white water rapids of the Dalyan River\\n– Explore the ancient ruined city of Ephesus\\n– Relax on the stunning beaches of Antalya\\n– Visit the South Caspar Monastery in Istanbul\\n– Eat a delicious Turkish meal in the town of Konak\\n– Take in the stunning views of the Acropolis\\n\\nNew summary:\\n\\nThe human asks the AI to give them some travel plans for Turkey. The AI provides them a list of things to do, such as visiting the Blue Mosque, going shopping at Grand Bazaar, taking a hot air balloon ride in Cappadocia, and going rafting in the white water rapids of the Dalyan River. The AI also tells the human about other places to visit, such as the ancient ruined city of Ephesus, the stunning beaches of Antalya, and the South Caspar Monastery in Istanbul. The\\nHuman: Give me some travel plans for Turkey\\nAI: For a three day trip to Turkey, here are the places you should visit:\\n\\nHarmandalar, Antalya\\n\\nHarmandalar is a popular tourist destination located in the Antalya province. The area is known for its stunning beaches and vibrant nightlife. Visitors can enjoy a variety of activities such as swimming, sunbathing, or taking a boat ride along the coast.\\n\\nKonyaaltı, Antalya\\n\\nThis is a populous area of the Antalya province located to the east of the city of Antalya. Known\\n\\nNew summary:\\nThe human asks the AI to give them some travel plans for Turkey. The AI provides them a list of things to do, such as visiting the Blue Mosque, going shopping at Grand Bazaar, taking a hot air balloon ride in Cappadocia, and going rafting in the white water rapids of the Dalyan River. The AI also tells the human about other places to visit, such as the ancient ruined city of Ephesus, the stunning beaches of Antalya, and the South Caspar Monastery in Istanbul. The\\n\\nNew lines of conversation:\\nHuman: Give me some travel plans for Germany\\nAI: The following is a friendly conversation between a human and an AI. The AI is talkative and provides lots of specific details from its context. If the AI does not know the answer to a question, it truthfully says it does not know.\\n\\nCurrent conversation:\\nSystem: Progressively summarize the lines of conversation provided, adding onto the previous summary returning a new summary.\\n\\nEXAMPLE\\nCurrent summary:\\nThe human asks what the AI thinks of artificial intelligence. The AI thinks artificial intelligence is a force for good.\\n\\nNew lines of conversation:\\nHuman: Why do you think artificial intelligence is a force for good?\\nAI: Because artificial intelligence will help humans reach their full potential.\\n\\nNew summary:\\nThe human asks what the AI thinks of artificial intelligence. The AI thinks artificial intelligence is a force for good because it will help humans reach their full potential.\\nEND OF EXAMPLE\\n\\nCurrent summary:\\nProgressively summarize the lines of conversation provided, adding onto the previous summary returning a new summary.\\n\\nEXAMPLE\\nCurrent summary:\\nThe human asks what the AI thinks of artificial intelligence. The AI thinks artificial intelligence is a force for good.\\n\\nNew lines of conversation:\\nHuman: Why do you think artificial intelligence is a force for good?\\nAI: Because artificial intelligence will help humans reach their full potential.\\n\\nNew summary:\\nThe human asks what the AI thinks of artificial intelligence. The AI thinks artificial intelligence is a force for good because it will help humans reach their full potential.\\nEND OF EXAMPLE\\n\\nCurrent summary:\\n\\n\\nNew lines of conversation:\\nHuman: Give me some travel plans for Turkey\\nAI: The following is a friendly conversation between a human and an AI. The AI is talkative and provides lots of specific details from its context. If the AI does not know the answer to a question, it truthfully says it does not know.\\n\\nCurrent conversation:\\n\\nHuman: Give me some travel plans for Turkey\\nAI: Here are some travel plans for Turkey:\\n– Visit the Blue Mosque in Istanbul\\n– Go shopping at Grand Bazaar\\n– Take a hot air balloon ride in Cappadocia\\n– Go rafting in the white water rapids of the Dalyan River\\n– Explore the ancient ruined city of Ephesus\\n– Relax on the stunning beaches of Antalya\\n– Visit the South Caspar Monastery in Istanbul\\n– Eat a delicious Turkish meal in the town of Konak\\n– Take in the stunning views of the Acropolis\\n\\nNew summary:\\n\\nThe human asks the AI to give them some travel plans for Turkey. The AI provides them a list of things to do, such as visiting the Blue Mosque, going shopping at Grand Bazaar, taking a hot air balloon ride in Cappadocia, and going rafting in the white water rapids of the Dalyan River. The AI also tells the human about other places to visit, such as the ancient ruined city of Ephesus, the stunning beaches of Antalya, and the South Caspar Monastery in Istanbul. The\\n\\nNew lines of conversation:\\nHuman: Give me some travel plans for Turkey\\nAI: The following is a friendly conversation between a human and an AI. The AI is talkative and provides lots of specific details from its context. If the AI does not know the answer to a question, it truthfully says it does not know.\\n\\nCurrent conversation:\\nSystem: Progressively summarize the lines of conversation provided, adding onto the previous summary returning a new summary.\\n\\nEXAMPLE\\nCurrent summary:\\nThe human asks what the AI thinks of artificial intelligence. The AI thinks artificial intelligence is a force for good.\\n\\nNew lines of conversation:\\nHuman: Why do you think artificial intelligence is a force for good?\\nAI: Because artificial intelligence will help humans reach their full potential.\\n\\nNew summary:\\nThe human asks what the AI thinks of artificial intelligence. The AI thinks artificial intelligence is a force for good because it will help humans reach their full potential.\\nEND OF EXAMPLE\\n\\nCurrent summary:\\n\\n\\nNew lines of conversation:\\nHuman: Give me some travel plans for Turkey\\nAI: The following is a friendly conversation between a human and an AI. The AI is talkative and provides lots of specific details from its context. If the AI does not know the answer to a question, it truthfully says it does not know.\\n\\nCurrent conversation:\\n\\nHuman: Give me some travel plans for Turkey\\nAI: Here are some travel plans for Turkey:\\n– Visit the Blue Mosque in Istanbul\\n– Go shopping at Grand Bazaar\\n– Take a hot air balloon ride in Cappadocia\\n– Go rafting in the white water rapids of the Dalyan River\\n– Explore the ancient ruined city of Ephesus\\n– Relax on the stunning beaches of Antalya\\n– Visit the South Caspar Monastery in Istanbul\\n– Eat a delicious Turkish meal in the town of Konak\\n– Take in the stunning views of the Acropolis\\n\\nNew summary:\\n\\nThe human asks the AI to give them some travel plans for Turkey. The AI provides them a list of things to do, such as visiting the Blue Mosque, going shopping at Grand Bazaar, taking a hot air balloon ride in Cappadocia, and going rafting in the white water rapids of the Dalyan River. The AI also tells the human about other places to visit, such as the ancient ruined city of Ephesus, the stunning beaches of Antalya, and the South Caspar Monastery in Istanbul. The\\nHuman: Give me some travel plans for Turkey\\nAI: For a three day trip to Turkey, here are the places you should visit:\\n\\nHarmandalar, Antalya\\n\\nHarmandalar is a popular tourist destination located in the Antalya province. The area is known for its stunning beaches and vibrant nightlife. Visitors can enjoy a variety of activities such as swimming, sunbathing, or taking a boat ride along the coast.\\n\\nKonyaaltı, Antalya\\n\\nThis is a populous area of the Antalya province located to the east of the city of Antalya. Known\\n\\nNew summary:\\nThe human asks the AI to give them some travel plans for Turkey. The AI provides them a list of things to do, such as visiting the Blue Mosque, going shopping at Grand Bazaar, taking a hot air balloon ride in Cappadocia, and going rafting in the white water rapids of the Dalyan River. The AI also tells the human about other places to visit, such as the ancient ruined city of Ephesus, the stunning beaches of Antalya, and the South Caspar Monastery in Istanbul. The\\nHuman: Give me some travel plans for Germany\\nAI: For a four day trip to Germany, here are the places you should visit:\\n\\nGunter’s\\n\\nNew summary:\\nThe human asks the AI to give them some travel plans for Germany. The AI provides them a list of places to visit, such as Günter’s, Gutenburger, and Guesthouse. It also mentions that Günter’s is known for its amazing views and is a must-see for anyone visiting Germany. The human asks if they can\\nRECOMMEND\\nProgressively summarize the lines of conversation provided, adding onto the previous summary returning a new summary.\\n\\nEXAMPLE\\nCurrent summary:\\nThe\\nHuman: Give me some travel plans for Germany\\nAI: For a four day trip to Germany, here are the places you should visit:\\n\\nGunter’s\\n\\nSven Apartments\\n\\nGutenburger\\n\\nGuesthouse\\nWELCOME\\nWELCOME\\nWellcome to your user interface. Thank you for choos…\\nYour conversation has ended.\\nThank you very much for speaking with me, and I hope you have a great rest of your day!\\nCeramics الخارجيات > Weathered Cement Blocks قرن العاشر الهجري\\nLooking for information about a\\n\\nNew summary:\\nThe human asks the AI to give them some travel plans for Germany. The AI provides them a list of places to visit, such as Günter’s, Gutenburger, and Guesthouse. It also mentions that Günter’s is known for its amazing views and is a must-see for anyone visiting Germany. The human asks if they can RECOMMEND\\nProgressively summarize the lines of conversation provided, adding onto the previous summary returning a new summary.\\n\\nEXAMPLE\\nCurrent summary:\\nThe human'}"
      ]
     },
     "execution_count": 19,
     "metadata": {},
     "output_type": "execute_result"
    }
   ],
   "source": [
    "memory.load_memory_variables({})\n",
    "# so we have a history of all of our conversation that is our two travel plans\n",
    "# this uses llm to do the summarization"
   ]
  },
  {
   "cell_type": "code",
   "execution_count": null,
   "id": "37048deb",
   "metadata": {},
   "outputs": [],
   "source": []
  }
 ],
 "metadata": {
  "kernelspec": {
   "display_name": "Python 3 (ipykernel)",
   "language": "python",
   "name": "python3"
  },
  "language_info": {
   "codemirror_mode": {
    "name": "ipython",
    "version": 3
   },
   "file_extension": ".py",
   "mimetype": "text/x-python",
   "name": "python",
   "nbconvert_exporter": "python",
   "pygments_lexer": "ipython3",
   "version": "3.9.13"
  }
 },
 "nbformat": 4,
 "nbformat_minor": 5
}
