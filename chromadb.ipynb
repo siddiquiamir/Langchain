{
 "cells": [
  {
   "cell_type": "markdown",
   "id": "566dcfc9",
   "metadata": {},
   "source": [
    "# ChromaDB\n",
    "- Chroma is a AI-native open-source vector database focused on developer productivity and happiness. \n",
    "- Chroma is licensed under Apache 2.0."
   ]
  },
  {
   "cell_type": "code",
   "execution_count": 1,
   "id": "6383fcad",
   "metadata": {},
   "outputs": [],
   "source": [
    "from langchain.text_splitter import CharacterTextSplitter\n",
    "from langchain_community.document_loaders import TextLoader\n",
    "from langchain_community.embeddings.sentence_transformer import (SentenceTransformerEmbeddings)"
   ]
  },
  {
   "cell_type": "code",
   "execution_count": 2,
   "id": "5a29f92b",
   "metadata": {},
   "outputs": [],
   "source": [
    "from langchain_community.vectorstores import Chroma"
   ]
  },
  {
   "cell_type": "code",
   "execution_count": 3,
   "id": "f87bd2ba",
   "metadata": {},
   "outputs": [
    {
     "data": {
      "text/plain": [
       "<langchain_community.document_loaders.text.TextLoader at 0x1c3ccb31160>"
      ]
     },
     "execution_count": 3,
     "metadata": {},
     "output_type": "execute_result"
    }
   ],
   "source": [
    "loader = TextLoader('state_of_the_union.txt', encoding='utf-8')\n",
    "loader"
   ]
  },
  {
   "cell_type": "code",
   "execution_count": 4,
   "id": "6abc673c",
   "metadata": {},
   "outputs": [
    {
     "data": {
      "text/plain": [
       "[Document(page_content='So tonight I’m offering a Unity Agenda for the Nation. Four big things we can do together.\\n\\nFirst, beat the opioid epidemic.\\nThere is so much we can do. Increase funding for prevention, treatment, harm reduction, and recovery.\\nGet rid of outdated rules that stop doctors from prescribing treatments. And stop the flow of illicit drugs by working with state and local law enforcement to go after traffickers.\\nIf you’re suffering from addiction, know you are not alone. I believe in recovery, and I celebrate the 23 million Americans in recovery.\\n\\nSecond, let’s take on mental health. Especially among our children, whose lives and education have been turned upside down.\\nThe American Rescue Plan gave schools money to hire teachers and help students make up for lost learning.\\nI urge every parent to make sure your school does just that. And we can all play a part—sign up to be a tutor or a mentor.\\nChildren were also struggling before the pandemic. Bullying, violence, trauma, and the harms of social media.\\nAs Frances Haugen, who is here with us tonight, has shown, we must hold social media platforms accountable for the national experiment they’re conducting on our children for profit.\\nIt’s time to strengthen privacy protections, ban targeted advertising to children, demand tech companies stop collecting personal data on our children.\\nAnd let’s get all Americans the mental health services they need. More people they can turn to for help, and full parity between physical and mental health care.\\n\\nThird, support our veterans.\\nVeterans are the best of us.\\nI’ve always believed that we have a sacred obligation to equip all those we send to war and care for them and their families when they come home.\\nMy administration is providing assistance with job training and housing, and now helping lower-income veterans get VA care debt-free.\\nOur troops in Iraq and Afghanistan faced many dangers.\\nOne was stationed at bases and breathing in toxic smoke from “burn pits” that incinerated wastes of war—medical and hazard material, jet fuel, and more.\\nWhen they came home, many of the world’s fittest and best trained warriors were never the same.\\nHeadaches. Numbness. Dizziness.\\nA cancer that would put them in a flag-draped coffin.\\nI know.\\nOne of those soldiers was my son Major Beau Biden.\\nWe don’t know for sure if a burn pit was the cause of his brain cancer, or the diseases of so many of our troops.\\nBut I’m committed to finding out everything we can.\\nCommitted to military families like Danielle Robinson from Ohio.\\nThe widow of Sergeant First Class Heath Robinson.\\nHe was born a soldier. Army National Guard. Combat medic in Kosovo and Iraq.\\nStationed near Baghdad, just yards from burn pits the size of football fields.\\nHeath’s widow Danielle is here with us tonight. They loved going to Ohio State football games. He loved building Legos with their daughter.\\nBut cancer from prolonged exposure to burn pits ravaged Heath’s lungs and body.\\nDanielle says Heath was a fighter to the very end.\\nHe didn’t know how to stop fighting, and neither did she.\\nThrough her pain she found purpose to demand we do better.\\nTonight, Danielle—we are.\\nThe VA is pioneering new ways of linking toxic exposures to diseases, already helping more veterans get benefits.\\nAnd tonight, I’m announcing we’re expanding eligibility to veterans suffering from nine respiratory cancers.\\nI’m also calling on Congress: pass a law to make sure veterans devastated by toxic exposures in Iraq and Afghanistan finally get the benefits and comprehensive health care they deserve.\\n\\nFourth, let’s end cancer as we know it.\\nThis is personal to me and Jill, to Kamala, and to so many of you.\\nCancer is the #2 cause of death in America–second only to heart disease.\\nLast month, I announced our plan to supercharge the Cancer Moonshot that President Obama asked me to lead six years ago.\\nOur goal is to cut the cancer death rate by at least 50% over the next 25 years, turn more cancers from death sentences into treatable diseases.\\nMore support for patients and families.\\nTo get there, I call on Congress to fund ARPA-H, the Advanced Research Projects Agency for Health.\\nIt’s based on DARPA—the Defense Department project that led to the Internet, GPS, and so much more.\\nARPA-H will have a singular purpose—to drive breakthroughs in cancer, Alzheimer’s, diabetes, and more.\\n\\nA unity agenda for the nation.\\nWe can do this.\\nMy fellow Americans—tonight, we have gathered in a sacred space—the citadel of our democracy.\\nIn this Capitol, generation after generation, Americans have debated great questions amid great strife, and have done great things.\\nWe have fought for freedom, expanded liberty, defeated totalitarianism and terror.\\nAnd built the strongest, freest, and most prosperous nation the world has ever known.\\nNow is the hour.\\nOur moment of responsibility.\\nOur test of resolve and conscience, of history itself.\\nIt is in this moment that our character is formed. Our purpose is found. Our future is forged.\\nWell I know this nation.\\nWe will meet the test.\\nTo protect freedom and liberty, to expand fairness and opportunity.\\nWe will save democracy.\\nAs hard as these times have been, I am more optimistic about America today than I have been my whole life.\\nBecause I see the future that is within our grasp.\\nBecause I know there is simply nothing beyond our capacity.\\nWe are the only nation on Earth that has always turned every crisis we have faced into an opportunity.\\nThe only nation that can be defined by a single word: possibilities.\\nSo on this night, in our 245th year as a nation, I have come to report on the State of the Union.\\nAnd my report is this: the State of the Union is strong—because you, the American people, are strong.\\nWe are stronger today than we were a year ago.\\nAnd we will be stronger a year from now than we are today.\\nNow is our moment to meet and overcome the challenges of our time.\\nAnd we will, as one people.\\nOne America.\\nThe United States of America.\\nMay God bless you all. May God protect our troops.', metadata={'source': 'state_of_the_union.txt'})]"
      ]
     },
     "execution_count": 4,
     "metadata": {},
     "output_type": "execute_result"
    }
   ],
   "source": [
    "documents = loader.load()\n",
    "documents"
   ]
  },
  {
   "cell_type": "code",
   "execution_count": 5,
   "id": "25952aa6",
   "metadata": {},
   "outputs": [
    {
     "data": {
      "text/plain": [
       "'So tonight I’m offering a Unity Agenda for the Nation. Four big things we can do together.\\n\\nFirst, beat the opioid epidemic.\\nThere is so much we can do. Increase funding for prevention, treatment, harm reduction, and recovery.\\nGet rid of outdated rules that stop doctors from prescribing treatments. And stop the flow of illicit drugs by working with state and local law enforcement to go after traffickers.\\nIf you’re suffering from addiction, know you are not alone. I believe in recovery, and I celebrate the 23 million Americans in recovery.\\n\\nSecond, let’s take on mental health. Especially among our children, whose lives and education have been turned upside down.\\nThe American Rescue Plan gave schools money to hire teachers and help students make up for lost learning.\\nI urge every parent to make sure your school does just that. And we can all play a part—sign up to be a tutor or a mentor.\\nChildren were also struggling before the pandemic. Bullying, violence, trauma, and the harms of social media.\\nAs Frances Haugen, who is here with us tonight, has shown, we must hold social media platforms accountable for the national experiment they’re conducting on our children for profit.\\nIt’s time to strengthen privacy protections, ban targeted advertising to children, demand tech companies stop collecting personal data on our children.\\nAnd let’s get all Americans the mental health services they need. More people they can turn to for help, and full parity between physical and mental health care.\\n\\nThird, support our veterans.\\nVeterans are the best of us.\\nI’ve always believed that we have a sacred obligation to equip all those we send to war and care for them and their families when they come home.\\nMy administration is providing assistance with job training and housing, and now helping lower-income veterans get VA care debt-free.\\nOur troops in Iraq and Afghanistan faced many dangers.\\nOne was stationed at bases and breathing in toxic smoke from “burn pits” that incinerated wastes of war—medical and hazard material, jet fuel, and more.\\nWhen they came home, many of the world’s fittest and best trained warriors were never the same.\\nHeadaches. Numbness. Dizziness.\\nA cancer that would put them in a flag-draped coffin.\\nI know.\\nOne of those soldiers was my son Major Beau Biden.\\nWe don’t know for sure if a burn pit was the cause of his brain cancer, or the diseases of so many of our troops.\\nBut I’m committed to finding out everything we can.\\nCommitted to military families like Danielle Robinson from Ohio.\\nThe widow of Sergeant First Class Heath Robinson.\\nHe was born a soldier. Army National Guard. Combat medic in Kosovo and Iraq.\\nStationed near Baghdad, just yards from burn pits the size of football fields.\\nHeath’s widow Danielle is here with us tonight. They loved going to Ohio State football games. He loved building Legos with their daughter.\\nBut cancer from prolonged exposure to burn pits ravaged Heath’s lungs and body.\\nDanielle says Heath was a fighter to the very end.\\nHe didn’t know how to stop fighting, and neither did she.\\nThrough her pain she found purpose to demand we do better.\\nTonight, Danielle—we are.\\nThe VA is pioneering new ways of linking toxic exposures to diseases, already helping more veterans get benefits.\\nAnd tonight, I’m announcing we’re expanding eligibility to veterans suffering from nine respiratory cancers.\\nI’m also calling on Congress: pass a law to make sure veterans devastated by toxic exposures in Iraq and Afghanistan finally get the benefits and comprehensive health care they deserve.\\n\\nFourth, let’s end cancer as we know it.\\nThis is personal to me and Jill, to Kamala, and to so many of you.\\nCancer is the #2 cause of death in America–second only to heart disease.\\nLast month, I announced our plan to supercharge the Cancer Moonshot that President Obama asked me to lead six years ago.\\nOur goal is to cut the cancer death rate by at least 50% over the next 25 years, turn more cancers from death sentences into treatable diseases.\\nMore support for patients and families.\\nTo get there, I call on Congress to fund ARPA-H, the Advanced Research Projects Agency for Health.\\nIt’s based on DARPA—the Defense Department project that led to the Internet, GPS, and so much more.\\nARPA-H will have a singular purpose—to drive breakthroughs in cancer, Alzheimer’s, diabetes, and more.\\n\\nA unity agenda for the nation.\\nWe can do this.\\nMy fellow Americans—tonight, we have gathered in a sacred space—the citadel of our democracy.\\nIn this Capitol, generation after generation, Americans have debated great questions amid great strife, and have done great things.\\nWe have fought for freedom, expanded liberty, defeated totalitarianism and terror.\\nAnd built the strongest, freest, and most prosperous nation the world has ever known.\\nNow is the hour.\\nOur moment of responsibility.\\nOur test of resolve and conscience, of history itself.\\nIt is in this moment that our character is formed. Our purpose is found. Our future is forged.\\nWell I know this nation.\\nWe will meet the test.\\nTo protect freedom and liberty, to expand fairness and opportunity.\\nWe will save democracy.\\nAs hard as these times have been, I am more optimistic about America today than I have been my whole life.\\nBecause I see the future that is within our grasp.\\nBecause I know there is simply nothing beyond our capacity.\\nWe are the only nation on Earth that has always turned every crisis we have faced into an opportunity.\\nThe only nation that can be defined by a single word: possibilities.\\nSo on this night, in our 245th year as a nation, I have come to report on the State of the Union.\\nAnd my report is this: the State of the Union is strong—because you, the American people, are strong.\\nWe are stronger today than we were a year ago.\\nAnd we will be stronger a year from now than we are today.\\nNow is our moment to meet and overcome the challenges of our time.\\nAnd we will, as one people.\\nOne America.\\nThe United States of America.\\nMay God bless you all. May God protect our troops.'"
      ]
     },
     "execution_count": 5,
     "metadata": {},
     "output_type": "execute_result"
    }
   ],
   "source": [
    "documents[0].page_content"
   ]
  },
  {
   "cell_type": "code",
   "execution_count": 6,
   "id": "40392cdc",
   "metadata": {},
   "outputs": [
    {
     "data": {
      "text/plain": [
       "<langchain.text_splitter.CharacterTextSplitter at 0x1c3ccbaab80>"
      ]
     },
     "execution_count": 6,
     "metadata": {},
     "output_type": "execute_result"
    }
   ],
   "source": [
    "text_splitter = CharacterTextSplitter(chunk_size=1000, chunk_overlap=0)\n",
    "text_splitter"
   ]
  },
  {
   "cell_type": "code",
   "execution_count": 7,
   "id": "4784e029",
   "metadata": {},
   "outputs": [
    {
     "name": "stderr",
     "output_type": "stream",
     "text": [
      "Created a chunk of size 2046, which is longer than the specified 1000\n"
     ]
    },
    {
     "data": {
      "text/plain": [
       "[Document(page_content='So tonight I’m offering a Unity Agenda for the Nation. Four big things we can do together.\\n\\nFirst, beat the opioid epidemic.\\nThere is so much we can do. Increase funding for prevention, treatment, harm reduction, and recovery.\\nGet rid of outdated rules that stop doctors from prescribing treatments. And stop the flow of illicit drugs by working with state and local law enforcement to go after traffickers.\\nIf you’re suffering from addiction, know you are not alone. I believe in recovery, and I celebrate the 23 million Americans in recovery.', metadata={'source': 'state_of_the_union.txt'}),\n",
       " Document(page_content='Second, let’s take on mental health. Especially among our children, whose lives and education have been turned upside down.\\nThe American Rescue Plan gave schools money to hire teachers and help students make up for lost learning.\\nI urge every parent to make sure your school does just that. And we can all play a part—sign up to be a tutor or a mentor.\\nChildren were also struggling before the pandemic. Bullying, violence, trauma, and the harms of social media.\\nAs Frances Haugen, who is here with us tonight, has shown, we must hold social media platforms accountable for the national experiment they’re conducting on our children for profit.\\nIt’s time to strengthen privacy protections, ban targeted advertising to children, demand tech companies stop collecting personal data on our children.\\nAnd let’s get all Americans the mental health services they need. More people they can turn to for help, and full parity between physical and mental health care.', metadata={'source': 'state_of_the_union.txt'}),\n",
       " Document(page_content='Third, support our veterans.\\nVeterans are the best of us.\\nI’ve always believed that we have a sacred obligation to equip all those we send to war and care for them and their families when they come home.\\nMy administration is providing assistance with job training and housing, and now helping lower-income veterans get VA care debt-free.\\nOur troops in Iraq and Afghanistan faced many dangers.\\nOne was stationed at bases and breathing in toxic smoke from “burn pits” that incinerated wastes of war—medical and hazard material, jet fuel, and more.\\nWhen they came home, many of the world’s fittest and best trained warriors were never the same.\\nHeadaches. Numbness. Dizziness.\\nA cancer that would put them in a flag-draped coffin.\\nI know.\\nOne of those soldiers was my son Major Beau Biden.\\nWe don’t know for sure if a burn pit was the cause of his brain cancer, or the diseases of so many of our troops.\\nBut I’m committed to finding out everything we can.\\nCommitted to military families like Danielle Robinson from Ohio.\\nThe widow of Sergeant First Class Heath Robinson.\\nHe was born a soldier. Army National Guard. Combat medic in Kosovo and Iraq.\\nStationed near Baghdad, just yards from burn pits the size of football fields.\\nHeath’s widow Danielle is here with us tonight. They loved going to Ohio State football games. He loved building Legos with their daughter.\\nBut cancer from prolonged exposure to burn pits ravaged Heath’s lungs and body.\\nDanielle says Heath was a fighter to the very end.\\nHe didn’t know how to stop fighting, and neither did she.\\nThrough her pain she found purpose to demand we do better.\\nTonight, Danielle—we are.\\nThe VA is pioneering new ways of linking toxic exposures to diseases, already helping more veterans get benefits.\\nAnd tonight, I’m announcing we’re expanding eligibility to veterans suffering from nine respiratory cancers.\\nI’m also calling on Congress: pass a law to make sure veterans devastated by toxic exposures in Iraq and Afghanistan finally get the benefits and comprehensive health care they deserve.', metadata={'source': 'state_of_the_union.txt'}),\n",
       " Document(page_content='Fourth, let’s end cancer as we know it.\\nThis is personal to me and Jill, to Kamala, and to so many of you.\\nCancer is the #2 cause of death in America–second only to heart disease.\\nLast month, I announced our plan to supercharge the Cancer Moonshot that President Obama asked me to lead six years ago.\\nOur goal is to cut the cancer death rate by at least 50% over the next 25 years, turn more cancers from death sentences into treatable diseases.\\nMore support for patients and families.\\nTo get there, I call on Congress to fund ARPA-H, the Advanced Research Projects Agency for Health.\\nIt’s based on DARPA—the Defense Department project that led to the Internet, GPS, and so much more.\\nARPA-H will have a singular purpose—to drive breakthroughs in cancer, Alzheimer’s, diabetes, and more.', metadata={'source': 'state_of_the_union.txt'}),\n",
       " Document(page_content='A unity agenda for the nation.\\nWe can do this.\\nMy fellow Americans—tonight, we have gathered in a sacred space—the citadel of our democracy.\\nIn this Capitol, generation after generation, Americans have debated great questions amid great strife, and have done great things.\\nWe have fought for freedom, expanded liberty, defeated totalitarianism and terror.\\nAnd built the strongest, freest, and most prosperous nation the world has ever known.\\nNow is the hour.\\nOur moment of responsibility.\\nOur test of resolve and conscience, of history itself.\\nIt is in this moment that our character is formed. Our purpose is found. Our future is forged.\\nWell I know this nation.\\nWe will meet the test.\\nTo protect freedom and liberty, to expand fairness and opportunity.\\nWe will save democracy.\\nAs hard as these times have been, I am more optimistic about America today than I have been my whole life.\\nBecause I see the future that is within our grasp.\\nBecause I know there is simply nothing beyond our capacity.\\nWe are the only nation on Earth that has always turned every crisis we have faced into an opportunity.\\nThe only nation that can be defined by a single word: possibilities.\\nSo on this night, in our 245th year as a nation, I have come to report on the State of the Union.\\nAnd my report is this: the State of the Union is strong—because you, the American people, are strong.\\nWe are stronger today than we were a year ago.\\nAnd we will be stronger a year from now than we are today.\\nNow is our moment to meet and overcome the challenges of our time.\\nAnd we will, as one people.\\nOne America.\\nThe United States of America.\\nMay God bless you all. May God protect our troops.', metadata={'source': 'state_of_the_union.txt'})]"
      ]
     },
     "execution_count": 7,
     "metadata": {},
     "output_type": "execute_result"
    }
   ],
   "source": [
    "docs = text_splitter.split_documents(documents)\n",
    "docs"
   ]
  },
  {
   "cell_type": "code",
   "execution_count": 8,
   "id": "7a69a21b",
   "metadata": {},
   "outputs": [
    {
     "data": {
      "text/plain": [
       "5"
      ]
     },
     "execution_count": 8,
     "metadata": {},
     "output_type": "execute_result"
    }
   ],
   "source": [
    "len(docs)"
   ]
  },
  {
   "cell_type": "code",
   "execution_count": 9,
   "id": "d6f0f46e",
   "metadata": {},
   "outputs": [],
   "source": [
    "embedding_function = SentenceTransformerEmbeddings(model_name= \"all-MiniLM-L6-v2\")"
   ]
  },
  {
   "cell_type": "code",
   "execution_count": 10,
   "id": "ec6a34a6",
   "metadata": {},
   "outputs": [
    {
     "data": {
      "text/plain": [
       "HuggingFaceEmbeddings(client=SentenceTransformer(\n",
       "  (0): Transformer({'max_seq_length': 256, 'do_lower_case': False}) with Transformer model: BertModel \n",
       "  (1): Pooling({'word_embedding_dimension': 384, 'pooling_mode_cls_token': False, 'pooling_mode_mean_tokens': True, 'pooling_mode_max_tokens': False, 'pooling_mode_mean_sqrt_len_tokens': False, 'pooling_mode_weightedmean_tokens': False, 'pooling_mode_lasttoken': False})\n",
       "  (2): Normalize()\n",
       "), model_name='all-MiniLM-L6-v2', cache_folder=None, model_kwargs={}, encode_kwargs={}, multi_process=False)"
      ]
     },
     "execution_count": 10,
     "metadata": {},
     "output_type": "execute_result"
    }
   ],
   "source": [
    "embedding_function"
   ]
  },
  {
   "cell_type": "code",
   "execution_count": 12,
   "id": "826c7356",
   "metadata": {},
   "outputs": [],
   "source": [
    "db = Chroma.from_documents(docs, embedding_function)"
   ]
  },
  {
   "cell_type": "code",
   "execution_count": 13,
   "id": "3b3438ab",
   "metadata": {},
   "outputs": [
    {
     "data": {
      "text/plain": [
       "<langchain_community.vectorstores.chroma.Chroma at 0x1c3d880f430>"
      ]
     },
     "execution_count": 13,
     "metadata": {},
     "output_type": "execute_result"
    }
   ],
   "source": [
    "db"
   ]
  },
  {
   "cell_type": "code",
   "execution_count": 14,
   "id": "31573e4d",
   "metadata": {},
   "outputs": [
    {
     "data": {
      "text/plain": [
       "'what actions does the speaker suggest to improve mental health, especially among children?'"
      ]
     },
     "execution_count": 14,
     "metadata": {},
     "output_type": "execute_result"
    }
   ],
   "source": [
    "query = 'what actions does the speaker suggest to improve mental health, especially among children?'\n",
    "query"
   ]
  },
  {
   "cell_type": "code",
   "execution_count": 15,
   "id": "f17bc914",
   "metadata": {},
   "outputs": [
    {
     "data": {
      "text/plain": [
       "[Document(page_content='Second, let’s take on mental health. Especially among our children, whose lives and education have been turned upside down.\\nThe American Rescue Plan gave schools money to hire teachers and help students make up for lost learning.\\nI urge every parent to make sure your school does just that. And we can all play a part—sign up to be a tutor or a mentor.\\nChildren were also struggling before the pandemic. Bullying, violence, trauma, and the harms of social media.\\nAs Frances Haugen, who is here with us tonight, has shown, we must hold social media platforms accountable for the national experiment they’re conducting on our children for profit.\\nIt’s time to strengthen privacy protections, ban targeted advertising to children, demand tech companies stop collecting personal data on our children.\\nAnd let’s get all Americans the mental health services they need. More people they can turn to for help, and full parity between physical and mental health care.', metadata={'source': 'state_of_the_union.txt'}),\n",
       " Document(page_content='Third, support our veterans.\\nVeterans are the best of us.\\nI’ve always believed that we have a sacred obligation to equip all those we send to war and care for them and their families when they come home.\\nMy administration is providing assistance with job training and housing, and now helping lower-income veterans get VA care debt-free.\\nOur troops in Iraq and Afghanistan faced many dangers.\\nOne was stationed at bases and breathing in toxic smoke from “burn pits” that incinerated wastes of war—medical and hazard material, jet fuel, and more.\\nWhen they came home, many of the world’s fittest and best trained warriors were never the same.\\nHeadaches. Numbness. Dizziness.\\nA cancer that would put them in a flag-draped coffin.\\nI know.\\nOne of those soldiers was my son Major Beau Biden.\\nWe don’t know for sure if a burn pit was the cause of his brain cancer, or the diseases of so many of our troops.\\nBut I’m committed to finding out everything we can.\\nCommitted to military families like Danielle Robinson from Ohio.\\nThe widow of Sergeant First Class Heath Robinson.\\nHe was born a soldier. Army National Guard. Combat medic in Kosovo and Iraq.\\nStationed near Baghdad, just yards from burn pits the size of football fields.\\nHeath’s widow Danielle is here with us tonight. They loved going to Ohio State football games. He loved building Legos with their daughter.\\nBut cancer from prolonged exposure to burn pits ravaged Heath’s lungs and body.\\nDanielle says Heath was a fighter to the very end.\\nHe didn’t know how to stop fighting, and neither did she.\\nThrough her pain she found purpose to demand we do better.\\nTonight, Danielle—we are.\\nThe VA is pioneering new ways of linking toxic exposures to diseases, already helping more veterans get benefits.\\nAnd tonight, I’m announcing we’re expanding eligibility to veterans suffering from nine respiratory cancers.\\nI’m also calling on Congress: pass a law to make sure veterans devastated by toxic exposures in Iraq and Afghanistan finally get the benefits and comprehensive health care they deserve.', metadata={'source': 'state_of_the_union.txt'}),\n",
       " Document(page_content='So tonight I’m offering a Unity Agenda for the Nation. Four big things we can do together.\\n\\nFirst, beat the opioid epidemic.\\nThere is so much we can do. Increase funding for prevention, treatment, harm reduction, and recovery.\\nGet rid of outdated rules that stop doctors from prescribing treatments. And stop the flow of illicit drugs by working with state and local law enforcement to go after traffickers.\\nIf you’re suffering from addiction, know you are not alone. I believe in recovery, and I celebrate the 23 million Americans in recovery.', metadata={'source': 'state_of_the_union.txt'}),\n",
       " Document(page_content='Fourth, let’s end cancer as we know it.\\nThis is personal to me and Jill, to Kamala, and to so many of you.\\nCancer is the #2 cause of death in America–second only to heart disease.\\nLast month, I announced our plan to supercharge the Cancer Moonshot that President Obama asked me to lead six years ago.\\nOur goal is to cut the cancer death rate by at least 50% over the next 25 years, turn more cancers from death sentences into treatable diseases.\\nMore support for patients and families.\\nTo get there, I call on Congress to fund ARPA-H, the Advanced Research Projects Agency for Health.\\nIt’s based on DARPA—the Defense Department project that led to the Internet, GPS, and so much more.\\nARPA-H will have a singular purpose—to drive breakthroughs in cancer, Alzheimer’s, diabetes, and more.', metadata={'source': 'state_of_the_union.txt'})]"
      ]
     },
     "execution_count": 15,
     "metadata": {},
     "output_type": "execute_result"
    }
   ],
   "source": [
    "result = db.similarity_search(query)\n",
    "result"
   ]
  },
  {
   "cell_type": "code",
   "execution_count": 16,
   "id": "5e932f10",
   "metadata": {},
   "outputs": [
    {
     "data": {
      "text/plain": [
       "'Second, let’s take on mental health. Especially among our children, whose lives and education have been turned upside down.\\nThe American Rescue Plan gave schools money to hire teachers and help students make up for lost learning.\\nI urge every parent to make sure your school does just that. And we can all play a part—sign up to be a tutor or a mentor.\\nChildren were also struggling before the pandemic. Bullying, violence, trauma, and the harms of social media.\\nAs Frances Haugen, who is here with us tonight, has shown, we must hold social media platforms accountable for the national experiment they’re conducting on our children for profit.\\nIt’s time to strengthen privacy protections, ban targeted advertising to children, demand tech companies stop collecting personal data on our children.\\nAnd let’s get all Americans the mental health services they need. More people they can turn to for help, and full parity between physical and mental health care.'"
      ]
     },
     "execution_count": 16,
     "metadata": {},
     "output_type": "execute_result"
    }
   ],
   "source": [
    "result[0].page_content"
   ]
  },
  {
   "cell_type": "code",
   "execution_count": 17,
   "id": "84e42045",
   "metadata": {},
   "outputs": [
    {
     "data": {
      "text/plain": [
       "'Third, support our veterans.\\nVeterans are the best of us.\\nI’ve always believed that we have a sacred obligation to equip all those we send to war and care for them and their families when they come home.\\nMy administration is providing assistance with job training and housing, and now helping lower-income veterans get VA care debt-free.\\nOur troops in Iraq and Afghanistan faced many dangers.\\nOne was stationed at bases and breathing in toxic smoke from “burn pits” that incinerated wastes of war—medical and hazard material, jet fuel, and more.\\nWhen they came home, many of the world’s fittest and best trained warriors were never the same.\\nHeadaches. Numbness. Dizziness.\\nA cancer that would put them in a flag-draped coffin.\\nI know.\\nOne of those soldiers was my son Major Beau Biden.\\nWe don’t know for sure if a burn pit was the cause of his brain cancer, or the diseases of so many of our troops.\\nBut I’m committed to finding out everything we can.\\nCommitted to military families like Danielle Robinson from Ohio.\\nThe widow of Sergeant First Class Heath Robinson.\\nHe was born a soldier. Army National Guard. Combat medic in Kosovo and Iraq.\\nStationed near Baghdad, just yards from burn pits the size of football fields.\\nHeath’s widow Danielle is here with us tonight. They loved going to Ohio State football games. He loved building Legos with their daughter.\\nBut cancer from prolonged exposure to burn pits ravaged Heath’s lungs and body.\\nDanielle says Heath was a fighter to the very end.\\nHe didn’t know how to stop fighting, and neither did she.\\nThrough her pain she found purpose to demand we do better.\\nTonight, Danielle—we are.\\nThe VA is pioneering new ways of linking toxic exposures to diseases, already helping more veterans get benefits.\\nAnd tonight, I’m announcing we’re expanding eligibility to veterans suffering from nine respiratory cancers.\\nI’m also calling on Congress: pass a law to make sure veterans devastated by toxic exposures in Iraq and Afghanistan finally get the benefits and comprehensive health care they deserve.'"
      ]
     },
     "execution_count": 17,
     "metadata": {},
     "output_type": "execute_result"
    }
   ],
   "source": [
    "result[1].page_content"
   ]
  },
  {
   "cell_type": "code",
   "execution_count": 21,
   "id": "255abad2",
   "metadata": {},
   "outputs": [],
   "source": [
    "db2 = Chroma.from_documents(docs, embedding_function, persist_directory=\"./chroma_db_new\")"
   ]
  },
  {
   "cell_type": "code",
   "execution_count": 22,
   "id": "40bd098d",
   "metadata": {},
   "outputs": [],
   "source": [
    "db3 = Chroma(persist_directory=\"./chroma_db_new\", embedding_function=embedding_function)"
   ]
  },
  {
   "cell_type": "code",
   "execution_count": 23,
   "id": "620e7df7",
   "metadata": {},
   "outputs": [
    {
     "data": {
      "text/plain": [
       "<langchain_community.vectorstores.chroma.Chroma at 0x1c3dd951040>"
      ]
     },
     "execution_count": 23,
     "metadata": {},
     "output_type": "execute_result"
    }
   ],
   "source": [
    "db3"
   ]
  },
  {
   "cell_type": "code",
   "execution_count": 25,
   "id": "c39dc5de",
   "metadata": {},
   "outputs": [
    {
     "data": {
      "text/plain": [
       "[Document(page_content='Second, let’s take on mental health. Especially among our children, whose lives and education have been turned upside down.\\nThe American Rescue Plan gave schools money to hire teachers and help students make up for lost learning.\\nI urge every parent to make sure your school does just that. And we can all play a part—sign up to be a tutor or a mentor.\\nChildren were also struggling before the pandemic. Bullying, violence, trauma, and the harms of social media.\\nAs Frances Haugen, who is here with us tonight, has shown, we must hold social media platforms accountable for the national experiment they’re conducting on our children for profit.\\nIt’s time to strengthen privacy protections, ban targeted advertising to children, demand tech companies stop collecting personal data on our children.\\nAnd let’s get all Americans the mental health services they need. More people they can turn to for help, and full parity between physical and mental health care.', metadata={'source': 'state_of_the_union.txt'})]"
      ]
     },
     "execution_count": 25,
     "metadata": {},
     "output_type": "execute_result"
    }
   ],
   "source": [
    "result1 = db3.similarity_search(query, k=1)\n",
    "result1"
   ]
  },
  {
   "cell_type": "code",
   "execution_count": 26,
   "id": "3e3ef648",
   "metadata": {},
   "outputs": [
    {
     "data": {
      "text/plain": [
       "[(Document(page_content='Second, let’s take on mental health. Especially among our children, whose lives and education have been turned upside down.\\nThe American Rescue Plan gave schools money to hire teachers and help students make up for lost learning.\\nI urge every parent to make sure your school does just that. And we can all play a part—sign up to be a tutor or a mentor.\\nChildren were also struggling before the pandemic. Bullying, violence, trauma, and the harms of social media.\\nAs Frances Haugen, who is here with us tonight, has shown, we must hold social media platforms accountable for the national experiment they’re conducting on our children for profit.\\nIt’s time to strengthen privacy protections, ban targeted advertising to children, demand tech companies stop collecting personal data on our children.\\nAnd let’s get all Americans the mental health services they need. More people they can turn to for help, and full parity between physical and mental health care.', metadata={'source': 'state_of_the_union.txt'}),\n",
       "  1.0879743681157674)]"
      ]
     },
     "execution_count": 26,
     "metadata": {},
     "output_type": "execute_result"
    }
   ],
   "source": [
    "result2 = db3.similarity_search_with_score(query, k=1)\n",
    "result2"
   ]
  },
  {
   "cell_type": "code",
   "execution_count": null,
   "id": "2d7bf40c",
   "metadata": {},
   "outputs": [],
   "source": []
  }
 ],
 "metadata": {
  "kernelspec": {
   "display_name": "Python 3 (ipykernel)",
   "language": "python",
   "name": "python3"
  },
  "language_info": {
   "codemirror_mode": {
    "name": "ipython",
    "version": 3
   },
   "file_extension": ".py",
   "mimetype": "text/x-python",
   "name": "python",
   "nbconvert_exporter": "python",
   "pygments_lexer": "ipython3",
   "version": "3.11.7"
  }
 },
 "nbformat": 4,
 "nbformat_minor": 5
}
